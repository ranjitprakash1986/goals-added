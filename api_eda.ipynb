{
 "cells": [
  {
   "cell_type": "code",
   "execution_count": 1,
   "id": "e2250811-19e1-4914-ba25-774407593169",
   "metadata": {},
   "outputs": [],
   "source": [
    "## imports\n",
    "\n",
    "import pandas as pd\n",
    "import numpy as np\n",
    "import os\n",
    "import seaborn as sns\n",
    "import matplotlib.pyplot as plt\n",
    "\n",
    "from tqdm import tqdm\n",
    "from ast import literal_eval"
   ]
  },
  {
   "cell_type": "code",
   "execution_count": 2,
   "id": "7bcbee89-28c5-468f-8446-ee72c1e12972",
   "metadata": {},
   "outputs": [
    {
     "name": "stdout",
     "output_type": "stream",
     "text": [
      "Gathering all players\n",
      "Gathering all teams\n",
      "Gathering all stadia\n",
      "Gathering all managers\n",
      "Gathering all referees\n",
      "Finished initializing client\n"
     ]
    }
   ],
   "source": [
    "# other imports\n",
    "from itscalledsoccer.client import AmericanSoccerAnalysis\n",
    "asa_client = AmericanSoccerAnalysis()"
   ]
  },
  {
   "cell_type": "markdown",
   "id": "ceb93026-2e11-40cc-88c7-4d285ac8f3b0",
   "metadata": {},
   "source": [
    "### Getting the data from the API"
   ]
  },
  {
   "cell_type": "code",
   "execution_count": 3,
   "id": "4b561214-767b-4297-a209-e6e14650bdb8",
   "metadata": {},
   "outputs": [
    {
     "data": {
      "text/plain": [
       "['stadium_id',\n",
       " 'stadium_name',\n",
       " 'capacity',\n",
       " 'year_built',\n",
       " 'roof',\n",
       " 'turf',\n",
       " 'street',\n",
       " 'city',\n",
       " 'province',\n",
       " 'country',\n",
       " 'postal_code',\n",
       " 'latitude',\n",
       " 'longitude',\n",
       " 'field_x',\n",
       " 'field_y',\n",
       " 'competition']"
      ]
     },
     "execution_count": 3,
     "metadata": {},
     "output_type": "execute_result"
    }
   ],
   "source": [
    "stadia = asa_client.get_stadia(leagues='mls')\n",
    "stadia.columns.to_list()"
   ]
  },
  {
   "cell_type": "code",
   "execution_count": 4,
   "id": "0f484440-dabd-4c68-9f10-7f6951294e19",
   "metadata": {},
   "outputs": [
    {
     "data": {
      "text/plain": [
       "['referee_id', 'referee_name', 'nationality', 'birth_date', 'competition']"
      ]
     },
     "execution_count": 4,
     "metadata": {},
     "output_type": "execute_result"
    }
   ],
   "source": [
    "refrees = asa_client.get_referees(leagues='mls')\n",
    "refrees.columns.to_list()"
   ]
  },
  {
   "cell_type": "code",
   "execution_count": 5,
   "id": "21d7d166-fa50-4a3a-a944-04802f5b6e68",
   "metadata": {},
   "outputs": [
    {
     "data": {
      "text/plain": [
       "['manager_id', 'manager_name', 'nationality', 'competition']"
      ]
     },
     "execution_count": 5,
     "metadata": {},
     "output_type": "execute_result"
    }
   ],
   "source": [
    "managers = asa_client.get_managers(leagues='mls')\n",
    "managers.columns.to_list()"
   ]
  },
  {
   "cell_type": "code",
   "execution_count": 6,
   "id": "6b814232-4090-49de-b02d-5f47c05fe840",
   "metadata": {},
   "outputs": [
    {
     "data": {
      "text/plain": [
       "['team_id', 'team_name', 'team_short_name', 'team_abbreviation', 'competition']"
      ]
     },
     "execution_count": 6,
     "metadata": {},
     "output_type": "execute_result"
    }
   ],
   "source": [
    "teams = asa_client.get_teams(leagues='mls')\n",
    "teams.columns.to_list()"
   ]
  },
  {
   "cell_type": "code",
   "execution_count": 7,
   "id": "cac99191-d5f9-4d4e-b3ee-834a126df86a",
   "metadata": {},
   "outputs": [
    {
     "data": {
      "text/plain": [
       "['player_id',\n",
       " 'player_name',\n",
       " 'birth_date',\n",
       " 'nationality',\n",
       " 'primary_broad_position',\n",
       " 'primary_general_position',\n",
       " 'secondary_broad_position',\n",
       " 'secondary_general_position',\n",
       " 'season_name',\n",
       " 'height_ft',\n",
       " 'height_in',\n",
       " 'weight_lb',\n",
       " 'competition']"
      ]
     },
     "execution_count": 7,
     "metadata": {},
     "output_type": "execute_result"
    }
   ],
   "source": [
    "players = asa_client.get_players(leagues='mls')\n",
    "players.columns.to_list()"
   ]
  },
  {
   "cell_type": "code",
   "execution_count": 8,
   "id": "14e78ade-da35-4a93-8b22-884924d7b250",
   "metadata": {},
   "outputs": [
    {
     "data": {
      "text/plain": [
       "['game_id',\n",
       " 'date_time_utc',\n",
       " 'home_score',\n",
       " 'away_score',\n",
       " 'home_team_id',\n",
       " 'away_team_id',\n",
       " 'referee_id',\n",
       " 'stadium_id',\n",
       " 'home_manager_id',\n",
       " 'away_manager_id',\n",
       " 'expanded_minutes',\n",
       " 'season_name',\n",
       " 'matchday',\n",
       " 'attendance',\n",
       " 'knockout_game',\n",
       " 'last_updated_utc',\n",
       " 'extra_time',\n",
       " 'penalties',\n",
       " 'home_penalties',\n",
       " 'away_penalties']"
      ]
     },
     "execution_count": 8,
     "metadata": {},
     "output_type": "execute_result"
    }
   ],
   "source": [
    "games = asa_client.get_games(leagues='mls')\n",
    "games.columns.to_list()"
   ]
  },
  {
   "cell_type": "markdown",
   "id": "78153514-29f8-48d8-98c2-46365aff42f7",
   "metadata": {},
   "source": [
    "### Functions to filter the data"
   ]
  },
  {
   "cell_type": "code",
   "execution_count": 9,
   "id": "742496bf-a3fe-498d-8fd5-f89b1949c59a",
   "metadata": {},
   "outputs": [],
   "source": [
    "def filter_metric(players_df, games_df, client=asa_client, method='get_player_xgoals', start_season=2020, end_season=2023):\n",
    "    '''\n",
    "    returns df of player specific metric in the given season start to end ranges\n",
    "    returned df contains the metric and the season_name column\n",
    "    '''\n",
    "    desired_range = [str(yr) for yr in list(range(start_season, end_season+1))]\n",
    "    players_df = players_df[players_df['season_name'].apply(lambda seasons: set(seasons).issuperset(set(desired_range)))]    \n",
    "    \n",
    "    # getting the specific metric\n",
    "    player_id_list = list(players_df.player_id.unique())\n",
    "    \n",
    "    dfs = []\n",
    "    \n",
    "    # get the method based on the client and the method name specified as arguments\n",
    "    if hasattr(client, method):\n",
    "        func = getattr(client, method)\n",
    "    \n",
    "    # columns to keep based on provided method\n",
    "    \n",
    "    if method == 'get_player_xgoals':\n",
    "        columns_to_keep = ['player_id', 'minutes_played','xgoals', 'xassists', 'season_name']\n",
    "    if method == 'get_player_xpass':\n",
    "        columns_to_keep = ['player_id', 'minutes_played', 'attempted_passes', 'xpass_completion_percentage','season_name']\n",
    "    if method == 'get_player_goals_added' or method == 'get_goalkeeper_goals_added':\n",
    "        columns_to_keep = ['player_id', 'minutes_played', 'data', 'season_name']   \n",
    "    if method == 'get_goalkeeper_xgoals':\n",
    "        columns_to_keep = ['player_id', 'minutes_played', 'xgoals_gk_faced', 'saves', 'goals_conceded','season_name']         \n",
    "        \n",
    "    # iterate to get the dfs per player id\n",
    "    for player_id in tqdm(player_id_list):\n",
    "        print(f\"Getting the metrics for {player_id}\") \n",
    "        df = func(leagues = 'mls', player_ids = player_id, season_name=desired_range, split_by_games = True)\n",
    "        \n",
    "        # filter to meet minimum play time\n",
    "        df = df[df['minutes_played']>=30]\n",
    "        \n",
    "        # add season name to the df\n",
    "        df = pd.merge(df, games_df, on='game_id', how='left')\n",
    "        \n",
    "        # keep only wanted columns\n",
    "        df = df[columns_to_keep].sort_values(by='season_name')\n",
    "        \n",
    "        # if the columns to keeo has a data columns of dictionaries then do the following\n",
    "        if 'data' in columns_to_keep:\n",
    "            print('reorganizing columns')\n",
    "            reorganized_df_list = [] \n",
    "            for i,row in df.iterrows():\n",
    "                df_ = pd.json_normalize(row['data'])[['action_type', 'goals_added_raw']].T\n",
    "                df_.columns = df_.iloc[0]\n",
    "                df_ = df_[1:]\n",
    "                reorganized_df_list.append(df_)\n",
    "\n",
    "            reorganized_df = pd.concat(reorganized_df_list, axis = 0).reset_index(drop = True)\n",
    "            \n",
    "            # concatenate the reorganized df with the orginal df, drop the data column\n",
    "            df = pd.concat([df, reorganized_df], axis = 1).drop('data', axis=1)\n",
    "            df['goals_added_total'] = df['Dribbling'] + df['Fouling'] + df['Interrupting'] + df['Passing'] + df['Receiving']+ df['Shooting']\n",
    "            \n",
    "        dfs.append(df)\n",
    "    \n",
    "    # concatenate and return result\n",
    "    df_concat = pd.concat(dfs, ignore_index=True)\n",
    "    \n",
    "    # write to csv\n",
    "    folder = 'data'\n",
    "    df_name = str(f'{players_df}')\n",
    "    if not os.path.exists(folder):\n",
    "        os.mkdirs(folder)\n",
    "    export_path = folder + '/' + f'filtered_players'+ '_'+ f'{method}' + '.csv'\n",
    "    print(export_path)\n",
    "    df_concat.to_csv(export_path, index = False)\n",
    "    \n",
    "    return df_concat"
   ]
  },
  {
   "cell_type": "code",
   "execution_count": 10,
   "id": "6799065f-721a-40a0-8c34-ff4080da7a7d",
   "metadata": {},
   "outputs": [],
   "source": [
    "## Latent Metrics - Discrimination\n",
    "\n",
    "def discrimination_season(df, metric='xgoals', season = 2020):\n",
    "    ''' returns discrimination ability of the metric in the specified season''' \n",
    "    \n",
    "    # Noise to avoid zero division error\n",
    "    eta = 0.001\n",
    "    \n",
    "    # Filter rows with non-null values in the specified column\n",
    "    data = df[['season_name', 'player_id', metric]].dropna(subset=[metric])\n",
    "    # Filter rows based on the specified season\n",
    "    data = data[data['season_name'] == season]\n",
    "    \n",
    "    # Count the number of data points for each player\n",
    "    # player_data_counts = data.groupby('player_id').size()\n",
    "\n",
    "    # Filter out player_ids with less than two data points for the metric\n",
    "    # valid_player_ids = player_data_counts[player_data_counts >= 2].index\n",
    "    # data = data[data['player_id'].isin(valid_player_ids)]\n",
    "    \n",
    "    # Calculate sample intra_variance and sample cross_variance\n",
    "    data['cross_variance'] = data[metric].var(ddof=0)\n",
    "    result_data = data.groupby('player_id').agg(\n",
    "        intra_variance=pd.NamedAgg(column=metric, aggfunc=lambda x: x.var(ddof=0)),\n",
    "        cross_variance=pd.NamedAgg(column='cross_variance', aggfunc='mean')\n",
    "    )\n",
    "    \n",
    "    # Calculate and return the discrimination score\n",
    "    return 1 - ((result_data['intra_variance'].mean()+eta) / (result_data['cross_variance'].mean()+eta))"
   ]
  },
  {
   "cell_type": "code",
   "execution_count": 11,
   "id": "6976013b-cec6-4442-a9e8-a7308ca23bb3",
   "metadata": {},
   "outputs": [],
   "source": [
    "# Latent metrics - Stability\n",
    "\n",
    "def stability_scores(df, metric='xgoals'):\n",
    "    '''\n",
    "    returns the stability metric \n",
    "    '''\n",
    "    # noise to avoid zero division error\n",
    "    eta = 0.001\n",
    "    \n",
    "    btw_season_variance = df.groupby('player_id').agg(\n",
    "       bs_variance=pd.NamedAgg(column=metric, aggfunc=lambda x: x.var(ddof=0))\n",
    "    )['bs_variance'].mean()\n",
    "    \n",
    "    within_season_player_variance = df.groupby(['player_id', 'season_name']).agg(\n",
    "        wsp_variance=pd.NamedAgg(column=metric, aggfunc=lambda x: x.var(ddof=0))\n",
    "    )['wsp_variance'].mean()\n",
    "    \n",
    "    overall_variance = df[metric].var(ddof=0)\n",
    "    \n",
    "    stability = 1 - (((btw_season_variance - within_season_player_variance)+eta) / ((overall_variance - within_season_player_variance)+eta))\n",
    "    \n",
    "    return stability"
   ]
  },
  {
   "cell_type": "markdown",
   "id": "e7aeb846-d79a-4257-b5b9-ceb77b72deaf",
   "metadata": {},
   "source": [
    "## Filtering out the players of interest"
   ]
  },
  {
   "cell_type": "code",
   "execution_count": 12,
   "id": "8e53e4a8-a94e-46bb-9ce1-e74ca075085c",
   "metadata": {},
   "outputs": [],
   "source": [
    "# midfielders, primary position\n",
    "players_midfield = players[players['primary_broad_position']== 'MF']"
   ]
  },
  {
   "cell_type": "code",
   "execution_count": 13,
   "id": "02d52271-f79c-43a0-bfaa-718468bb294c",
   "metadata": {},
   "outputs": [],
   "source": [
    "# select the midfielders who played in sesons 2020 to 2023\n",
    "start_season = 2018\n",
    "end_season = 2023\n",
    "desired_range = [str(yr) for yr in list(range(start_season, end_season+1))]\n",
    "\n",
    "players_midfield = players_midfield[players_midfield['season_name'].apply(lambda seasons: set(seasons).issuperset(set(desired_range)))]"
   ]
  },
  {
   "cell_type": "code",
   "execution_count": 14,
   "id": "672d9c59-0006-4f64-ae4b-0395bbe7c116",
   "metadata": {},
   "outputs": [
    {
     "data": {
      "text/plain": [
       "(57, 13)"
      ]
     },
     "execution_count": 14,
     "metadata": {},
     "output_type": "execute_result"
    }
   ],
   "source": [
    "# Number of players to assess\n",
    "players_midfield.shape"
   ]
  },
  {
   "cell_type": "code",
   "execution_count": 15,
   "id": "06164e1e-1b86-4c8b-b736-fff77ccbc80d",
   "metadata": {
    "tags": []
   },
   "outputs": [
    {
     "data": {
      "text/html": [
       "<div>\n",
       "<style scoped>\n",
       "    .dataframe tbody tr th:only-of-type {\n",
       "        vertical-align: middle;\n",
       "    }\n",
       "\n",
       "    .dataframe tbody tr th {\n",
       "        vertical-align: top;\n",
       "    }\n",
       "\n",
       "    .dataframe thead th {\n",
       "        text-align: right;\n",
       "    }\n",
       "</style>\n",
       "<table border=\"1\" class=\"dataframe\">\n",
       "  <thead>\n",
       "    <tr style=\"text-align: right;\">\n",
       "      <th></th>\n",
       "      <th>player_id</th>\n",
       "      <th>player_name</th>\n",
       "    </tr>\n",
       "  </thead>\n",
       "  <tbody>\n",
       "    <tr>\n",
       "      <th>0</th>\n",
       "      <td>0Oq6lyNdM6</td>\n",
       "      <td>Wil Trapp</td>\n",
       "    </tr>\n",
       "    <tr>\n",
       "      <th>1</th>\n",
       "      <td>0Oq6wv26Q6</td>\n",
       "      <td>Jonathan Lewis</td>\n",
       "    </tr>\n",
       "    <tr>\n",
       "      <th>2</th>\n",
       "      <td>0x5gXlrq7O</td>\n",
       "      <td>Roger Espinoza</td>\n",
       "    </tr>\n",
       "    <tr>\n",
       "      <th>3</th>\n",
       "      <td>2lqRRvNxqr</td>\n",
       "      <td>Scott Caldwell</td>\n",
       "    </tr>\n",
       "    <tr>\n",
       "      <th>4</th>\n",
       "      <td>2lqRRZy2qr</td>\n",
       "      <td>Ilie Sánchez</td>\n",
       "    </tr>\n",
       "    <tr>\n",
       "      <th>5</th>\n",
       "      <td>2vQ1LYxbqr</td>\n",
       "      <td>Paul Arriola</td>\n",
       "    </tr>\n",
       "    <tr>\n",
       "      <th>6</th>\n",
       "      <td>2vQ1LYY0qr</td>\n",
       "      <td>Emmanuel Boateng</td>\n",
       "    </tr>\n",
       "    <tr>\n",
       "      <th>7</th>\n",
       "      <td>4JMAaaxkMK</td>\n",
       "      <td>Sebastian Lletget</td>\n",
       "    </tr>\n",
       "    <tr>\n",
       "      <th>8</th>\n",
       "      <td>4wM42Belqj</td>\n",
       "      <td>Mark Delgado</td>\n",
       "    </tr>\n",
       "    <tr>\n",
       "      <th>9</th>\n",
       "      <td>7vQ73NxYQD</td>\n",
       "      <td>Kelyn Rowe</td>\n",
       "    </tr>\n",
       "    <tr>\n",
       "      <th>10</th>\n",
       "      <td>7vQ7rPpOqD</td>\n",
       "      <td>Russell Canouse</td>\n",
       "    </tr>\n",
       "    <tr>\n",
       "      <th>11</th>\n",
       "      <td>7VqGj3RA5v</td>\n",
       "      <td>Samuel Piette</td>\n",
       "    </tr>\n",
       "    <tr>\n",
       "      <th>12</th>\n",
       "      <td>9vQ22OOoQK</td>\n",
       "      <td>Jackson Yueill</td>\n",
       "    </tr>\n",
       "    <tr>\n",
       "      <th>13</th>\n",
       "      <td>9vQ2d3X75K</td>\n",
       "      <td>Kellyn Acosta</td>\n",
       "    </tr>\n",
       "    <tr>\n",
       "      <th>14</th>\n",
       "      <td>9vQ2dAKY5K</td>\n",
       "      <td>Sean Davis</td>\n",
       "    </tr>\n",
       "    <tr>\n",
       "      <th>15</th>\n",
       "      <td>a35rlyZ4QL</td>\n",
       "      <td>Diego Chara</td>\n",
       "    </tr>\n",
       "    <tr>\n",
       "      <th>16</th>\n",
       "      <td>aDQ0PjnGQE</td>\n",
       "      <td>Tommy McNamara</td>\n",
       "    </tr>\n",
       "    <tr>\n",
       "      <th>17</th>\n",
       "      <td>BLMv1GlQxe</td>\n",
       "      <td>Albert Rusnák</td>\n",
       "    </tr>\n",
       "    <tr>\n",
       "      <th>18</th>\n",
       "      <td>BLMvlPy3qx</td>\n",
       "      <td>Russell Teibert</td>\n",
       "    </tr>\n",
       "    <tr>\n",
       "      <th>19</th>\n",
       "      <td>e7Mz9DgGQr</td>\n",
       "      <td>Jack Price</td>\n",
       "    </tr>\n",
       "    <tr>\n",
       "      <th>20</th>\n",
       "      <td>eV5D9A9qKn</td>\n",
       "      <td>Sebastián Blanco</td>\n",
       "    </tr>\n",
       "    <tr>\n",
       "      <th>21</th>\n",
       "      <td>eV5DLedE5K</td>\n",
       "      <td>Latif Blessing</td>\n",
       "    </tr>\n",
       "    <tr>\n",
       "      <th>22</th>\n",
       "      <td>eVq3a8XyMW</td>\n",
       "      <td>Ismael Tajouri-Shradi</td>\n",
       "    </tr>\n",
       "    <tr>\n",
       "      <th>23</th>\n",
       "      <td>eVq3apWvMW</td>\n",
       "      <td>Pedro Santos</td>\n",
       "    </tr>\n",
       "    <tr>\n",
       "      <th>24</th>\n",
       "      <td>eVq3jYZv5W</td>\n",
       "      <td>Derrick Jones</td>\n",
       "    </tr>\n",
       "    <tr>\n",
       "      <th>25</th>\n",
       "      <td>eVq3xXDDQW</td>\n",
       "      <td>Cristian Cásseres Jr</td>\n",
       "    </tr>\n",
       "    <tr>\n",
       "      <th>26</th>\n",
       "      <td>gjMNv7PpMK</td>\n",
       "      <td>Aníbal Godoy</td>\n",
       "    </tr>\n",
       "    <tr>\n",
       "      <th>27</th>\n",
       "      <td>gjMNvjYvMK</td>\n",
       "      <td>Darlington Nagbe</td>\n",
       "    </tr>\n",
       "    <tr>\n",
       "      <th>28</th>\n",
       "      <td>gOMn66nAMw</td>\n",
       "      <td>Alexander Ring</td>\n",
       "    </tr>\n",
       "    <tr>\n",
       "      <th>29</th>\n",
       "      <td>gOMnR96lMw</td>\n",
       "      <td>Alex Muyl</td>\n",
       "    </tr>\n",
       "    <tr>\n",
       "      <th>30</th>\n",
       "      <td>gOMnRPxXMw</td>\n",
       "      <td>Michael Barrios</td>\n",
       "    </tr>\n",
       "    <tr>\n",
       "      <th>31</th>\n",
       "      <td>gpMOa6zrqz</td>\n",
       "      <td>Derrick Etienne</td>\n",
       "    </tr>\n",
       "    <tr>\n",
       "      <th>32</th>\n",
       "      <td>gpMOyGlqzy</td>\n",
       "      <td>Kevin Molino</td>\n",
       "    </tr>\n",
       "    <tr>\n",
       "      <th>33</th>\n",
       "      <td>jYQJOaZMGR</td>\n",
       "      <td>Osvaldo Alonso</td>\n",
       "    </tr>\n",
       "    <tr>\n",
       "      <th>34</th>\n",
       "      <td>KAqBjWZBqb</td>\n",
       "      <td>Jonathan Osorio</td>\n",
       "    </tr>\n",
       "    <tr>\n",
       "      <th>35</th>\n",
       "      <td>KPqj7jY4Q6</td>\n",
       "      <td>Mark-Anthony Kaye</td>\n",
       "    </tr>\n",
       "    <tr>\n",
       "      <th>36</th>\n",
       "      <td>KPqj7OVPQ6</td>\n",
       "      <td>Fabian Herbers</td>\n",
       "    </tr>\n",
       "    <tr>\n",
       "      <th>37</th>\n",
       "      <td>KPqjodRYQ6</td>\n",
       "      <td>Júnior Moreno</td>\n",
       "    </tr>\n",
       "    <tr>\n",
       "      <th>38</th>\n",
       "      <td>KPqjodW4Q6</td>\n",
       "      <td>Dairon Asprilla</td>\n",
       "    </tr>\n",
       "    <tr>\n",
       "      <th>39</th>\n",
       "      <td>KPqjzJ2q6v</td>\n",
       "      <td>Maximiliano Morález</td>\n",
       "    </tr>\n",
       "    <tr>\n",
       "      <th>40</th>\n",
       "      <td>kRQa207YMK</td>\n",
       "      <td>Paxton Pomykal</td>\n",
       "    </tr>\n",
       "    <tr>\n",
       "      <th>41</th>\n",
       "      <td>KXMe4l1Q64</td>\n",
       "      <td>Alejandro Bedoya</td>\n",
       "    </tr>\n",
       "    <tr>\n",
       "      <th>42</th>\n",
       "      <td>KXMeAPkM64</td>\n",
       "      <td>Dax McCarty</td>\n",
       "    </tr>\n",
       "    <tr>\n",
       "      <th>43</th>\n",
       "      <td>ljqE2EWkQx</td>\n",
       "      <td>Cristhian Paredes</td>\n",
       "    </tr>\n",
       "    <tr>\n",
       "      <th>44</th>\n",
       "      <td>ljqE2PwVQx</td>\n",
       "      <td>Memo Rodríguez</td>\n",
       "    </tr>\n",
       "    <tr>\n",
       "      <th>45</th>\n",
       "      <td>ljqEjLaEQx</td>\n",
       "      <td>Diego Fagundez</td>\n",
       "    </tr>\n",
       "    <tr>\n",
       "      <th>46</th>\n",
       "      <td>NWMWeDYqlz</td>\n",
       "      <td>Nicolás Lodeiro</td>\n",
       "    </tr>\n",
       "    <tr>\n",
       "      <th>47</th>\n",
       "      <td>Oa5wVgVYM1</td>\n",
       "      <td>Chris Mueller</td>\n",
       "    </tr>\n",
       "    <tr>\n",
       "      <th>48</th>\n",
       "      <td>p6qbenoB50</td>\n",
       "      <td>Ethan Finlay</td>\n",
       "    </tr>\n",
       "    <tr>\n",
       "      <th>49</th>\n",
       "      <td>raMyAGEBMd</td>\n",
       "      <td>Fafa Picault</td>\n",
       "    </tr>\n",
       "    <tr>\n",
       "      <th>50</th>\n",
       "      <td>raMyAZR2Md</td>\n",
       "      <td>Cristian Roldan</td>\n",
       "    </tr>\n",
       "    <tr>\n",
       "      <th>51</th>\n",
       "      <td>Vj58YwDDq8</td>\n",
       "      <td>Justin Meram</td>\n",
       "    </tr>\n",
       "    <tr>\n",
       "      <th>52</th>\n",
       "      <td>Vj58zZ2Q8n</td>\n",
       "      <td>Michael Bradley</td>\n",
       "    </tr>\n",
       "    <tr>\n",
       "      <th>53</th>\n",
       "      <td>wvq9bOBQWn</td>\n",
       "      <td>Felipe</td>\n",
       "    </tr>\n",
       "    <tr>\n",
       "      <th>54</th>\n",
       "      <td>wvq9pBZm5W</td>\n",
       "      <td>Uri Rosell</td>\n",
       "    </tr>\n",
       "    <tr>\n",
       "      <th>55</th>\n",
       "      <td>xW5prbllQg</td>\n",
       "      <td>Artur</td>\n",
       "    </tr>\n",
       "    <tr>\n",
       "      <th>56</th>\n",
       "      <td>zeQZJX6KQK</td>\n",
       "      <td>Victor Ulloa</td>\n",
       "    </tr>\n",
       "  </tbody>\n",
       "</table>\n",
       "</div>"
      ],
      "text/plain": [
       "     player_id            player_name\n",
       "0   0Oq6lyNdM6              Wil Trapp\n",
       "1   0Oq6wv26Q6         Jonathan Lewis\n",
       "2   0x5gXlrq7O         Roger Espinoza\n",
       "3   2lqRRvNxqr         Scott Caldwell\n",
       "4   2lqRRZy2qr           Ilie Sánchez\n",
       "5   2vQ1LYxbqr           Paul Arriola\n",
       "6   2vQ1LYY0qr       Emmanuel Boateng\n",
       "7   4JMAaaxkMK      Sebastian Lletget\n",
       "8   4wM42Belqj           Mark Delgado\n",
       "9   7vQ73NxYQD             Kelyn Rowe\n",
       "10  7vQ7rPpOqD        Russell Canouse\n",
       "11  7VqGj3RA5v          Samuel Piette\n",
       "12  9vQ22OOoQK         Jackson Yueill\n",
       "13  9vQ2d3X75K          Kellyn Acosta\n",
       "14  9vQ2dAKY5K             Sean Davis\n",
       "15  a35rlyZ4QL            Diego Chara\n",
       "16  aDQ0PjnGQE         Tommy McNamara\n",
       "17  BLMv1GlQxe          Albert Rusnák\n",
       "18  BLMvlPy3qx        Russell Teibert\n",
       "19  e7Mz9DgGQr             Jack Price\n",
       "20  eV5D9A9qKn       Sebastián Blanco\n",
       "21  eV5DLedE5K         Latif Blessing\n",
       "22  eVq3a8XyMW  Ismael Tajouri-Shradi\n",
       "23  eVq3apWvMW           Pedro Santos\n",
       "24  eVq3jYZv5W          Derrick Jones\n",
       "25  eVq3xXDDQW   Cristian Cásseres Jr\n",
       "26  gjMNv7PpMK           Aníbal Godoy\n",
       "27  gjMNvjYvMK       Darlington Nagbe\n",
       "28  gOMn66nAMw         Alexander Ring\n",
       "29  gOMnR96lMw              Alex Muyl\n",
       "30  gOMnRPxXMw        Michael Barrios\n",
       "31  gpMOa6zrqz        Derrick Etienne\n",
       "32  gpMOyGlqzy           Kevin Molino\n",
       "33  jYQJOaZMGR         Osvaldo Alonso\n",
       "34  KAqBjWZBqb        Jonathan Osorio\n",
       "35  KPqj7jY4Q6      Mark-Anthony Kaye\n",
       "36  KPqj7OVPQ6         Fabian Herbers\n",
       "37  KPqjodRYQ6          Júnior Moreno\n",
       "38  KPqjodW4Q6        Dairon Asprilla\n",
       "39  KPqjzJ2q6v    Maximiliano Morález\n",
       "40  kRQa207YMK         Paxton Pomykal\n",
       "41  KXMe4l1Q64       Alejandro Bedoya\n",
       "42  KXMeAPkM64            Dax McCarty\n",
       "43  ljqE2EWkQx      Cristhian Paredes\n",
       "44  ljqE2PwVQx         Memo Rodríguez\n",
       "45  ljqEjLaEQx         Diego Fagundez\n",
       "46  NWMWeDYqlz        Nicolás Lodeiro\n",
       "47  Oa5wVgVYM1          Chris Mueller\n",
       "48  p6qbenoB50           Ethan Finlay\n",
       "49  raMyAGEBMd           Fafa Picault\n",
       "50  raMyAZR2Md        Cristian Roldan\n",
       "51  Vj58YwDDq8           Justin Meram\n",
       "52  Vj58zZ2Q8n        Michael Bradley\n",
       "53  wvq9bOBQWn                 Felipe\n",
       "54  wvq9pBZm5W             Uri Rosell\n",
       "55  xW5prbllQg                  Artur\n",
       "56  zeQZJX6KQK           Victor Ulloa"
      ]
     },
     "execution_count": 15,
     "metadata": {},
     "output_type": "execute_result"
    }
   ],
   "source": [
    "players_midfield[['player_id', 'player_name']].reset_index(drop=True)"
   ]
  },
  {
   "cell_type": "markdown",
   "id": "5e3908f1-395c-4c37-afc4-ec1c52a58acd",
   "metadata": {},
   "source": [
    "## Extracting the dataframe for the filtered players and range of seasons by API calls"
   ]
  },
  {
   "cell_type": "code",
   "execution_count": 16,
   "id": "d55ca79e-1803-4e00-8bae-971ad2bfdbd3",
   "metadata": {
    "tags": []
   },
   "outputs": [
    {
     "name": "stderr",
     "output_type": "stream",
     "text": [
      "  0%|                                                                                           | 0/57 [00:00<?, ?it/s]"
     ]
    },
    {
     "name": "stdout",
     "output_type": "stream",
     "text": [
      "Getting the metrics for 0Oq6lyNdM6\n"
     ]
    },
    {
     "name": "stderr",
     "output_type": "stream",
     "text": [
      "  2%|█▍                                                                                 | 1/57 [00:01<01:17,  1.39s/it]"
     ]
    },
    {
     "name": "stdout",
     "output_type": "stream",
     "text": [
      "Getting the metrics for 0Oq6wv26Q6\n"
     ]
    },
    {
     "name": "stderr",
     "output_type": "stream",
     "text": [
      "  4%|██▉                                                                                | 2/57 [00:02<01:07,  1.22s/it]"
     ]
    },
    {
     "name": "stdout",
     "output_type": "stream",
     "text": [
      "Getting the metrics for 0x5gXlrq7O\n"
     ]
    },
    {
     "name": "stderr",
     "output_type": "stream",
     "text": [
      "  5%|████▎                                                                              | 3/57 [00:04<01:14,  1.39s/it]"
     ]
    },
    {
     "name": "stdout",
     "output_type": "stream",
     "text": [
      "Getting the metrics for 2lqRRvNxqr\n"
     ]
    },
    {
     "name": "stderr",
     "output_type": "stream",
     "text": [
      "  7%|█████▊                                                                             | 4/57 [00:05<01:18,  1.48s/it]"
     ]
    },
    {
     "name": "stdout",
     "output_type": "stream",
     "text": [
      "Getting the metrics for 2lqRRZy2qr\n"
     ]
    },
    {
     "name": "stderr",
     "output_type": "stream",
     "text": [
      "  9%|███████▎                                                                           | 5/57 [00:06<01:12,  1.40s/it]"
     ]
    },
    {
     "name": "stdout",
     "output_type": "stream",
     "text": [
      "Getting the metrics for 2vQ1LYxbqr\n"
     ]
    },
    {
     "name": "stderr",
     "output_type": "stream",
     "text": [
      " 11%|████████▋                                                                          | 6/57 [00:08<01:06,  1.31s/it]"
     ]
    },
    {
     "name": "stdout",
     "output_type": "stream",
     "text": [
      "Getting the metrics for 2vQ1LYY0qr\n"
     ]
    },
    {
     "name": "stderr",
     "output_type": "stream",
     "text": [
      " 12%|██████████▏                                                                        | 7/57 [00:09<01:03,  1.28s/it]"
     ]
    },
    {
     "name": "stdout",
     "output_type": "stream",
     "text": [
      "Getting the metrics for 4JMAaaxkMK\n"
     ]
    },
    {
     "name": "stderr",
     "output_type": "stream",
     "text": [
      " 14%|███████████▋                                                                       | 8/57 [00:10<01:08,  1.39s/it]"
     ]
    },
    {
     "name": "stdout",
     "output_type": "stream",
     "text": [
      "Getting the metrics for 4wM42Belqj\n"
     ]
    },
    {
     "name": "stderr",
     "output_type": "stream",
     "text": [
      " 16%|█████████████                                                                      | 9/57 [00:12<01:11,  1.48s/it]"
     ]
    },
    {
     "name": "stdout",
     "output_type": "stream",
     "text": [
      "Getting the metrics for 7vQ73NxYQD\n"
     ]
    },
    {
     "name": "stderr",
     "output_type": "stream",
     "text": [
      " 18%|██████████████▍                                                                   | 10/57 [00:14<01:17,  1.65s/it]"
     ]
    },
    {
     "name": "stdout",
     "output_type": "stream",
     "text": [
      "Getting the metrics for 7vQ7rPpOqD\n"
     ]
    },
    {
     "name": "stderr",
     "output_type": "stream",
     "text": [
      " 19%|███████████████▊                                                                  | 11/57 [00:15<01:11,  1.55s/it]"
     ]
    },
    {
     "name": "stdout",
     "output_type": "stream",
     "text": [
      "Getting the metrics for 7VqGj3RA5v\n"
     ]
    },
    {
     "name": "stderr",
     "output_type": "stream",
     "text": [
      " 21%|█████████████████▎                                                                | 12/57 [00:17<01:04,  1.43s/it]"
     ]
    },
    {
     "name": "stdout",
     "output_type": "stream",
     "text": [
      "Getting the metrics for 9vQ22OOoQK\n"
     ]
    },
    {
     "name": "stderr",
     "output_type": "stream",
     "text": [
      " 23%|██████████████████▋                                                               | 13/57 [00:18<01:00,  1.38s/it]"
     ]
    },
    {
     "name": "stdout",
     "output_type": "stream",
     "text": [
      "Getting the metrics for 9vQ2d3X75K\n"
     ]
    },
    {
     "name": "stderr",
     "output_type": "stream",
     "text": [
      " 25%|████████████████████▏                                                             | 14/57 [00:19<00:56,  1.32s/it]"
     ]
    },
    {
     "name": "stdout",
     "output_type": "stream",
     "text": [
      "Getting the metrics for 9vQ2dAKY5K\n"
     ]
    },
    {
     "name": "stderr",
     "output_type": "stream",
     "text": [
      " 26%|█████████████████████▌                                                            | 15/57 [00:21<01:00,  1.44s/it]"
     ]
    },
    {
     "name": "stdout",
     "output_type": "stream",
     "text": [
      "Getting the metrics for a35rlyZ4QL\n"
     ]
    },
    {
     "name": "stderr",
     "output_type": "stream",
     "text": [
      " 28%|███████████████████████                                                           | 16/57 [00:22<00:55,  1.36s/it]"
     ]
    },
    {
     "name": "stdout",
     "output_type": "stream",
     "text": [
      "Getting the metrics for aDQ0PjnGQE\n"
     ]
    },
    {
     "name": "stderr",
     "output_type": "stream",
     "text": [
      " 30%|████████████████████████▍                                                         | 17/57 [00:23<00:52,  1.31s/it]"
     ]
    },
    {
     "name": "stdout",
     "output_type": "stream",
     "text": [
      "Getting the metrics for BLMv1GlQxe\n"
     ]
    },
    {
     "name": "stderr",
     "output_type": "stream",
     "text": [
      " 32%|█████████████████████████▉                                                        | 18/57 [00:25<00:57,  1.47s/it]"
     ]
    },
    {
     "name": "stdout",
     "output_type": "stream",
     "text": [
      "Getting the metrics for BLMvlPy3qx\n"
     ]
    },
    {
     "name": "stderr",
     "output_type": "stream",
     "text": [
      " 33%|███████████████████████████▎                                                      | 19/57 [00:27<00:56,  1.50s/it]"
     ]
    },
    {
     "name": "stdout",
     "output_type": "stream",
     "text": [
      "Getting the metrics for e7Mz9DgGQr\n"
     ]
    },
    {
     "name": "stderr",
     "output_type": "stream",
     "text": [
      " 35%|████████████████████████████▊                                                     | 20/57 [00:29<01:10,  1.91s/it]"
     ]
    },
    {
     "name": "stdout",
     "output_type": "stream",
     "text": [
      "Getting the metrics for eV5D9A9qKn\n"
     ]
    },
    {
     "name": "stderr",
     "output_type": "stream",
     "text": [
      " 37%|██████████████████████████████▏                                                   | 21/57 [00:33<01:23,  2.32s/it]"
     ]
    },
    {
     "name": "stdout",
     "output_type": "stream",
     "text": [
      "Getting the metrics for eV5DLedE5K\n"
     ]
    },
    {
     "name": "stderr",
     "output_type": "stream",
     "text": [
      " 39%|███████████████████████████████▋                                                  | 22/57 [00:37<01:43,  2.95s/it]"
     ]
    },
    {
     "name": "stdout",
     "output_type": "stream",
     "text": [
      "Getting the metrics for eVq3a8XyMW\n"
     ]
    },
    {
     "name": "stderr",
     "output_type": "stream",
     "text": [
      " 40%|█████████████████████████████████                                                 | 23/57 [00:41<01:46,  3.14s/it]"
     ]
    },
    {
     "name": "stdout",
     "output_type": "stream",
     "text": [
      "Getting the metrics for eVq3apWvMW\n"
     ]
    },
    {
     "name": "stderr",
     "output_type": "stream",
     "text": [
      " 42%|██████████████████████████████████▌                                               | 24/57 [00:42<01:30,  2.73s/it]"
     ]
    },
    {
     "name": "stdout",
     "output_type": "stream",
     "text": [
      "Getting the metrics for eVq3jYZv5W\n"
     ]
    },
    {
     "name": "stderr",
     "output_type": "stream",
     "text": [
      " 44%|███████████████████████████████████▉                                              | 25/57 [00:45<01:29,  2.79s/it]"
     ]
    },
    {
     "name": "stdout",
     "output_type": "stream",
     "text": [
      "Getting the metrics for eVq3xXDDQW\n"
     ]
    },
    {
     "name": "stderr",
     "output_type": "stream",
     "text": [
      " 46%|█████████████████████████████████████▍                                            | 26/57 [01:11<04:56,  9.58s/it]"
     ]
    },
    {
     "name": "stdout",
     "output_type": "stream",
     "text": [
      "Getting the metrics for gjMNv7PpMK\n"
     ]
    },
    {
     "name": "stderr",
     "output_type": "stream",
     "text": [
      " 47%|██████████████████████████████████████▊                                           | 27/57 [01:12<03:34,  7.15s/it]"
     ]
    },
    {
     "name": "stdout",
     "output_type": "stream",
     "text": [
      "Getting the metrics for gjMNvjYvMK\n"
     ]
    },
    {
     "name": "stderr",
     "output_type": "stream",
     "text": [
      " 49%|████████████████████████████████████████▎                                         | 28/57 [01:14<02:37,  5.44s/it]"
     ]
    },
    {
     "name": "stdout",
     "output_type": "stream",
     "text": [
      "Getting the metrics for gOMn66nAMw\n"
     ]
    },
    {
     "name": "stderr",
     "output_type": "stream",
     "text": [
      " 51%|█████████████████████████████████████████▋                                        | 29/57 [01:16<02:02,  4.37s/it]"
     ]
    },
    {
     "name": "stdout",
     "output_type": "stream",
     "text": [
      "Getting the metrics for gOMnR96lMw\n"
     ]
    },
    {
     "name": "stderr",
     "output_type": "stream",
     "text": [
      " 53%|███████████████████████████████████████████▏                                      | 30/57 [01:18<01:42,  3.78s/it]"
     ]
    },
    {
     "name": "stdout",
     "output_type": "stream",
     "text": [
      "Getting the metrics for gOMnRPxXMw\n"
     ]
    },
    {
     "name": "stderr",
     "output_type": "stream",
     "text": [
      " 54%|████████████████████████████████████████████▌                                     | 31/57 [01:19<01:19,  3.05s/it]"
     ]
    },
    {
     "name": "stdout",
     "output_type": "stream",
     "text": [
      "Getting the metrics for gpMOa6zrqz\n"
     ]
    },
    {
     "name": "stderr",
     "output_type": "stream",
     "text": [
      " 56%|██████████████████████████████████████████████                                    | 32/57 [01:21<01:03,  2.56s/it]"
     ]
    },
    {
     "name": "stdout",
     "output_type": "stream",
     "text": [
      "Getting the metrics for gpMOyGlqzy\n"
     ]
    },
    {
     "name": "stderr",
     "output_type": "stream",
     "text": [
      " 58%|███████████████████████████████████████████████▍                                  | 33/57 [01:22<00:49,  2.08s/it]"
     ]
    },
    {
     "name": "stdout",
     "output_type": "stream",
     "text": [
      "Getting the metrics for jYQJOaZMGR\n"
     ]
    },
    {
     "name": "stderr",
     "output_type": "stream",
     "text": [
      " 60%|████████████████████████████████████████████████▉                                 | 34/57 [01:23<00:40,  1.77s/it]"
     ]
    },
    {
     "name": "stdout",
     "output_type": "stream",
     "text": [
      "Getting the metrics for KAqBjWZBqb\n"
     ]
    },
    {
     "name": "stderr",
     "output_type": "stream",
     "text": [
      " 61%|██████████████████████████████████████████████████▎                               | 35/57 [01:25<00:39,  1.81s/it]"
     ]
    },
    {
     "name": "stdout",
     "output_type": "stream",
     "text": [
      "Getting the metrics for KPqj7jY4Q6\n"
     ]
    },
    {
     "name": "stderr",
     "output_type": "stream",
     "text": [
      " 63%|███████████████████████████████████████████████████▊                              | 36/57 [01:26<00:37,  1.76s/it]"
     ]
    },
    {
     "name": "stdout",
     "output_type": "stream",
     "text": [
      "Getting the metrics for KPqj7OVPQ6\n"
     ]
    },
    {
     "name": "stderr",
     "output_type": "stream",
     "text": [
      " 65%|█████████████████████████████████████████████████████▏                            | 37/57 [01:28<00:32,  1.61s/it]"
     ]
    },
    {
     "name": "stdout",
     "output_type": "stream",
     "text": [
      "Getting the metrics for KPqjodRYQ6\n"
     ]
    },
    {
     "name": "stderr",
     "output_type": "stream",
     "text": [
      " 67%|██████████████████████████████████████████████████████▋                           | 38/57 [01:29<00:28,  1.48s/it]"
     ]
    },
    {
     "name": "stdout",
     "output_type": "stream",
     "text": [
      "Getting the metrics for KPqjodW4Q6\n"
     ]
    },
    {
     "name": "stderr",
     "output_type": "stream",
     "text": [
      " 68%|████████████████████████████████████████████████████████                          | 39/57 [01:30<00:25,  1.40s/it]"
     ]
    },
    {
     "name": "stdout",
     "output_type": "stream",
     "text": [
      "Getting the metrics for KPqjzJ2q6v\n"
     ]
    },
    {
     "name": "stderr",
     "output_type": "stream",
     "text": [
      " 70%|█████████████████████████████████████████████████████████▌                        | 40/57 [01:32<00:24,  1.47s/it]"
     ]
    },
    {
     "name": "stdout",
     "output_type": "stream",
     "text": [
      "Getting the metrics for kRQa207YMK\n"
     ]
    },
    {
     "name": "stderr",
     "output_type": "stream",
     "text": [
      " 72%|██████████████████████████████████████████████████████████▉                       | 41/57 [01:33<00:21,  1.37s/it]"
     ]
    },
    {
     "name": "stdout",
     "output_type": "stream",
     "text": [
      "Getting the metrics for KXMe4l1Q64\n"
     ]
    },
    {
     "name": "stderr",
     "output_type": "stream",
     "text": [
      " 74%|████████████████████████████████████████████████████████████▍                     | 42/57 [01:35<00:22,  1.52s/it]"
     ]
    },
    {
     "name": "stdout",
     "output_type": "stream",
     "text": [
      "Getting the metrics for KXMeAPkM64\n"
     ]
    },
    {
     "name": "stderr",
     "output_type": "stream",
     "text": [
      " 75%|█████████████████████████████████████████████████████████████▊                    | 43/57 [01:37<00:23,  1.65s/it]"
     ]
    },
    {
     "name": "stdout",
     "output_type": "stream",
     "text": [
      "Getting the metrics for ljqE2EWkQx\n"
     ]
    },
    {
     "name": "stderr",
     "output_type": "stream",
     "text": [
      " 77%|███████████████████████████████████████████████████████████████▎                  | 44/57 [01:38<00:19,  1.51s/it]"
     ]
    },
    {
     "name": "stdout",
     "output_type": "stream",
     "text": [
      "Getting the metrics for ljqE2PwVQx\n"
     ]
    },
    {
     "name": "stderr",
     "output_type": "stream",
     "text": [
      " 79%|████████████████████████████████████████████████████████████████▋                 | 45/57 [01:39<00:17,  1.45s/it]"
     ]
    },
    {
     "name": "stdout",
     "output_type": "stream",
     "text": [
      "Getting the metrics for ljqEjLaEQx\n"
     ]
    },
    {
     "name": "stderr",
     "output_type": "stream",
     "text": [
      " 81%|██████████████████████████████████████████████████████████████████▏               | 46/57 [01:41<00:16,  1.51s/it]"
     ]
    },
    {
     "name": "stdout",
     "output_type": "stream",
     "text": [
      "Getting the metrics for NWMWeDYqlz\n"
     ]
    },
    {
     "name": "stderr",
     "output_type": "stream",
     "text": [
      " 82%|███████████████████████████████████████████████████████████████████▌              | 47/57 [01:42<00:14,  1.46s/it]"
     ]
    },
    {
     "name": "stdout",
     "output_type": "stream",
     "text": [
      "Getting the metrics for Oa5wVgVYM1\n"
     ]
    },
    {
     "name": "stderr",
     "output_type": "stream",
     "text": [
      " 84%|█████████████████████████████████████████████████████████████████████             | 48/57 [01:43<00:12,  1.39s/it]"
     ]
    },
    {
     "name": "stdout",
     "output_type": "stream",
     "text": [
      "Getting the metrics for p6qbenoB50\n"
     ]
    },
    {
     "name": "stderr",
     "output_type": "stream",
     "text": [
      " 86%|██████████████████████████████████████████████████████████████████████▍           | 49/57 [01:45<00:12,  1.54s/it]"
     ]
    },
    {
     "name": "stdout",
     "output_type": "stream",
     "text": [
      "Getting the metrics for raMyAGEBMd\n"
     ]
    },
    {
     "name": "stderr",
     "output_type": "stream",
     "text": [
      " 88%|███████████████████████████████████████████████████████████████████████▉          | 50/57 [01:47<00:11,  1.58s/it]"
     ]
    },
    {
     "name": "stdout",
     "output_type": "stream",
     "text": [
      "Getting the metrics for raMyAZR2Md\n"
     ]
    },
    {
     "name": "stderr",
     "output_type": "stream",
     "text": [
      " 89%|█████████████████████████████████████████████████████████████████████████▎        | 51/57 [01:48<00:08,  1.45s/it]"
     ]
    },
    {
     "name": "stdout",
     "output_type": "stream",
     "text": [
      "Getting the metrics for Vj58YwDDq8\n"
     ]
    },
    {
     "name": "stderr",
     "output_type": "stream",
     "text": [
      " 91%|██████████████████████████████████████████████████████████████████████████▊       | 52/57 [01:50<00:07,  1.56s/it]"
     ]
    },
    {
     "name": "stdout",
     "output_type": "stream",
     "text": [
      "Getting the metrics for Vj58zZ2Q8n\n"
     ]
    },
    {
     "name": "stderr",
     "output_type": "stream",
     "text": [
      " 93%|████████████████████████████████████████████████████████████████████████████▏     | 53/57 [01:52<00:06,  1.59s/it]"
     ]
    },
    {
     "name": "stdout",
     "output_type": "stream",
     "text": [
      "Getting the metrics for wvq9bOBQWn\n"
     ]
    },
    {
     "name": "stderr",
     "output_type": "stream",
     "text": [
      " 95%|█████████████████████████████████████████████████████████████████████████████▋    | 54/57 [01:53<00:04,  1.62s/it]"
     ]
    },
    {
     "name": "stdout",
     "output_type": "stream",
     "text": [
      "Getting the metrics for wvq9pBZm5W\n"
     ]
    },
    {
     "name": "stderr",
     "output_type": "stream",
     "text": [
      " 96%|███████████████████████████████████████████████████████████████████████████████   | 55/57 [01:55<00:03,  1.61s/it]"
     ]
    },
    {
     "name": "stdout",
     "output_type": "stream",
     "text": [
      "Getting the metrics for xW5prbllQg\n"
     ]
    },
    {
     "name": "stderr",
     "output_type": "stream",
     "text": [
      " 98%|████████████████████████████████████████████████████████████████████████████████▌ | 56/57 [01:56<00:01,  1.62s/it]"
     ]
    },
    {
     "name": "stdout",
     "output_type": "stream",
     "text": [
      "Getting the metrics for zeQZJX6KQK\n"
     ]
    },
    {
     "name": "stderr",
     "output_type": "stream",
     "text": [
      "100%|██████████████████████████████████████████████████████████████████████████████████| 57/57 [01:58<00:00,  2.07s/it]"
     ]
    },
    {
     "name": "stdout",
     "output_type": "stream",
     "text": [
      "data/filtered_players_get_player_xpass.csv\n"
     ]
    },
    {
     "name": "stderr",
     "output_type": "stream",
     "text": [
      "\n"
     ]
    }
   ],
   "source": [
    "xpasspercent = filter_metric(players_midfield, games, asa_client, 'get_player_xpass', start_season, end_season)"
   ]
  },
  {
   "cell_type": "code",
   "execution_count": 17,
   "id": "f993a98d-4153-4549-ba46-251ad09c75bf",
   "metadata": {
    "tags": []
   },
   "outputs": [
    {
     "name": "stderr",
     "output_type": "stream",
     "text": [
      "  0%|                                                                                           | 0/57 [00:00<?, ?it/s]"
     ]
    },
    {
     "name": "stdout",
     "output_type": "stream",
     "text": [
      "Getting the metrics for 0Oq6lyNdM6\n"
     ]
    },
    {
     "name": "stderr",
     "output_type": "stream",
     "text": [
      "  2%|█▍                                                                                 | 1/57 [00:02<02:00,  2.15s/it]"
     ]
    },
    {
     "name": "stdout",
     "output_type": "stream",
     "text": [
      "reorganizing columns\n",
      "Getting the metrics for 0Oq6wv26Q6\n"
     ]
    },
    {
     "name": "stderr",
     "output_type": "stream",
     "text": [
      "  4%|██▉                                                                                | 2/57 [00:03<01:41,  1.85s/it]"
     ]
    },
    {
     "name": "stdout",
     "output_type": "stream",
     "text": [
      "reorganizing columns\n",
      "Getting the metrics for 0x5gXlrq7O\n"
     ]
    },
    {
     "name": "stderr",
     "output_type": "stream",
     "text": [
      "  5%|████▎                                                                              | 3/57 [00:05<01:39,  1.85s/it]"
     ]
    },
    {
     "name": "stdout",
     "output_type": "stream",
     "text": [
      "reorganizing columns\n",
      "Getting the metrics for 2lqRRvNxqr\n"
     ]
    },
    {
     "name": "stderr",
     "output_type": "stream",
     "text": [
      "  7%|█████▊                                                                             | 4/57 [00:07<01:28,  1.67s/it]"
     ]
    },
    {
     "name": "stdout",
     "output_type": "stream",
     "text": [
      "reorganizing columns\n",
      "Getting the metrics for 2lqRRZy2qr\n"
     ]
    },
    {
     "name": "stderr",
     "output_type": "stream",
     "text": [
      "  9%|███████▎                                                                           | 5/57 [00:09<01:37,  1.88s/it]"
     ]
    },
    {
     "name": "stdout",
     "output_type": "stream",
     "text": [
      "reorganizing columns\n",
      "Getting the metrics for 2vQ1LYxbqr\n"
     ]
    },
    {
     "name": "stderr",
     "output_type": "stream",
     "text": [
      " 11%|████████▋                                                                          | 6/57 [00:11<01:33,  1.83s/it]"
     ]
    },
    {
     "name": "stdout",
     "output_type": "stream",
     "text": [
      "reorganizing columns\n",
      "Getting the metrics for 2vQ1LYY0qr\n"
     ]
    },
    {
     "name": "stderr",
     "output_type": "stream",
     "text": [
      " 12%|██████████▏                                                                        | 7/57 [00:12<01:23,  1.67s/it]"
     ]
    },
    {
     "name": "stdout",
     "output_type": "stream",
     "text": [
      "reorganizing columns\n",
      "Getting the metrics for 4JMAaaxkMK\n"
     ]
    },
    {
     "name": "stderr",
     "output_type": "stream",
     "text": [
      " 14%|███████████▋                                                                       | 8/57 [00:14<01:21,  1.66s/it]"
     ]
    },
    {
     "name": "stdout",
     "output_type": "stream",
     "text": [
      "reorganizing columns\n",
      "Getting the metrics for 4wM42Belqj\n"
     ]
    },
    {
     "name": "stderr",
     "output_type": "stream",
     "text": [
      " 16%|█████████████                                                                      | 9/57 [00:15<01:19,  1.67s/it]"
     ]
    },
    {
     "name": "stdout",
     "output_type": "stream",
     "text": [
      "reorganizing columns\n",
      "Getting the metrics for 7vQ73NxYQD\n"
     ]
    },
    {
     "name": "stderr",
     "output_type": "stream",
     "text": [
      " 18%|██████████████▍                                                                   | 10/57 [00:17<01:19,  1.68s/it]"
     ]
    },
    {
     "name": "stdout",
     "output_type": "stream",
     "text": [
      "reorganizing columns\n",
      "Getting the metrics for 7vQ7rPpOqD\n"
     ]
    },
    {
     "name": "stderr",
     "output_type": "stream",
     "text": [
      " 19%|███████████████▊                                                                  | 11/57 [00:19<01:20,  1.76s/it]"
     ]
    },
    {
     "name": "stdout",
     "output_type": "stream",
     "text": [
      "reorganizing columns\n",
      "Getting the metrics for 7VqGj3RA5v\n"
     ]
    },
    {
     "name": "stderr",
     "output_type": "stream",
     "text": [
      " 21%|█████████████████▎                                                                | 12/57 [00:21<01:18,  1.75s/it]"
     ]
    },
    {
     "name": "stdout",
     "output_type": "stream",
     "text": [
      "reorganizing columns\n",
      "Getting the metrics for 9vQ22OOoQK\n"
     ]
    },
    {
     "name": "stderr",
     "output_type": "stream",
     "text": [
      " 23%|██████████████████▋                                                               | 13/57 [00:22<01:19,  1.80s/it]"
     ]
    },
    {
     "name": "stdout",
     "output_type": "stream",
     "text": [
      "reorganizing columns\n",
      "Getting the metrics for 9vQ2d3X75K\n"
     ]
    },
    {
     "name": "stderr",
     "output_type": "stream",
     "text": [
      " 25%|████████████████████▏                                                             | 14/57 [00:24<01:15,  1.77s/it]"
     ]
    },
    {
     "name": "stdout",
     "output_type": "stream",
     "text": [
      "reorganizing columns\n",
      "Getting the metrics for 9vQ2dAKY5K\n"
     ]
    },
    {
     "name": "stderr",
     "output_type": "stream",
     "text": [
      " 26%|█████████████████████▌                                                            | 15/57 [00:26<01:15,  1.80s/it]"
     ]
    },
    {
     "name": "stdout",
     "output_type": "stream",
     "text": [
      "reorganizing columns\n",
      "Getting the metrics for a35rlyZ4QL\n"
     ]
    },
    {
     "name": "stderr",
     "output_type": "stream",
     "text": [
      " 28%|███████████████████████                                                           | 16/57 [00:28<01:19,  1.93s/it]"
     ]
    },
    {
     "name": "stdout",
     "output_type": "stream",
     "text": [
      "reorganizing columns\n",
      "Getting the metrics for aDQ0PjnGQE\n"
     ]
    },
    {
     "name": "stderr",
     "output_type": "stream",
     "text": [
      " 30%|████████████████████████▍                                                         | 17/57 [00:30<01:13,  1.85s/it]"
     ]
    },
    {
     "name": "stdout",
     "output_type": "stream",
     "text": [
      "reorganizing columns\n",
      "Getting the metrics for BLMv1GlQxe\n",
      "reorganizing columns\n"
     ]
    },
    {
     "name": "stderr",
     "output_type": "stream",
     "text": [
      " 32%|█████████████████████████▉                                                        | 18/57 [00:32<01:12,  1.85s/it]"
     ]
    },
    {
     "name": "stdout",
     "output_type": "stream",
     "text": [
      "Getting the metrics for BLMvlPy3qx\n"
     ]
    },
    {
     "name": "stderr",
     "output_type": "stream",
     "text": [
      " 33%|███████████████████████████▎                                                      | 19/57 [00:36<01:35,  2.51s/it]"
     ]
    },
    {
     "name": "stdout",
     "output_type": "stream",
     "text": [
      "reorganizing columns\n",
      "Getting the metrics for e7Mz9DgGQr\n"
     ]
    },
    {
     "name": "stderr",
     "output_type": "stream",
     "text": [
      " 35%|████████████████████████████▊                                                     | 20/57 [00:39<01:37,  2.65s/it]"
     ]
    },
    {
     "name": "stdout",
     "output_type": "stream",
     "text": [
      "reorganizing columns\n",
      "Getting the metrics for eV5D9A9qKn\n"
     ]
    },
    {
     "name": "stderr",
     "output_type": "stream",
     "text": [
      " 37%|██████████████████████████████▏                                                   | 21/57 [00:42<01:43,  2.88s/it]"
     ]
    },
    {
     "name": "stdout",
     "output_type": "stream",
     "text": [
      "reorganizing columns\n",
      "Getting the metrics for eV5DLedE5K\n"
     ]
    },
    {
     "name": "stderr",
     "output_type": "stream",
     "text": [
      " 39%|███████████████████████████████▋                                                  | 22/57 [00:45<01:44,  2.99s/it]"
     ]
    },
    {
     "name": "stdout",
     "output_type": "stream",
     "text": [
      "reorganizing columns\n",
      "Getting the metrics for eVq3a8XyMW\n"
     ]
    },
    {
     "name": "stderr",
     "output_type": "stream",
     "text": [
      " 40%|█████████████████████████████████                                                 | 23/57 [00:48<01:37,  2.88s/it]"
     ]
    },
    {
     "name": "stdout",
     "output_type": "stream",
     "text": [
      "reorganizing columns\n",
      "Getting the metrics for eVq3apWvMW\n",
      "reorganizing columns\n"
     ]
    },
    {
     "name": "stderr",
     "output_type": "stream",
     "text": [
      " 42%|██████████████████████████████████▌                                               | 24/57 [00:52<01:43,  3.13s/it]"
     ]
    },
    {
     "name": "stdout",
     "output_type": "stream",
     "text": [
      "Getting the metrics for eVq3jYZv5W\n"
     ]
    },
    {
     "name": "stderr",
     "output_type": "stream",
     "text": [
      " 44%|███████████████████████████████████▉                                              | 25/57 [00:54<01:27,  2.75s/it]"
     ]
    },
    {
     "name": "stdout",
     "output_type": "stream",
     "text": [
      "reorganizing columns\n",
      "Getting the metrics for eVq3xXDDQW\n"
     ]
    },
    {
     "name": "stderr",
     "output_type": "stream",
     "text": [
      " 46%|█████████████████████████████████████▍                                            | 26/57 [00:57<01:29,  2.90s/it]"
     ]
    },
    {
     "name": "stdout",
     "output_type": "stream",
     "text": [
      "reorganizing columns\n",
      "Getting the metrics for gjMNv7PpMK\n"
     ]
    },
    {
     "name": "stderr",
     "output_type": "stream",
     "text": [
      " 47%|██████████████████████████████████████▊                                           | 27/57 [01:00<01:27,  2.92s/it]"
     ]
    },
    {
     "name": "stdout",
     "output_type": "stream",
     "text": [
      "reorganizing columns\n",
      "Getting the metrics for gjMNvjYvMK\n"
     ]
    },
    {
     "name": "stderr",
     "output_type": "stream",
     "text": [
      " 49%|████████████████████████████████████████▎                                         | 28/57 [01:03<01:28,  3.04s/it]"
     ]
    },
    {
     "name": "stdout",
     "output_type": "stream",
     "text": [
      "reorganizing columns\n",
      "Getting the metrics for gOMn66nAMw\n"
     ]
    },
    {
     "name": "stderr",
     "output_type": "stream",
     "text": [
      " 51%|█████████████████████████████████████████▋                                        | 29/57 [01:07<01:28,  3.16s/it]"
     ]
    },
    {
     "name": "stdout",
     "output_type": "stream",
     "text": [
      "reorganizing columns\n",
      "Getting the metrics for gOMnR96lMw\n",
      "reorganizing columns\n"
     ]
    },
    {
     "name": "stderr",
     "output_type": "stream",
     "text": [
      " 53%|███████████████████████████████████████████▏                                      | 30/57 [01:10<01:27,  3.23s/it]"
     ]
    },
    {
     "name": "stdout",
     "output_type": "stream",
     "text": [
      "Getting the metrics for gOMnRPxXMw\n"
     ]
    },
    {
     "name": "stderr",
     "output_type": "stream",
     "text": [
      " 54%|████████████████████████████████████████████▌                                     | 31/57 [01:14<01:28,  3.42s/it]"
     ]
    },
    {
     "name": "stdout",
     "output_type": "stream",
     "text": [
      "reorganizing columns\n",
      "Getting the metrics for gpMOa6zrqz\n"
     ]
    },
    {
     "name": "stderr",
     "output_type": "stream",
     "text": [
      " 56%|██████████████████████████████████████████████                                    | 32/57 [01:17<01:24,  3.36s/it]"
     ]
    },
    {
     "name": "stdout",
     "output_type": "stream",
     "text": [
      "reorganizing columns\n",
      "Getting the metrics for gpMOyGlqzy\n"
     ]
    },
    {
     "name": "stderr",
     "output_type": "stream",
     "text": [
      " 58%|███████████████████████████████████████████████▍                                  | 33/57 [01:19<01:08,  2.86s/it]"
     ]
    },
    {
     "name": "stdout",
     "output_type": "stream",
     "text": [
      "reorganizing columns\n",
      "Getting the metrics for jYQJOaZMGR\n"
     ]
    },
    {
     "name": "stderr",
     "output_type": "stream",
     "text": [
      " 60%|████████████████████████████████████████████████▉                                 | 34/57 [01:21<00:58,  2.53s/it]"
     ]
    },
    {
     "name": "stdout",
     "output_type": "stream",
     "text": [
      "reorganizing columns\n",
      "Getting the metrics for KAqBjWZBqb\n"
     ]
    },
    {
     "name": "stderr",
     "output_type": "stream",
     "text": [
      " 61%|██████████████████████████████████████████████████▎                               | 35/57 [01:23<00:54,  2.48s/it]"
     ]
    },
    {
     "name": "stdout",
     "output_type": "stream",
     "text": [
      "reorganizing columns\n",
      "Getting the metrics for KPqj7jY4Q6\n"
     ]
    },
    {
     "name": "stderr",
     "output_type": "stream",
     "text": [
      " 63%|███████████████████████████████████████████████████▊                              | 36/57 [01:25<00:50,  2.40s/it]"
     ]
    },
    {
     "name": "stdout",
     "output_type": "stream",
     "text": [
      "reorganizing columns\n",
      "Getting the metrics for KPqj7OVPQ6\n"
     ]
    },
    {
     "name": "stderr",
     "output_type": "stream",
     "text": [
      " 65%|█████████████████████████████████████████████████████▏                            | 37/57 [01:27<00:41,  2.10s/it]"
     ]
    },
    {
     "name": "stdout",
     "output_type": "stream",
     "text": [
      "reorganizing columns\n",
      "Getting the metrics for KPqjodRYQ6\n",
      "reorganizing columns\n"
     ]
    },
    {
     "name": "stderr",
     "output_type": "stream",
     "text": [
      " 67%|██████████████████████████████████████████████████████▋                           | 38/57 [01:28<00:38,  2.02s/it]"
     ]
    },
    {
     "name": "stdout",
     "output_type": "stream",
     "text": [
      "Getting the metrics for KPqjodW4Q6\n"
     ]
    },
    {
     "name": "stderr",
     "output_type": "stream",
     "text": [
      " 68%|████████████████████████████████████████████████████████                          | 39/57 [01:30<00:35,  1.97s/it]"
     ]
    },
    {
     "name": "stdout",
     "output_type": "stream",
     "text": [
      "reorganizing columns\n",
      "Getting the metrics for KPqjzJ2q6v\n"
     ]
    },
    {
     "name": "stderr",
     "output_type": "stream",
     "text": [
      " 70%|█████████████████████████████████████████████████████████▌                        | 40/57 [01:32<00:31,  1.88s/it]"
     ]
    },
    {
     "name": "stdout",
     "output_type": "stream",
     "text": [
      "reorganizing columns\n",
      "Getting the metrics for kRQa207YMK\n"
     ]
    },
    {
     "name": "stderr",
     "output_type": "stream",
     "text": [
      " 72%|██████████████████████████████████████████████████████████▉                       | 41/57 [01:33<00:28,  1.77s/it]"
     ]
    },
    {
     "name": "stdout",
     "output_type": "stream",
     "text": [
      "reorganizing columns\n",
      "Getting the metrics for KXMe4l1Q64\n"
     ]
    },
    {
     "name": "stderr",
     "output_type": "stream",
     "text": [
      " 74%|████████████████████████████████████████████████████████████▍                     | 42/57 [01:36<00:30,  2.04s/it]"
     ]
    },
    {
     "name": "stdout",
     "output_type": "stream",
     "text": [
      "reorganizing columns\n",
      "Getting the metrics for KXMeAPkM64\n",
      "reorganizing columns\n"
     ]
    },
    {
     "name": "stderr",
     "output_type": "stream",
     "text": [
      " 75%|█████████████████████████████████████████████████████████████▊                    | 43/57 [01:38<00:29,  2.11s/it]"
     ]
    },
    {
     "name": "stdout",
     "output_type": "stream",
     "text": [
      "Getting the metrics for ljqE2EWkQx\n",
      "reorganizing columns\n"
     ]
    },
    {
     "name": "stderr",
     "output_type": "stream",
     "text": [
      " 77%|███████████████████████████████████████████████████████████████▎                  | 44/57 [01:40<00:26,  2.04s/it]"
     ]
    },
    {
     "name": "stdout",
     "output_type": "stream",
     "text": [
      "Getting the metrics for ljqE2PwVQx\n",
      "reorganizing columns\n"
     ]
    },
    {
     "name": "stderr",
     "output_type": "stream",
     "text": [
      " 79%|████████████████████████████████████████████████████████████████▋                 | 45/57 [01:42<00:23,  1.96s/it]"
     ]
    },
    {
     "name": "stdout",
     "output_type": "stream",
     "text": [
      "Getting the metrics for ljqEjLaEQx\n",
      "reorganizing columns\n"
     ]
    },
    {
     "name": "stderr",
     "output_type": "stream",
     "text": [
      " 81%|██████████████████████████████████████████████████████████████████▏               | 46/57 [01:44<00:21,  1.94s/it]"
     ]
    },
    {
     "name": "stdout",
     "output_type": "stream",
     "text": [
      "Getting the metrics for NWMWeDYqlz\n"
     ]
    },
    {
     "name": "stderr",
     "output_type": "stream",
     "text": [
      " 82%|███████████████████████████████████████████████████████████████████▌              | 47/57 [01:46<00:20,  2.00s/it]"
     ]
    },
    {
     "name": "stdout",
     "output_type": "stream",
     "text": [
      "reorganizing columns\n",
      "Getting the metrics for Oa5wVgVYM1\n"
     ]
    },
    {
     "name": "stderr",
     "output_type": "stream",
     "text": [
      " 84%|█████████████████████████████████████████████████████████████████████             | 48/57 [01:48<00:18,  2.03s/it]"
     ]
    },
    {
     "name": "stdout",
     "output_type": "stream",
     "text": [
      "reorganizing columns\n",
      "Getting the metrics for p6qbenoB50\n"
     ]
    },
    {
     "name": "stderr",
     "output_type": "stream",
     "text": [
      " 86%|██████████████████████████████████████████████████████████████████████▍           | 49/57 [01:50<00:15,  1.98s/it]"
     ]
    },
    {
     "name": "stdout",
     "output_type": "stream",
     "text": [
      "reorganizing columns\n",
      "Getting the metrics for raMyAGEBMd\n"
     ]
    },
    {
     "name": "stderr",
     "output_type": "stream",
     "text": [
      " 88%|███████████████████████████████████████████████████████████████████████▉          | 50/57 [01:52<00:13,  1.98s/it]"
     ]
    },
    {
     "name": "stdout",
     "output_type": "stream",
     "text": [
      "reorganizing columns\n",
      "Getting the metrics for raMyAZR2Md\n",
      "reorganizing columns\n"
     ]
    },
    {
     "name": "stderr",
     "output_type": "stream",
     "text": [
      " 89%|█████████████████████████████████████████████████████████████████████████▎        | 51/57 [01:54<00:11,  1.90s/it]"
     ]
    },
    {
     "name": "stdout",
     "output_type": "stream",
     "text": [
      "Getting the metrics for Vj58YwDDq8\n"
     ]
    },
    {
     "name": "stderr",
     "output_type": "stream",
     "text": [
      " 91%|██████████████████████████████████████████████████████████████████████████▊       | 52/57 [01:55<00:09,  1.83s/it]"
     ]
    },
    {
     "name": "stdout",
     "output_type": "stream",
     "text": [
      "reorganizing columns\n",
      "Getting the metrics for Vj58zZ2Q8n\n"
     ]
    },
    {
     "name": "stderr",
     "output_type": "stream",
     "text": [
      " 93%|████████████████████████████████████████████████████████████████████████████▏     | 53/57 [01:57<00:07,  1.78s/it]"
     ]
    },
    {
     "name": "stdout",
     "output_type": "stream",
     "text": [
      "reorganizing columns\n",
      "Getting the metrics for wvq9bOBQWn\n"
     ]
    },
    {
     "name": "stderr",
     "output_type": "stream",
     "text": [
      " 95%|█████████████████████████████████████████████████████████████████████████████▋    | 54/57 [01:59<00:05,  1.96s/it]"
     ]
    },
    {
     "name": "stdout",
     "output_type": "stream",
     "text": [
      "reorganizing columns\n",
      "Getting the metrics for wvq9pBZm5W\n"
     ]
    },
    {
     "name": "stderr",
     "output_type": "stream",
     "text": [
      " 96%|███████████████████████████████████████████████████████████████████████████████   | 55/57 [02:01<00:03,  1.74s/it]"
     ]
    },
    {
     "name": "stdout",
     "output_type": "stream",
     "text": [
      "reorganizing columns\n",
      "Getting the metrics for xW5prbllQg\n"
     ]
    },
    {
     "name": "stderr",
     "output_type": "stream",
     "text": [
      " 98%|████████████████████████████████████████████████████████████████████████████████▌ | 56/57 [02:02<00:01,  1.70s/it]"
     ]
    },
    {
     "name": "stdout",
     "output_type": "stream",
     "text": [
      "reorganizing columns\n",
      "Getting the metrics for zeQZJX6KQK\n"
     ]
    },
    {
     "name": "stderr",
     "output_type": "stream",
     "text": [
      "100%|██████████████████████████████████████████████████████████████████████████████████| 57/57 [02:05<00:00,  2.20s/it]"
     ]
    },
    {
     "name": "stdout",
     "output_type": "stream",
     "text": [
      "reorganizing columns\n",
      "data/filtered_players_get_player_goals_added.csv\n"
     ]
    },
    {
     "name": "stderr",
     "output_type": "stream",
     "text": [
      "\n"
     ]
    }
   ],
   "source": [
    "goals_added = filter_metric(players_midfield, games, asa_client, 'get_player_goals_added', start_season, end_season)"
   ]
  },
  {
   "cell_type": "code",
   "execution_count": 18,
   "id": "c945266d-8392-4d7a-b5cf-1e7212f01dc8",
   "metadata": {
    "tags": []
   },
   "outputs": [
    {
     "name": "stderr",
     "output_type": "stream",
     "text": [
      "  0%|                                                                                           | 0/57 [00:00<?, ?it/s]"
     ]
    },
    {
     "name": "stdout",
     "output_type": "stream",
     "text": [
      "Getting the metrics for 0Oq6lyNdM6\n"
     ]
    },
    {
     "name": "stderr",
     "output_type": "stream",
     "text": [
      "  2%|█▍                                                                                 | 1/57 [00:01<01:05,  1.17s/it]"
     ]
    },
    {
     "name": "stdout",
     "output_type": "stream",
     "text": [
      "Getting the metrics for 0Oq6wv26Q6\n"
     ]
    },
    {
     "name": "stderr",
     "output_type": "stream",
     "text": [
      "  4%|██▉                                                                                | 2/57 [00:02<01:01,  1.12s/it]"
     ]
    },
    {
     "name": "stdout",
     "output_type": "stream",
     "text": [
      "Getting the metrics for 0x5gXlrq7O\n"
     ]
    },
    {
     "name": "stderr",
     "output_type": "stream",
     "text": [
      "  5%|████▎                                                                              | 3/57 [00:03<01:13,  1.36s/it]"
     ]
    },
    {
     "name": "stdout",
     "output_type": "stream",
     "text": [
      "Getting the metrics for 2lqRRvNxqr\n"
     ]
    },
    {
     "name": "stderr",
     "output_type": "stream",
     "text": [
      "  7%|█████▊                                                                             | 4/57 [00:05<01:15,  1.43s/it]"
     ]
    },
    {
     "name": "stdout",
     "output_type": "stream",
     "text": [
      "Getting the metrics for 2lqRRZy2qr\n"
     ]
    },
    {
     "name": "stderr",
     "output_type": "stream",
     "text": [
      "  9%|███████▎                                                                           | 5/57 [00:06<01:08,  1.31s/it]"
     ]
    },
    {
     "name": "stdout",
     "output_type": "stream",
     "text": [
      "Getting the metrics for 2vQ1LYxbqr\n"
     ]
    },
    {
     "name": "stderr",
     "output_type": "stream",
     "text": [
      " 11%|████████▋                                                                          | 6/57 [00:08<01:12,  1.42s/it]"
     ]
    },
    {
     "name": "stdout",
     "output_type": "stream",
     "text": [
      "Getting the metrics for 2vQ1LYY0qr\n"
     ]
    },
    {
     "name": "stderr",
     "output_type": "stream",
     "text": [
      " 12%|██████████▏                                                                        | 7/57 [00:09<01:08,  1.37s/it]"
     ]
    },
    {
     "name": "stdout",
     "output_type": "stream",
     "text": [
      "Getting the metrics for 4JMAaaxkMK\n"
     ]
    },
    {
     "name": "stderr",
     "output_type": "stream",
     "text": [
      " 14%|███████████▋                                                                       | 8/57 [00:10<01:02,  1.27s/it]"
     ]
    },
    {
     "name": "stdout",
     "output_type": "stream",
     "text": [
      "Getting the metrics for 4wM42Belqj\n"
     ]
    },
    {
     "name": "stderr",
     "output_type": "stream",
     "text": [
      " 16%|█████████████                                                                      | 9/57 [00:11<00:58,  1.22s/it]"
     ]
    },
    {
     "name": "stdout",
     "output_type": "stream",
     "text": [
      "Getting the metrics for 7vQ73NxYQD\n"
     ]
    },
    {
     "name": "stderr",
     "output_type": "stream",
     "text": [
      " 18%|██████████████▍                                                                   | 10/57 [00:12<00:56,  1.20s/it]"
     ]
    },
    {
     "name": "stdout",
     "output_type": "stream",
     "text": [
      "Getting the metrics for 7vQ7rPpOqD\n"
     ]
    },
    {
     "name": "stderr",
     "output_type": "stream",
     "text": [
      " 19%|███████████████▊                                                                  | 11/57 [00:13<00:52,  1.15s/it]"
     ]
    },
    {
     "name": "stdout",
     "output_type": "stream",
     "text": [
      "Getting the metrics for 7VqGj3RA5v\n"
     ]
    },
    {
     "name": "stderr",
     "output_type": "stream",
     "text": [
      " 21%|█████████████████▎                                                                | 12/57 [00:14<00:50,  1.13s/it]"
     ]
    },
    {
     "name": "stdout",
     "output_type": "stream",
     "text": [
      "Getting the metrics for 9vQ22OOoQK\n"
     ]
    },
    {
     "name": "stderr",
     "output_type": "stream",
     "text": [
      " 23%|██████████████████▋                                                               | 13/57 [00:16<00:57,  1.31s/it]"
     ]
    },
    {
     "name": "stdout",
     "output_type": "stream",
     "text": [
      "Getting the metrics for 9vQ2d3X75K\n"
     ]
    },
    {
     "name": "stderr",
     "output_type": "stream",
     "text": [
      " 25%|████████████████████▏                                                             | 14/57 [00:17<00:55,  1.30s/it]"
     ]
    },
    {
     "name": "stdout",
     "output_type": "stream",
     "text": [
      "Getting the metrics for 9vQ2dAKY5K\n"
     ]
    },
    {
     "name": "stderr",
     "output_type": "stream",
     "text": [
      " 26%|█████████████████████▌                                                            | 15/57 [00:19<01:02,  1.49s/it]"
     ]
    },
    {
     "name": "stdout",
     "output_type": "stream",
     "text": [
      "Getting the metrics for a35rlyZ4QL\n"
     ]
    },
    {
     "name": "stderr",
     "output_type": "stream",
     "text": [
      " 28%|███████████████████████                                                           | 16/57 [00:21<01:02,  1.53s/it]"
     ]
    },
    {
     "name": "stdout",
     "output_type": "stream",
     "text": [
      "Getting the metrics for aDQ0PjnGQE\n"
     ]
    },
    {
     "name": "stderr",
     "output_type": "stream",
     "text": [
      " 30%|████████████████████████▍                                                         | 17/57 [00:23<01:02,  1.57s/it]"
     ]
    },
    {
     "name": "stdout",
     "output_type": "stream",
     "text": [
      "Getting the metrics for BLMv1GlQxe\n"
     ]
    },
    {
     "name": "stderr",
     "output_type": "stream",
     "text": [
      " 32%|█████████████████████████▉                                                        | 18/57 [00:24<00:58,  1.49s/it]"
     ]
    },
    {
     "name": "stdout",
     "output_type": "stream",
     "text": [
      "Getting the metrics for BLMvlPy3qx\n"
     ]
    },
    {
     "name": "stderr",
     "output_type": "stream",
     "text": [
      " 33%|███████████████████████████▎                                                      | 19/57 [00:25<00:52,  1.37s/it]"
     ]
    },
    {
     "name": "stdout",
     "output_type": "stream",
     "text": [
      "Getting the metrics for e7Mz9DgGQr\n"
     ]
    },
    {
     "name": "stderr",
     "output_type": "stream",
     "text": [
      " 35%|████████████████████████████▊                                                     | 20/57 [00:27<00:53,  1.44s/it]"
     ]
    },
    {
     "name": "stdout",
     "output_type": "stream",
     "text": [
      "Getting the metrics for eV5D9A9qKn\n"
     ]
    },
    {
     "name": "stderr",
     "output_type": "stream",
     "text": [
      " 37%|██████████████████████████████▏                                                   | 21/57 [00:28<00:48,  1.36s/it]"
     ]
    },
    {
     "name": "stdout",
     "output_type": "stream",
     "text": [
      "Getting the metrics for eV5DLedE5K\n"
     ]
    },
    {
     "name": "stderr",
     "output_type": "stream",
     "text": [
      " 39%|███████████████████████████████▋                                                  | 22/57 [00:29<00:47,  1.36s/it]"
     ]
    },
    {
     "name": "stdout",
     "output_type": "stream",
     "text": [
      "Getting the metrics for eVq3a8XyMW\n"
     ]
    },
    {
     "name": "stderr",
     "output_type": "stream",
     "text": [
      " 40%|█████████████████████████████████                                                 | 23/57 [00:30<00:45,  1.35s/it]"
     ]
    },
    {
     "name": "stdout",
     "output_type": "stream",
     "text": [
      "Getting the metrics for eVq3apWvMW\n"
     ]
    },
    {
     "name": "stderr",
     "output_type": "stream",
     "text": [
      " 42%|██████████████████████████████████▌                                               | 24/57 [00:32<00:43,  1.33s/it]"
     ]
    },
    {
     "name": "stdout",
     "output_type": "stream",
     "text": [
      "Getting the metrics for eVq3jYZv5W\n"
     ]
    },
    {
     "name": "stderr",
     "output_type": "stream",
     "text": [
      " 44%|███████████████████████████████████▉                                              | 25/57 [00:33<00:45,  1.41s/it]"
     ]
    },
    {
     "name": "stdout",
     "output_type": "stream",
     "text": [
      "Getting the metrics for eVq3xXDDQW\n"
     ]
    },
    {
     "name": "stderr",
     "output_type": "stream",
     "text": [
      " 46%|█████████████████████████████████████▍                                            | 26/57 [00:35<00:45,  1.47s/it]"
     ]
    },
    {
     "name": "stdout",
     "output_type": "stream",
     "text": [
      "Getting the metrics for gjMNv7PpMK\n"
     ]
    },
    {
     "name": "stderr",
     "output_type": "stream",
     "text": [
      " 47%|██████████████████████████████████████▊                                           | 27/57 [00:37<00:46,  1.55s/it]"
     ]
    },
    {
     "name": "stdout",
     "output_type": "stream",
     "text": [
      "Getting the metrics for gjMNvjYvMK\n"
     ]
    },
    {
     "name": "stderr",
     "output_type": "stream",
     "text": [
      " 49%|████████████████████████████████████████▎                                         | 28/57 [00:38<00:45,  1.56s/it]"
     ]
    },
    {
     "name": "stdout",
     "output_type": "stream",
     "text": [
      "Getting the metrics for gOMn66nAMw\n"
     ]
    },
    {
     "name": "stderr",
     "output_type": "stream",
     "text": [
      " 51%|█████████████████████████████████████████▋                                        | 29/57 [00:40<00:43,  1.55s/it]"
     ]
    },
    {
     "name": "stdout",
     "output_type": "stream",
     "text": [
      "Getting the metrics for gOMnR96lMw\n"
     ]
    },
    {
     "name": "stderr",
     "output_type": "stream",
     "text": [
      " 53%|███████████████████████████████████████████▏                                      | 30/57 [00:42<00:44,  1.66s/it]"
     ]
    },
    {
     "name": "stdout",
     "output_type": "stream",
     "text": [
      "Getting the metrics for gOMnRPxXMw\n"
     ]
    },
    {
     "name": "stderr",
     "output_type": "stream",
     "text": [
      " 54%|████████████████████████████████████████████▌                                     | 31/57 [00:43<00:37,  1.42s/it]"
     ]
    },
    {
     "name": "stdout",
     "output_type": "stream",
     "text": [
      "Getting the metrics for gpMOa6zrqz\n"
     ]
    },
    {
     "name": "stderr",
     "output_type": "stream",
     "text": [
      " 56%|██████████████████████████████████████████████                                    | 32/57 [00:44<00:35,  1.42s/it]"
     ]
    },
    {
     "name": "stdout",
     "output_type": "stream",
     "text": [
      "Getting the metrics for gpMOyGlqzy\n"
     ]
    },
    {
     "name": "stderr",
     "output_type": "stream",
     "text": [
      " 58%|███████████████████████████████████████████████▍                                  | 33/57 [00:45<00:29,  1.24s/it]"
     ]
    },
    {
     "name": "stdout",
     "output_type": "stream",
     "text": [
      "Getting the metrics for jYQJOaZMGR\n"
     ]
    },
    {
     "name": "stderr",
     "output_type": "stream",
     "text": [
      " 60%|████████████████████████████████████████████████▉                                 | 34/57 [00:46<00:30,  1.31s/it]"
     ]
    },
    {
     "name": "stdout",
     "output_type": "stream",
     "text": [
      "Getting the metrics for KAqBjWZBqb\n"
     ]
    },
    {
     "name": "stderr",
     "output_type": "stream",
     "text": [
      " 61%|██████████████████████████████████████████████████▎                               | 35/57 [00:47<00:27,  1.25s/it]"
     ]
    },
    {
     "name": "stdout",
     "output_type": "stream",
     "text": [
      "Getting the metrics for KPqj7jY4Q6\n"
     ]
    },
    {
     "name": "stderr",
     "output_type": "stream",
     "text": [
      " 63%|███████████████████████████████████████████████████▊                              | 36/57 [00:48<00:25,  1.21s/it]"
     ]
    },
    {
     "name": "stdout",
     "output_type": "stream",
     "text": [
      "Getting the metrics for KPqj7OVPQ6\n"
     ]
    },
    {
     "name": "stderr",
     "output_type": "stream",
     "text": [
      " 65%|█████████████████████████████████████████████████████▏                            | 37/57 [00:50<00:26,  1.31s/it]"
     ]
    },
    {
     "name": "stdout",
     "output_type": "stream",
     "text": [
      "Getting the metrics for KPqjodRYQ6\n"
     ]
    },
    {
     "name": "stderr",
     "output_type": "stream",
     "text": [
      " 67%|██████████████████████████████████████████████████████▋                           | 38/57 [00:52<00:25,  1.36s/it]"
     ]
    },
    {
     "name": "stdout",
     "output_type": "stream",
     "text": [
      "Getting the metrics for KPqjodW4Q6\n"
     ]
    },
    {
     "name": "stderr",
     "output_type": "stream",
     "text": [
      " 68%|████████████████████████████████████████████████████████                          | 39/57 [00:53<00:24,  1.36s/it]"
     ]
    },
    {
     "name": "stdout",
     "output_type": "stream",
     "text": [
      "Getting the metrics for KPqjzJ2q6v\n"
     ]
    },
    {
     "name": "stderr",
     "output_type": "stream",
     "text": [
      " 70%|█████████████████████████████████████████████████████████▌                        | 40/57 [00:54<00:23,  1.35s/it]"
     ]
    },
    {
     "name": "stdout",
     "output_type": "stream",
     "text": [
      "Getting the metrics for kRQa207YMK\n"
     ]
    },
    {
     "name": "stderr",
     "output_type": "stream",
     "text": [
      " 72%|██████████████████████████████████████████████████████████▉                       | 41/57 [00:56<00:23,  1.45s/it]"
     ]
    },
    {
     "name": "stdout",
     "output_type": "stream",
     "text": [
      "Getting the metrics for KXMe4l1Q64\n"
     ]
    },
    {
     "name": "stderr",
     "output_type": "stream",
     "text": [
      " 74%|████████████████████████████████████████████████████████████▍                     | 42/57 [00:57<00:20,  1.38s/it]"
     ]
    },
    {
     "name": "stdout",
     "output_type": "stream",
     "text": [
      "Getting the metrics for KXMeAPkM64\n"
     ]
    },
    {
     "name": "stderr",
     "output_type": "stream",
     "text": [
      " 75%|█████████████████████████████████████████████████████████████▊                    | 43/57 [00:59<00:20,  1.45s/it]"
     ]
    },
    {
     "name": "stdout",
     "output_type": "stream",
     "text": [
      "Getting the metrics for ljqE2EWkQx\n"
     ]
    },
    {
     "name": "stderr",
     "output_type": "stream",
     "text": [
      " 77%|███████████████████████████████████████████████████████████████▎                  | 44/57 [01:00<00:18,  1.44s/it]"
     ]
    },
    {
     "name": "stdout",
     "output_type": "stream",
     "text": [
      "Getting the metrics for ljqE2PwVQx\n"
     ]
    },
    {
     "name": "stderr",
     "output_type": "stream",
     "text": [
      " 79%|████████████████████████████████████████████████████████████████▋                 | 45/57 [01:02<00:17,  1.49s/it]"
     ]
    },
    {
     "name": "stdout",
     "output_type": "stream",
     "text": [
      "Getting the metrics for ljqEjLaEQx\n"
     ]
    },
    {
     "name": "stderr",
     "output_type": "stream",
     "text": [
      " 81%|██████████████████████████████████████████████████████████████████▏               | 46/57 [01:03<00:15,  1.43s/it]"
     ]
    },
    {
     "name": "stdout",
     "output_type": "stream",
     "text": [
      "Getting the metrics for NWMWeDYqlz\n"
     ]
    },
    {
     "name": "stderr",
     "output_type": "stream",
     "text": [
      " 82%|███████████████████████████████████████████████████████████████████▌              | 47/57 [01:05<00:14,  1.48s/it]"
     ]
    },
    {
     "name": "stdout",
     "output_type": "stream",
     "text": [
      "Getting the metrics for Oa5wVgVYM1\n"
     ]
    },
    {
     "name": "stderr",
     "output_type": "stream",
     "text": [
      " 84%|█████████████████████████████████████████████████████████████████████             | 48/57 [01:06<00:12,  1.42s/it]"
     ]
    },
    {
     "name": "stdout",
     "output_type": "stream",
     "text": [
      "Getting the metrics for p6qbenoB50\n"
     ]
    },
    {
     "name": "stderr",
     "output_type": "stream",
     "text": [
      " 86%|██████████████████████████████████████████████████████████████████████▍           | 49/57 [01:07<00:11,  1.40s/it]"
     ]
    },
    {
     "name": "stdout",
     "output_type": "stream",
     "text": [
      "Getting the metrics for raMyAGEBMd\n"
     ]
    },
    {
     "name": "stderr",
     "output_type": "stream",
     "text": [
      " 88%|███████████████████████████████████████████████████████████████████████▉          | 50/57 [01:09<00:09,  1.40s/it]"
     ]
    },
    {
     "name": "stdout",
     "output_type": "stream",
     "text": [
      "Getting the metrics for raMyAZR2Md\n"
     ]
    },
    {
     "name": "stderr",
     "output_type": "stream",
     "text": [
      " 89%|█████████████████████████████████████████████████████████████████████████▎        | 51/57 [01:10<00:09,  1.53s/it]"
     ]
    },
    {
     "name": "stdout",
     "output_type": "stream",
     "text": [
      "Getting the metrics for Vj58YwDDq8\n"
     ]
    },
    {
     "name": "stderr",
     "output_type": "stream",
     "text": [
      " 91%|██████████████████████████████████████████████████████████████████████████▊       | 52/57 [01:12<00:07,  1.45s/it]"
     ]
    },
    {
     "name": "stdout",
     "output_type": "stream",
     "text": [
      "Getting the metrics for Vj58zZ2Q8n\n"
     ]
    },
    {
     "name": "stderr",
     "output_type": "stream",
     "text": [
      " 93%|████████████████████████████████████████████████████████████████████████████▏     | 53/57 [01:14<00:06,  1.57s/it]"
     ]
    },
    {
     "name": "stdout",
     "output_type": "stream",
     "text": [
      "Getting the metrics for wvq9bOBQWn\n"
     ]
    },
    {
     "name": "stderr",
     "output_type": "stream",
     "text": [
      " 95%|█████████████████████████████████████████████████████████████████████████████▋    | 54/57 [01:16<00:05,  1.69s/it]"
     ]
    },
    {
     "name": "stdout",
     "output_type": "stream",
     "text": [
      "Getting the metrics for wvq9pBZm5W\n"
     ]
    },
    {
     "name": "stderr",
     "output_type": "stream",
     "text": [
      " 96%|███████████████████████████████████████████████████████████████████████████████   | 55/57 [01:17<00:03,  1.59s/it]"
     ]
    },
    {
     "name": "stdout",
     "output_type": "stream",
     "text": [
      "Getting the metrics for xW5prbllQg\n"
     ]
    },
    {
     "name": "stderr",
     "output_type": "stream",
     "text": [
      " 98%|████████████████████████████████████████████████████████████████████████████████▌ | 56/57 [01:18<00:01,  1.45s/it]"
     ]
    },
    {
     "name": "stdout",
     "output_type": "stream",
     "text": [
      "Getting the metrics for zeQZJX6KQK\n"
     ]
    },
    {
     "name": "stderr",
     "output_type": "stream",
     "text": [
      "100%|██████████████████████████████████████████████████████████████████████████████████| 57/57 [01:19<00:00,  1.40s/it]"
     ]
    },
    {
     "name": "stdout",
     "output_type": "stream",
     "text": [
      "data/filtered_players_get_player_xgoals.csv\n"
     ]
    },
    {
     "name": "stderr",
     "output_type": "stream",
     "text": [
      "\n"
     ]
    }
   ],
   "source": [
    "xgoals = filter_metric(players_midfield, games, asa_client, 'get_player_xgoals', start_season, end_season)"
   ]
  },
  {
   "cell_type": "markdown",
   "id": "495af5d0-b5b9-46ab-bfb6-20a8d7220c67",
   "metadata": {},
   "source": [
    "### Combine the dataframes into one datafra"
   ]
  },
  {
   "cell_type": "code",
   "execution_count": 19,
   "id": "2e25c6ef-8239-4623-85a2-211f28d3d0f6",
   "metadata": {},
   "outputs": [],
   "source": [
    "selected_columns = list(set(list(xpasspercent.columns) + list(xgoals.columns) + list(goals_added)))"
   ]
  },
  {
   "cell_type": "code",
   "execution_count": 20,
   "id": "fb274b0a-54be-4472-b314-33d1f2a15fed",
   "metadata": {},
   "outputs": [],
   "source": [
    "result_df = pd.concat([xpasspercent, goals_added, xgoals], axis=1)\n"
   ]
  },
  {
   "cell_type": "code",
   "execution_count": 21,
   "id": "99e0e06c-3da3-4ac8-8921-bff4dc9d96e0",
   "metadata": {},
   "outputs": [],
   "source": [
    "result_df = result_df[selected_columns]"
   ]
  },
  {
   "cell_type": "code",
   "execution_count": 22,
   "id": "8f8bfaaa-8d0f-4859-9767-4a235aaf560f",
   "metadata": {},
   "outputs": [],
   "source": [
    "# drop duplicated columns\n",
    "\n",
    "result_df = result_df.loc[:, ~result_df.columns.duplicated()]"
   ]
  },
  {
   "cell_type": "code",
   "execution_count": 23,
   "id": "7e4fd1de-dd9f-4c77-81fa-dbd8319db0c6",
   "metadata": {},
   "outputs": [],
   "source": [
    "# adding the player_name colum to the result\n",
    "# Merge dataframes on 'player_id'\n",
    "\n",
    "result_df = pd.merge(result_df, players[['player_id', 'player_name']], on='player_id', how='left')"
   ]
  },
  {
   "cell_type": "code",
   "execution_count": 24,
   "id": "36354fa3-e95e-489a-8968-c216aece44b6",
   "metadata": {},
   "outputs": [],
   "source": [
    "reordered_cols = ['player_id','player_name', 'minutes_played'] + [col for col in list(result_df.columns) if col not in ['player_id','player_name', 'minutes_played']]"
   ]
  },
  {
   "cell_type": "code",
   "execution_count": 25,
   "id": "75f49ce5-cddb-4ebd-a911-4bef728113f7",
   "metadata": {},
   "outputs": [
    {
     "data": {
      "text/plain": [
       "['player_id',\n",
       " 'player_name',\n",
       " 'minutes_played',\n",
       " 'Dribbling',\n",
       " 'xpass_completion_percentage',\n",
       " 'Passing',\n",
       " 'attempted_passes',\n",
       " 'Interrupting',\n",
       " 'Shooting',\n",
       " 'season_name',\n",
       " 'Receiving',\n",
       " 'goals_added_total',\n",
       " 'xassists',\n",
       " 'Fouling',\n",
       " 'xgoals']"
      ]
     },
     "execution_count": 25,
     "metadata": {},
     "output_type": "execute_result"
    }
   ],
   "source": [
    "reordered_cols"
   ]
  },
  {
   "cell_type": "code",
   "execution_count": 26,
   "id": "80a1e7af-785c-42e1-9ffd-fd5a03b8b90e",
   "metadata": {},
   "outputs": [],
   "source": [
    "result_df = result_df[reordered_cols]"
   ]
  },
  {
   "cell_type": "code",
   "execution_count": 27,
   "id": "96e3ad24-cef2-48fe-b29f-6694b6f2a1e5",
   "metadata": {},
   "outputs": [],
   "source": [
    "# Wrting to csv\n",
    "\n",
    "result_df.to_csv('data/metrics_dataframe.csv', index = False)"
   ]
  },
  {
   "cell_type": "markdown",
   "id": "8abda56a-4d52-48ad-8dad-8a6c1d6f9ef2",
   "metadata": {},
   "source": [
    "### Read the data and compute meta metrics"
   ]
  },
  {
   "cell_type": "code",
   "execution_count": 28,
   "id": "9f7fbed5-3582-4a33-b010-7d644cf78ad3",
   "metadata": {},
   "outputs": [],
   "source": [
    "df = pd.read_csv('data/metrics_dataframe.csv')"
   ]
  },
  {
   "cell_type": "code",
   "execution_count": 29,
   "id": "5dddb90f-866a-455e-9b27-1ee58cd297c4",
   "metadata": {},
   "outputs": [],
   "source": [
    "metrics= [col for col in list(df.columns) if col not in ['player_id', 'player_name', 'minutes_played', 'season_name']]"
   ]
  },
  {
   "cell_type": "code",
   "execution_count": 30,
   "id": "4f4fb300-8ea7-4b63-8e5d-1f6b0fcfce00",
   "metadata": {},
   "outputs": [],
   "source": [
    "## Function to compute discrimination and stability of each metric "
   ]
  },
  {
   "cell_type": "code",
   "execution_count": 31,
   "id": "61152d9b-571f-4b8c-aed6-38e566fc7940",
   "metadata": {},
   "outputs": [],
   "source": [
    "final_columns = list(range(start_season, end_season+1))+['stability']"
   ]
  },
  {
   "cell_type": "code",
   "execution_count": 32,
   "id": "dd5f69a2-4f5b-498b-a778-b44c21576cd8",
   "metadata": {},
   "outputs": [],
   "source": [
    "final_df = pd.DataFrame(index=metrics, columns=final_columns)"
   ]
  },
  {
   "cell_type": "code",
   "execution_count": 33,
   "id": "3d02fb33-49a6-4ae0-b0f5-80061126f226",
   "metadata": {},
   "outputs": [],
   "source": [
    "for metric in metrics:\n",
    "    for column in final_columns:\n",
    "        if column == 'stability':\n",
    "            continue\n",
    "        value = discrimination_season(df, metric, column)\n",
    "        # store the computed discrimination in result\n",
    "        final_df.at[metric, column]= value\n",
    "    \n",
    "    stability_score = stability_scores(df, metric)\n",
    "    # store the stability score\n",
    "    final_df.at[metric, 'stability'] = stability_score"
   ]
  },
  {
   "cell_type": "code",
   "execution_count": 34,
   "id": "3ce1247f-f202-4419-9cb7-fa3fa2169c63",
   "metadata": {},
   "outputs": [
    {
     "data": {
      "text/html": [
       "<div>\n",
       "<style scoped>\n",
       "    .dataframe tbody tr th:only-of-type {\n",
       "        vertical-align: middle;\n",
       "    }\n",
       "\n",
       "    .dataframe tbody tr th {\n",
       "        vertical-align: top;\n",
       "    }\n",
       "\n",
       "    .dataframe thead th {\n",
       "        text-align: right;\n",
       "    }\n",
       "</style>\n",
       "<table border=\"1\" class=\"dataframe\">\n",
       "  <thead>\n",
       "    <tr style=\"text-align: right;\">\n",
       "      <th></th>\n",
       "      <th>2018</th>\n",
       "      <th>2019</th>\n",
       "      <th>2020</th>\n",
       "      <th>2021</th>\n",
       "      <th>2022</th>\n",
       "      <th>2023</th>\n",
       "      <th>stability</th>\n",
       "    </tr>\n",
       "  </thead>\n",
       "  <tbody>\n",
       "    <tr>\n",
       "      <th>Dribbling</th>\n",
       "      <td>0.056571</td>\n",
       "      <td>0.04929</td>\n",
       "      <td>0.097037</td>\n",
       "      <td>0.107148</td>\n",
       "      <td>0.126137</td>\n",
       "      <td>0.048372</td>\n",
       "      <td>0.041469</td>\n",
       "    </tr>\n",
       "    <tr>\n",
       "      <th>xpass_completion_percentage</th>\n",
       "      <td>0.476738</td>\n",
       "      <td>0.438946</td>\n",
       "      <td>0.434802</td>\n",
       "      <td>0.427516</td>\n",
       "      <td>0.434307</td>\n",
       "      <td>0.475112</td>\n",
       "      <td>0.622099</td>\n",
       "    </tr>\n",
       "    <tr>\n",
       "      <th>Passing</th>\n",
       "      <td>0.210051</td>\n",
       "      <td>0.171898</td>\n",
       "      <td>0.190029</td>\n",
       "      <td>0.182569</td>\n",
       "      <td>0.181517</td>\n",
       "      <td>0.204182</td>\n",
       "      <td>0.412388</td>\n",
       "    </tr>\n",
       "    <tr>\n",
       "      <th>attempted_passes</th>\n",
       "      <td>0.560163</td>\n",
       "      <td>0.534005</td>\n",
       "      <td>0.528459</td>\n",
       "      <td>0.547297</td>\n",
       "      <td>0.497899</td>\n",
       "      <td>0.536853</td>\n",
       "      <td>0.761813</td>\n",
       "    </tr>\n",
       "    <tr>\n",
       "      <th>Interrupting</th>\n",
       "      <td>0.181811</td>\n",
       "      <td>0.144564</td>\n",
       "      <td>0.104235</td>\n",
       "      <td>0.07629</td>\n",
       "      <td>0.117593</td>\n",
       "      <td>0.182544</td>\n",
       "      <td>0.306864</td>\n",
       "    </tr>\n",
       "    <tr>\n",
       "      <th>Shooting</th>\n",
       "      <td>0.138425</td>\n",
       "      <td>0.104813</td>\n",
       "      <td>0.129063</td>\n",
       "      <td>0.129145</td>\n",
       "      <td>0.107773</td>\n",
       "      <td>0.094482</td>\n",
       "      <td>0.138637</td>\n",
       "    </tr>\n",
       "    <tr>\n",
       "      <th>Receiving</th>\n",
       "      <td>0.217061</td>\n",
       "      <td>0.175127</td>\n",
       "      <td>0.196123</td>\n",
       "      <td>0.222976</td>\n",
       "      <td>0.200856</td>\n",
       "      <td>0.186194</td>\n",
       "      <td>0.382239</td>\n",
       "    </tr>\n",
       "    <tr>\n",
       "      <th>goals_added_total</th>\n",
       "      <td>0.19339</td>\n",
       "      <td>0.121212</td>\n",
       "      <td>0.17034</td>\n",
       "      <td>0.179859</td>\n",
       "      <td>0.162854</td>\n",
       "      <td>0.134239</td>\n",
       "      <td>0.425229</td>\n",
       "    </tr>\n",
       "    <tr>\n",
       "      <th>xassists</th>\n",
       "      <td>0.246389</td>\n",
       "      <td>0.247361</td>\n",
       "      <td>0.200596</td>\n",
       "      <td>0.167499</td>\n",
       "      <td>0.23577</td>\n",
       "      <td>0.217004</td>\n",
       "      <td>0.478103</td>\n",
       "    </tr>\n",
       "    <tr>\n",
       "      <th>Fouling</th>\n",
       "      <td>0.110523</td>\n",
       "      <td>0.084648</td>\n",
       "      <td>0.102197</td>\n",
       "      <td>0.034567</td>\n",
       "      <td>0.024858</td>\n",
       "      <td>0.14855</td>\n",
       "      <td>0.068005</td>\n",
       "    </tr>\n",
       "    <tr>\n",
       "      <th>xgoals</th>\n",
       "      <td>0.267956</td>\n",
       "      <td>0.180514</td>\n",
       "      <td>0.241704</td>\n",
       "      <td>0.209391</td>\n",
       "      <td>0.229623</td>\n",
       "      <td>0.209213</td>\n",
       "      <td>0.442184</td>\n",
       "    </tr>\n",
       "  </tbody>\n",
       "</table>\n",
       "</div>"
      ],
      "text/plain": [
       "                                 2018      2019      2020      2021      2022  \\\n",
       "Dribbling                    0.056571   0.04929  0.097037  0.107148  0.126137   \n",
       "xpass_completion_percentage  0.476738  0.438946  0.434802  0.427516  0.434307   \n",
       "Passing                      0.210051  0.171898  0.190029  0.182569  0.181517   \n",
       "attempted_passes             0.560163  0.534005  0.528459  0.547297  0.497899   \n",
       "Interrupting                 0.181811  0.144564  0.104235   0.07629  0.117593   \n",
       "Shooting                     0.138425  0.104813  0.129063  0.129145  0.107773   \n",
       "Receiving                    0.217061  0.175127  0.196123  0.222976  0.200856   \n",
       "goals_added_total             0.19339  0.121212   0.17034  0.179859  0.162854   \n",
       "xassists                     0.246389  0.247361  0.200596  0.167499   0.23577   \n",
       "Fouling                      0.110523  0.084648  0.102197  0.034567  0.024858   \n",
       "xgoals                       0.267956  0.180514  0.241704  0.209391  0.229623   \n",
       "\n",
       "                                 2023 stability  \n",
       "Dribbling                    0.048372  0.041469  \n",
       "xpass_completion_percentage  0.475112  0.622099  \n",
       "Passing                      0.204182  0.412388  \n",
       "attempted_passes             0.536853  0.761813  \n",
       "Interrupting                 0.182544  0.306864  \n",
       "Shooting                     0.094482  0.138637  \n",
       "Receiving                    0.186194  0.382239  \n",
       "goals_added_total            0.134239  0.425229  \n",
       "xassists                     0.217004  0.478103  \n",
       "Fouling                       0.14855  0.068005  \n",
       "xgoals                       0.209213  0.442184  "
      ]
     },
     "execution_count": 34,
     "metadata": {},
     "output_type": "execute_result"
    }
   ],
   "source": [
    "final_df"
   ]
  },
  {
   "cell_type": "code",
   "execution_count": 35,
   "id": "82997071-1f38-4937-95ca-22f8df040c42",
   "metadata": {},
   "outputs": [],
   "source": [
    "## Write output\n",
    "folder = 'results'\n",
    "if not os.path.exists(folder):\n",
    "    os.mkdir(folder)\n",
    "export_path = folder + '/' + 'output' + '.csv'\n",
    "final_df.to_csv(export_path, index = True)"
   ]
  },
  {
   "cell_type": "markdown",
   "id": "0e093513-f7be-4fd5-a443-7951864420f7",
   "metadata": {},
   "source": [
    "### Heatmap"
   ]
  },
  {
   "cell_type": "code",
   "execution_count": 36,
   "id": "8e922ab1-f185-4626-b564-a7bb5caff773",
   "metadata": {},
   "outputs": [],
   "source": [
    "final_df  = final_df.apply(pd.to_numeric)"
   ]
  },
  {
   "cell_type": "code",
   "execution_count": 37,
   "id": "dd055bbf-5222-4666-8896-3a3d8a043cca",
   "metadata": {},
   "outputs": [
    {
     "data": {
      "image/png": "[encoded data removed]",
      "text/plain": [
       "<Figure size 2000x800 with 2 Axes>"
      ]
     },
     "metadata": {},
     "output_type": "display_data"
    }
   ],
   "source": [
    "plt.figure(figsize=(20, 8))\n",
    "sns.heatmap(final_df, annot=True, cmap='coolwarm', fmt=\".2f\", linewidths=.5)\n",
    "plt.title('Discrimination and Stability Values', fontweight = 'bold')\n",
    "plt.xlabel('Season', fontweight='bold')\n",
    "plt.ylabel('Evaluation Metric', fontweight='bold')\n",
    "\n",
    "## Write output\n",
    "folder = 'results'\n",
    "if not os.path.exists(folder):\n",
    "    os.mkdir(folder)\n",
    "export_path = folder + '/' + 'heatmap' + '.png'\n",
    "plt.savefig(export_path)"
   ]
  },
  {
   "cell_type": "code",
   "execution_count": 38,
   "id": "ff853b39-16e1-4e7f-a58c-59e18692c380",
   "metadata": {},
   "outputs": [
    {
     "data": {
      "image/png": "[encoded data removed]",
      "text/plain": [
       "<Figure size 1600x600 with 1 Axes>"
      ]
     },
     "metadata": {},
     "output_type": "display_data"
    }
   ],
   "source": [
    "## Lineplot\n",
    "lineplot_df = final_df.drop('stability', axis = 1).reset_index().melt( id_vars='index', var_name='season', value_name='discrimination')\n",
    "lineplot_df\n",
    "\n",
    "# Set a professional style\n",
    "sns.set(style=\"ticks\")\n",
    "\n",
    "# Define a custom color palette\n",
    "custom_palette = sns.color_palette(\"Set2\", n_colors=lineplot_df['index'].nunique())\n",
    "\n",
    "plt.figure(figsize=(16, 6))\n",
    "sns.lineplot(x='season',\n",
    "             y='discrimination',\n",
    "             hue='index',\n",
    "             data=lineplot_df,\n",
    "             marker='o',\n",
    "             palette=custom_palette,\n",
    "            linewidth=2,\n",
    "             markersize=8)\n",
    "\n",
    "plt.title('Discrimination Change across seasons', fontweight = 'bold')\n",
    "plt.xlabel('Season', fontweight = 'bold')\n",
    "plt.ylabel('Discrimination Value', fontweight = 'bold')\n",
    "# Move the legend outside\n",
    "plt.legend(title='Metrics', bbox_to_anchor=(1.05, 1), loc='upper left')\n",
    "\n",
    "## Write output\n",
    "folder = 'results'\n",
    "if not os.path.exists(folder):\n",
    "    os.mkdir(folder)\n",
    "export_path = folder + '/' + 'lineplot' + '.png'\n",
    "plt.savefig(export_path, bbox_inches='tight')"
   ]
  }
 ],
 "metadata": {
  "kernelspec": {
   "display_name": "Python [conda env:asa]",
   "language": "python",
   "name": "conda-env-asa-py"
  },
  "language_info": {
   "codemirror_mode": {
    "name": "ipython",
    "version": 3
   },
   "file_extension": ".py",
   "mimetype": "text/x-python",
   "name": "python",
   "nbconvert_exporter": "python",
   "pygments_lexer": "ipython3",
   "version": "3.9.18"
  }
 },
 "nbformat": 4,
 "nbformat_minor": 5
}
