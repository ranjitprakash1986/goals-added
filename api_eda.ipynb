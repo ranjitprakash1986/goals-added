{
 "cells": [
  {
   "cell_type": "code",
   "execution_count": 132,
   "id": "e2250811-19e1-4914-ba25-774407593169",
   "metadata": {},
   "outputs": [],
   "source": [
    "## imports\n",
    "\n",
    "import pandas as pd\n",
    "import numpy as np\n",
    "import os\n",
    "\n",
    "from tqdm import tqdm\n",
    "from ast import literal_eval"
   ]
  },
  {
   "cell_type": "code",
   "execution_count": 3,
   "id": "7bcbee89-28c5-468f-8446-ee72c1e12972",
   "metadata": {},
   "outputs": [
    {
     "name": "stdout",
     "output_type": "stream",
     "text": [
      "Gathering all players\n",
      "Gathering all teams\n",
      "Gathering all stadia\n",
      "Gathering all managers\n",
      "Gathering all referees\n",
      "Finished initializing client\n"
     ]
    }
   ],
   "source": [
    "# other imports\n",
    "from itscalledsoccer.client import AmericanSoccerAnalysis\n",
    "asa_client = AmericanSoccerAnalysis()"
   ]
  },
  {
   "cell_type": "markdown",
   "id": "ceb93026-2e11-40cc-88c7-4d285ac8f3b0",
   "metadata": {},
   "source": [
    "### Getting the data from the API"
   ]
  },
  {
   "cell_type": "code",
   "execution_count": 4,
   "id": "4b561214-767b-4297-a209-e6e14650bdb8",
   "metadata": {},
   "outputs": [
    {
     "data": {
      "text/plain": [
       "['stadium_id',\n",
       " 'stadium_name',\n",
       " 'capacity',\n",
       " 'year_built',\n",
       " 'roof',\n",
       " 'turf',\n",
       " 'street',\n",
       " 'city',\n",
       " 'province',\n",
       " 'country',\n",
       " 'postal_code',\n",
       " 'latitude',\n",
       " 'longitude',\n",
       " 'field_x',\n",
       " 'field_y',\n",
       " 'competition']"
      ]
     },
     "execution_count": 4,
     "metadata": {},
     "output_type": "execute_result"
    }
   ],
   "source": [
    "stadia = asa_client.get_stadia(leagues='mls')\n",
    "stadia.columns.to_list()"
   ]
  },
  {
   "cell_type": "code",
   "execution_count": 5,
   "id": "0f484440-dabd-4c68-9f10-7f6951294e19",
   "metadata": {},
   "outputs": [
    {
     "data": {
      "text/plain": [
       "['referee_id', 'referee_name', 'nationality', 'birth_date', 'competition']"
      ]
     },
     "execution_count": 5,
     "metadata": {},
     "output_type": "execute_result"
    }
   ],
   "source": [
    "refrees = asa_client.get_referees(leagues='mls')\n",
    "refrees.columns.to_list()"
   ]
  },
  {
   "cell_type": "code",
   "execution_count": 6,
   "id": "21d7d166-fa50-4a3a-a944-04802f5b6e68",
   "metadata": {},
   "outputs": [
    {
     "data": {
      "text/plain": [
       "['manager_id', 'manager_name', 'nationality', 'competition']"
      ]
     },
     "execution_count": 6,
     "metadata": {},
     "output_type": "execute_result"
    }
   ],
   "source": [
    "managers = asa_client.get_managers(leagues='mls')\n",
    "managers.columns.to_list()"
   ]
  },
  {
   "cell_type": "code",
   "execution_count": 7,
   "id": "6b814232-4090-49de-b02d-5f47c05fe840",
   "metadata": {},
   "outputs": [
    {
     "data": {
      "text/plain": [
       "['team_id', 'team_name', 'team_short_name', 'team_abbreviation', 'competition']"
      ]
     },
     "execution_count": 7,
     "metadata": {},
     "output_type": "execute_result"
    }
   ],
   "source": [
    "teams = asa_client.get_teams(leagues='mls')\n",
    "teams.columns.to_list()"
   ]
  },
  {
   "cell_type": "code",
   "execution_count": 8,
   "id": "cac99191-d5f9-4d4e-b3ee-834a126df86a",
   "metadata": {},
   "outputs": [
    {
     "data": {
      "text/plain": [
       "['player_id',\n",
       " 'player_name',\n",
       " 'birth_date',\n",
       " 'nationality',\n",
       " 'primary_broad_position',\n",
       " 'primary_general_position',\n",
       " 'secondary_broad_position',\n",
       " 'secondary_general_position',\n",
       " 'season_name',\n",
       " 'height_ft',\n",
       " 'height_in',\n",
       " 'weight_lb',\n",
       " 'competition']"
      ]
     },
     "execution_count": 8,
     "metadata": {},
     "output_type": "execute_result"
    }
   ],
   "source": [
    "players = asa_client.get_players(leagues='mls')\n",
    "players.columns.to_list()"
   ]
  },
  {
   "cell_type": "code",
   "execution_count": 9,
   "id": "14e78ade-da35-4a93-8b22-884924d7b250",
   "metadata": {},
   "outputs": [
    {
     "data": {
      "text/plain": [
       "['game_id',\n",
       " 'date_time_utc',\n",
       " 'home_score',\n",
       " 'away_score',\n",
       " 'home_team_id',\n",
       " 'away_team_id',\n",
       " 'referee_id',\n",
       " 'stadium_id',\n",
       " 'home_manager_id',\n",
       " 'away_manager_id',\n",
       " 'expanded_minutes',\n",
       " 'season_name',\n",
       " 'matchday',\n",
       " 'attendance',\n",
       " 'knockout_game',\n",
       " 'last_updated_utc',\n",
       " 'extra_time',\n",
       " 'penalties',\n",
       " 'home_penalties',\n",
       " 'away_penalties']"
      ]
     },
     "execution_count": 9,
     "metadata": {},
     "output_type": "execute_result"
    }
   ],
   "source": [
    "games = asa_client.get_games(leagues='mls')\n",
    "games.columns.to_list()"
   ]
  },
  {
   "cell_type": "markdown",
   "id": "78153514-29f8-48d8-98c2-46365aff42f7",
   "metadata": {},
   "source": [
    "### Functions to filter the data"
   ]
  },
  {
   "cell_type": "code",
   "execution_count": 206,
   "id": "742496bf-a3fe-498d-8fd5-f89b1949c59a",
   "metadata": {},
   "outputs": [],
   "source": [
    "def filter_metric(players_df, games_df, client=asa_client, method='get_player_xgoals', start_season=2020, end_season=2023):\n",
    "    '''\n",
    "    returns df of player specific metric in the given season start to end ranges\n",
    "    returned df contains the metric and the season_name column\n",
    "    '''\n",
    "    desired_range = [str(yr) for yr in list(range(start_season, end_season+1))]\n",
    "    players_df = players_df[players_df['season_name'].apply(lambda seasons: set(seasons).issuperset(set(desired_range)))]    \n",
    "    \n",
    "    # getting the specific metric\n",
    "    player_id_list = list(players_df.player_id.unique())\n",
    "    \n",
    "    dfs = []\n",
    "    \n",
    "    # get the method based on the client and the method name specified as arguments\n",
    "    if hasattr(client, method):\n",
    "        func = getattr(client, method)\n",
    "    \n",
    "    # columns to keep based on provided method\n",
    "    \n",
    "    if method == 'get_player_xgoals':\n",
    "        columns_to_keep = ['player_id', 'minutes_played','xgoals', 'goals', 'season_name']\n",
    "    if method == 'get_player_xpass':\n",
    "        columns_to_keep = ['player_id', 'minutes_played', 'attempted_passes', 'xpass_completion_percentage','season_name']\n",
    "    if method == 'get_player_goals_added' or method == 'get_goalkeeper_goals_added':\n",
    "        columns_to_keep = ['player_id', 'minutes_played', 'data', 'season_name']   \n",
    "    if method == 'get_goalkeeper_xgoals':\n",
    "        columns_to_keep = ['player_id', 'minutes_played', 'xgoals_gk_faced', 'saves', 'goals_conceded','season_name']         \n",
    "        \n",
    "    # iterate to get the dfs per player id\n",
    "    for player_id in tqdm(player_id_list):\n",
    "        print(f\"Getting the metrics for {player_id}\") \n",
    "        df = func(leagues = 'mls', player_ids = player_id, season_name=desired_range, split_by_games = True)\n",
    "        \n",
    "        # filter to meet minimum play time\n",
    "        df = df[df['minutes_played']>=30]\n",
    "        \n",
    "        # add season name to the df\n",
    "        df = pd.merge(df, games_df, on='game_id', how='left')\n",
    "        \n",
    "        # keep only wanted columns\n",
    "        df = df[columns_to_keep].sort_values(by='season_name')\n",
    "        \n",
    "        # if the columns to keeo has a data columns of dictionaries then do the following\n",
    "        if 'data' in columns_to_keep:\n",
    "            print('reorganizing columns')\n",
    "            reorganized_df_list = [] \n",
    "            for i,row in df.iterrows():\n",
    "                df_ = pd.json_normalize(row['data'])[['action_type', 'goals_added_raw']].T\n",
    "                df_.columns = df_.iloc[0]\n",
    "                df_ = df_[1:]\n",
    "                reorganized_df_list.append(df_)\n",
    "\n",
    "            reorganized_df = pd.concat(reorganized_df_list, axis = 0).reset_index(drop = True)\n",
    "            \n",
    "            # concatenate the reorganized df with the orginal df, drop the data column\n",
    "            df = pd.concat([df, reorganized_df], axis = 1).drop('data', axis=1)\n",
    "            df['goals_added_total'] = df['Dribbling'] + df['Fouling'] + df['Interrupting'] + df['Passing'] + df['Receiving']+ df['Shooting']\n",
    "            \n",
    "        dfs.append(df)\n",
    "    \n",
    "    # concatenate and return result\n",
    "    df_concat = pd.concat(dfs, ignore_index=True)\n",
    "    \n",
    "    # write to csv\n",
    "    folder = 'data'\n",
    "    df_name = str(f'{players_df}')\n",
    "    if not os.path.exists(folder):\n",
    "        os.mkdirs(folder)\n",
    "    export_path = folder + '/' + f'filtered_players'+ '_'+ f'{method}' + '.csv'\n",
    "    print(export_path)\n",
    "    df_concat.to_csv(export_path, index = False)\n",
    "    \n",
    "    return df_concat"
   ]
  },
  {
   "cell_type": "code",
   "execution_count": 110,
   "id": "6799065f-721a-40a0-8c34-ff4080da7a7d",
   "metadata": {},
   "outputs": [],
   "source": [
    "## Latent Metrics - Discrimination\n",
    "\n",
    "def discrimination_season(df, metric='xgoals', season = 2020):\n",
    "    ''' returns discrimination ability of the metric in the specified season''' \n",
    "    # Filter rows with non-null values in the specified column\n",
    "    data = df[['season_name', 'player_id', metric]].dropna(subset=[metric])\n",
    "    # Filter rows based on the specified season\n",
    "    data = data[data['season_name'] == season]\n",
    "    \n",
    "    # Count the number of data points for each player\n",
    "    # player_data_counts = data.groupby('player_id').size()\n",
    "\n",
    "    # Filter out player_ids with less than two data points for the metric\n",
    "    # valid_player_ids = player_data_counts[player_data_counts >= 2].index\n",
    "    # data = data[data['player_id'].isin(valid_player_ids)]\n",
    "    \n",
    "    # Calculate sample intra_variance and sample cross_variance\n",
    "    data['cross_variance'] = data[metric].var(ddof=1)\n",
    "    result_data = data.groupby('player_id').agg(\n",
    "        intra_variance=pd.NamedAgg(column=metric, aggfunc=lambda x: x.var(ddof=1)),\n",
    "        cross_variance=pd.NamedAgg(column='cross_variance', aggfunc='mean')\n",
    "    )\n",
    "    \n",
    "    # Calculate and return the discrimination score\n",
    "    return 1 - (result_data['intra_variance'].mean() / result_data['cross_variance'].mean())"
   ]
  },
  {
   "cell_type": "code",
   "execution_count": 111,
   "id": "6976013b-cec6-4442-a9e8-a7308ca23bb3",
   "metadata": {},
   "outputs": [],
   "source": [
    "# Latent metrics - Stability\n",
    "\n",
    "def stability_scores(df, metric='xgoals'):\n",
    "    '''\n",
    "    returns the stability metric \n",
    "    '''\n",
    "    \n",
    "    btw_season_variance = df.groupby('player_id').agg(\n",
    "       bs_variance=pd.NamedAgg(column=metric, aggfunc=lambda x: x.var(ddof=1))\n",
    "    )['bs_variance'].mean()\n",
    "    \n",
    "    within_season_player_variance = df.groupby(['player_id', 'season_name']).agg(\n",
    "        wsp_variance=pd.NamedAgg(column=metric, aggfunc=lambda x: x.var(ddof=1))\n",
    "    )['wsp_variance'].mean()\n",
    "    \n",
    "    overall_variance = df[metric].var(ddof=1)\n",
    "    \n",
    "    stability = 1 - ((btw_season_variance - within_season_player_variance) / (overall_variance - within_season_player_variance))\n",
    "    \n",
    "    return stability"
   ]
  },
  {
   "cell_type": "markdown",
   "id": "e7aeb846-d79a-4257-b5b9-ceb77b72deaf",
   "metadata": {},
   "source": [
    "### Filtering out the players of interest"
   ]
  },
  {
   "cell_type": "code",
   "execution_count": 223,
   "id": "8e53e4a8-a94e-46bb-9ce1-e74ca075085c",
   "metadata": {},
   "outputs": [],
   "source": [
    "# midfielders, primary position\n",
    "players_midfield = players[players['primary_broad_position']== 'MF']"
   ]
  },
  {
   "cell_type": "code",
   "execution_count": 224,
   "id": "02d52271-f79c-43a0-bfaa-718468bb294c",
   "metadata": {},
   "outputs": [],
   "source": [
    "# select the wingers who players in sesons 2020 to 2023\n",
    "start_season = 2018\n",
    "end_season = 2023\n",
    "desired_range = [str(yr) for yr in list(range(start_season, end_season+1))]\n",
    "\n",
    "players_midfield = players_midfield[players_midfield['season_name'].apply(lambda seasons: set(seasons).issuperset(set(desired_range)))]"
   ]
  },
  {
   "cell_type": "code",
   "execution_count": 225,
   "id": "672d9c59-0006-4f64-ae4b-0395bbe7c116",
   "metadata": {},
   "outputs": [
    {
     "data": {
      "text/plain": [
       "(57, 13)"
      ]
     },
     "execution_count": 225,
     "metadata": {},
     "output_type": "execute_result"
    }
   ],
   "source": [
    "players_midfield.shape"
   ]
  },
  {
   "cell_type": "code",
   "execution_count": 226,
   "id": "70436e79-c5a8-4d65-bc5f-c4565e1b2f33",
   "metadata": {},
   "outputs": [
    {
     "data": {
      "text/plain": [
       "['0Oq6lyNdM6',\n",
       " '0Oq6wv26Q6',\n",
       " '0x5gXlrq7O',\n",
       " '2lqRRvNxqr',\n",
       " '2lqRRZy2qr',\n",
       " '2vQ1LYxbqr',\n",
       " '2vQ1LYY0qr',\n",
       " '4JMAaaxkMK',\n",
       " '4wM42Belqj',\n",
       " '7vQ73NxYQD',\n",
       " '7vQ7rPpOqD',\n",
       " '7VqGj3RA5v',\n",
       " '9vQ22OOoQK',\n",
       " '9vQ2d3X75K',\n",
       " '9vQ2dAKY5K',\n",
       " 'a35rlyZ4QL',\n",
       " 'aDQ0PjnGQE',\n",
       " 'BLMv1GlQxe',\n",
       " 'BLMvlPy3qx',\n",
       " 'e7Mz9DgGQr',\n",
       " 'eV5D9A9qKn',\n",
       " 'eV5DLedE5K',\n",
       " 'eVq3a8XyMW',\n",
       " 'eVq3apWvMW',\n",
       " 'eVq3jYZv5W',\n",
       " 'eVq3xXDDQW',\n",
       " 'gjMNv7PpMK',\n",
       " 'gjMNvjYvMK',\n",
       " 'gOMn66nAMw',\n",
       " 'gOMnR96lMw',\n",
       " 'gOMnRPxXMw',\n",
       " 'gpMOa6zrqz',\n",
       " 'gpMOyGlqzy',\n",
       " 'jYQJOaZMGR',\n",
       " 'KAqBjWZBqb',\n",
       " 'KPqj7jY4Q6',\n",
       " 'KPqj7OVPQ6',\n",
       " 'KPqjodRYQ6',\n",
       " 'KPqjodW4Q6',\n",
       " 'KPqjzJ2q6v',\n",
       " 'kRQa207YMK',\n",
       " 'KXMe4l1Q64',\n",
       " 'KXMeAPkM64',\n",
       " 'ljqE2EWkQx',\n",
       " 'ljqE2PwVQx',\n",
       " 'ljqEjLaEQx',\n",
       " 'NWMWeDYqlz',\n",
       " 'Oa5wVgVYM1',\n",
       " 'p6qbenoB50',\n",
       " 'raMyAGEBMd',\n",
       " 'raMyAZR2Md',\n",
       " 'Vj58YwDDq8',\n",
       " 'Vj58zZ2Q8n',\n",
       " 'wvq9bOBQWn',\n",
       " 'wvq9pBZm5W',\n",
       " 'xW5prbllQg',\n",
       " 'zeQZJX6KQK']"
      ]
     },
     "execution_count": 226,
     "metadata": {},
     "output_type": "execute_result"
    }
   ],
   "source": [
    "list(players_midfield.player_id.unique())"
   ]
  },
  {
   "cell_type": "code",
   "execution_count": 227,
   "id": "70fd7f09-87d4-496c-a8f7-8aad5caab84e",
   "metadata": {},
   "outputs": [
    {
     "data": {
      "text/plain": [
       "['Wil Trapp',\n",
       " 'Jonathan Lewis',\n",
       " 'Roger Espinoza',\n",
       " 'Scott Caldwell',\n",
       " 'Ilie Sánchez',\n",
       " 'Paul Arriola',\n",
       " 'Emmanuel Boateng',\n",
       " 'Sebastian Lletget',\n",
       " 'Mark Delgado',\n",
       " 'Kelyn Rowe',\n",
       " 'Russell Canouse',\n",
       " 'Samuel Piette',\n",
       " 'Jackson Yueill',\n",
       " 'Kellyn Acosta',\n",
       " 'Sean Davis',\n",
       " 'Diego Chara',\n",
       " 'Tommy McNamara',\n",
       " 'Albert Rusnák',\n",
       " 'Russell Teibert',\n",
       " 'Jack Price',\n",
       " 'Sebastián Blanco',\n",
       " 'Latif Blessing',\n",
       " 'Ismael Tajouri-Shradi',\n",
       " 'Pedro Santos',\n",
       " 'Derrick Jones',\n",
       " 'Cristian Cásseres Jr',\n",
       " 'Aníbal Godoy',\n",
       " 'Darlington Nagbe',\n",
       " 'Alexander Ring',\n",
       " 'Alex Muyl',\n",
       " 'Michael Barrios',\n",
       " 'Derrick Etienne',\n",
       " 'Kevin Molino',\n",
       " 'Osvaldo Alonso',\n",
       " 'Jonathan Osorio',\n",
       " 'Mark-Anthony Kaye',\n",
       " 'Fabian Herbers',\n",
       " 'Júnior Moreno',\n",
       " 'Dairon Asprilla',\n",
       " 'Maximiliano Morález',\n",
       " 'Paxton Pomykal',\n",
       " 'Alejandro Bedoya',\n",
       " 'Dax McCarty',\n",
       " 'Cristhian Paredes',\n",
       " 'Memo Rodríguez',\n",
       " 'Diego Fagundez',\n",
       " 'Nicolás Lodeiro',\n",
       " 'Chris Mueller',\n",
       " 'Ethan Finlay',\n",
       " 'Fafa Picault',\n",
       " 'Cristian Roldan',\n",
       " 'Justin Meram',\n",
       " 'Michael Bradley',\n",
       " 'Felipe',\n",
       " 'Uri Rosell',\n",
       " 'Artur',\n",
       " 'Victor Ulloa']"
      ]
     },
     "execution_count": 227,
     "metadata": {},
     "output_type": "execute_result"
    }
   ],
   "source": [
    "list(players_midfield.player_name.unique())"
   ]
  },
  {
   "cell_type": "markdown",
   "id": "5e3908f1-395c-4c37-afc4-ec1c52a58acd",
   "metadata": {},
   "source": [
    "## Extracting the dataframe for the filtered players and range of seasons"
   ]
  },
  {
   "cell_type": "markdown",
   "id": "7d8bb63f-dbac-4f07-8095-45bf10ec5734",
   "metadata": {},
   "source": [
    "### Expected pass percentage"
   ]
  },
  {
   "cell_type": "code",
   "execution_count": 229,
   "id": "d55ca79e-1803-4e00-8bae-971ad2bfdbd3",
   "metadata": {
    "collapsed": true,
    "jupyter": {
     "outputs_hidden": true
    },
    "tags": []
   },
   "outputs": [
    {
     "name": "stderr",
     "output_type": "stream",
     "text": [
      "  0%|                                                                                           | 0/57 [00:00<?, ?it/s]"
     ]
    },
    {
     "name": "stdout",
     "output_type": "stream",
     "text": [
      "Getting the metrics for 0Oq6lyNdM6\n"
     ]
    },
    {
     "name": "stderr",
     "output_type": "stream",
     "text": [
      "  2%|█▍                                                                                 | 1/57 [00:04<04:23,  4.71s/it]"
     ]
    },
    {
     "name": "stdout",
     "output_type": "stream",
     "text": [
      "Getting the metrics for 0Oq6wv26Q6\n"
     ]
    },
    {
     "name": "stderr",
     "output_type": "stream",
     "text": [
      "  4%|██▉                                                                                | 2/57 [00:06<02:58,  3.24s/it]"
     ]
    },
    {
     "name": "stdout",
     "output_type": "stream",
     "text": [
      "Getting the metrics for 0x5gXlrq7O\n"
     ]
    },
    {
     "name": "stderr",
     "output_type": "stream",
     "text": [
      "  5%|████▎                                                                              | 3/57 [00:10<02:54,  3.23s/it]"
     ]
    },
    {
     "name": "stdout",
     "output_type": "stream",
     "text": [
      "Getting the metrics for 2lqRRvNxqr\n"
     ]
    },
    {
     "name": "stderr",
     "output_type": "stream",
     "text": [
      "  7%|█████▊                                                                             | 4/57 [00:12<02:25,  2.75s/it]"
     ]
    },
    {
     "name": "stdout",
     "output_type": "stream",
     "text": [
      "Getting the metrics for 2lqRRZy2qr\n"
     ]
    },
    {
     "name": "stderr",
     "output_type": "stream",
     "text": [
      "  9%|███████▎                                                                           | 5/57 [00:13<02:04,  2.39s/it]"
     ]
    },
    {
     "name": "stdout",
     "output_type": "stream",
     "text": [
      "Getting the metrics for 2vQ1LYxbqr\n"
     ]
    },
    {
     "name": "stderr",
     "output_type": "stream",
     "text": [
      " 11%|████████▋                                                                          | 6/57 [00:15<01:49,  2.14s/it]"
     ]
    },
    {
     "name": "stdout",
     "output_type": "stream",
     "text": [
      "Getting the metrics for 2vQ1LYY0qr\n"
     ]
    },
    {
     "name": "stderr",
     "output_type": "stream",
     "text": [
      " 12%|██████████▏                                                                        | 7/57 [00:17<01:47,  2.16s/it]"
     ]
    },
    {
     "name": "stdout",
     "output_type": "stream",
     "text": [
      "Getting the metrics for 4JMAaaxkMK\n"
     ]
    },
    {
     "name": "stderr",
     "output_type": "stream",
     "text": [
      " 14%|███████████▋                                                                       | 8/57 [00:19<01:41,  2.08s/it]"
     ]
    },
    {
     "name": "stdout",
     "output_type": "stream",
     "text": [
      "Getting the metrics for 4wM42Belqj\n"
     ]
    },
    {
     "name": "stderr",
     "output_type": "stream",
     "text": [
      " 16%|█████████████                                                                      | 9/57 [00:21<01:38,  2.05s/it]"
     ]
    },
    {
     "name": "stdout",
     "output_type": "stream",
     "text": [
      "Getting the metrics for 7vQ73NxYQD\n"
     ]
    },
    {
     "name": "stderr",
     "output_type": "stream",
     "text": [
      " 18%|██████████████▍                                                                   | 10/57 [00:23<01:31,  1.95s/it]"
     ]
    },
    {
     "name": "stdout",
     "output_type": "stream",
     "text": [
      "Getting the metrics for 7vQ7rPpOqD\n"
     ]
    },
    {
     "name": "stderr",
     "output_type": "stream",
     "text": [
      " 19%|███████████████▊                                                                  | 11/57 [00:25<01:31,  1.99s/it]"
     ]
    },
    {
     "name": "stdout",
     "output_type": "stream",
     "text": [
      "Getting the metrics for 7VqGj3RA5v\n"
     ]
    },
    {
     "name": "stderr",
     "output_type": "stream",
     "text": [
      " 21%|█████████████████▎                                                                | 12/57 [00:27<01:29,  1.99s/it]"
     ]
    },
    {
     "name": "stdout",
     "output_type": "stream",
     "text": [
      "Getting the metrics for 9vQ22OOoQK\n"
     ]
    },
    {
     "name": "stderr",
     "output_type": "stream",
     "text": [
      " 23%|██████████████████▋                                                               | 13/57 [00:29<01:33,  2.12s/it]"
     ]
    },
    {
     "name": "stdout",
     "output_type": "stream",
     "text": [
      "Getting the metrics for 9vQ2d3X75K\n"
     ]
    },
    {
     "name": "stderr",
     "output_type": "stream",
     "text": [
      " 25%|████████████████████▏                                                             | 14/57 [00:32<01:39,  2.30s/it]"
     ]
    },
    {
     "name": "stdout",
     "output_type": "stream",
     "text": [
      "Getting the metrics for 9vQ2dAKY5K\n"
     ]
    },
    {
     "name": "stderr",
     "output_type": "stream",
     "text": [
      " 26%|█████████████████████▌                                                            | 15/57 [00:34<01:35,  2.27s/it]"
     ]
    },
    {
     "name": "stdout",
     "output_type": "stream",
     "text": [
      "Getting the metrics for a35rlyZ4QL\n"
     ]
    },
    {
     "name": "stderr",
     "output_type": "stream",
     "text": [
      " 28%|███████████████████████                                                           | 16/57 [00:36<01:29,  2.17s/it]"
     ]
    },
    {
     "name": "stdout",
     "output_type": "stream",
     "text": [
      "Getting the metrics for aDQ0PjnGQE\n"
     ]
    },
    {
     "name": "stderr",
     "output_type": "stream",
     "text": [
      " 30%|████████████████████████▍                                                         | 17/57 [00:39<01:36,  2.41s/it]"
     ]
    },
    {
     "name": "stdout",
     "output_type": "stream",
     "text": [
      "Getting the metrics for BLMv1GlQxe\n"
     ]
    },
    {
     "name": "stderr",
     "output_type": "stream",
     "text": [
      " 32%|█████████████████████████▉                                                        | 18/57 [00:41<01:30,  2.32s/it]"
     ]
    },
    {
     "name": "stdout",
     "output_type": "stream",
     "text": [
      "Getting the metrics for BLMvlPy3qx\n"
     ]
    },
    {
     "name": "stderr",
     "output_type": "stream",
     "text": [
      " 33%|███████████████████████████▎                                                      | 19/57 [00:44<01:38,  2.58s/it]"
     ]
    },
    {
     "name": "stdout",
     "output_type": "stream",
     "text": [
      "Getting the metrics for e7Mz9DgGQr\n"
     ]
    },
    {
     "name": "stderr",
     "output_type": "stream",
     "text": [
      " 35%|████████████████████████████▊                                                     | 20/57 [00:46<01:25,  2.31s/it]"
     ]
    },
    {
     "name": "stdout",
     "output_type": "stream",
     "text": [
      "Getting the metrics for eV5D9A9qKn\n"
     ]
    },
    {
     "name": "stderr",
     "output_type": "stream",
     "text": [
      " 37%|██████████████████████████████▏                                                   | 21/57 [00:49<01:28,  2.47s/it]"
     ]
    },
    {
     "name": "stdout",
     "output_type": "stream",
     "text": [
      "Getting the metrics for eV5DLedE5K\n"
     ]
    },
    {
     "name": "stderr",
     "output_type": "stream",
     "text": [
      " 39%|███████████████████████████████▋                                                  | 22/57 [00:51<01:22,  2.36s/it]"
     ]
    },
    {
     "name": "stdout",
     "output_type": "stream",
     "text": [
      "Getting the metrics for eVq3a8XyMW\n"
     ]
    },
    {
     "name": "stderr",
     "output_type": "stream",
     "text": [
      " 40%|█████████████████████████████████                                                 | 23/57 [00:53<01:17,  2.27s/it]"
     ]
    },
    {
     "name": "stdout",
     "output_type": "stream",
     "text": [
      "Getting the metrics for eVq3apWvMW\n"
     ]
    },
    {
     "name": "stderr",
     "output_type": "stream",
     "text": [
      " 42%|██████████████████████████████████▌                                               | 24/57 [00:55<01:11,  2.17s/it]"
     ]
    },
    {
     "name": "stdout",
     "output_type": "stream",
     "text": [
      "Getting the metrics for eVq3jYZv5W\n"
     ]
    },
    {
     "name": "stderr",
     "output_type": "stream",
     "text": [
      " 44%|███████████████████████████████████▉                                              | 25/57 [00:58<01:18,  2.46s/it]"
     ]
    },
    {
     "name": "stdout",
     "output_type": "stream",
     "text": [
      "Getting the metrics for eVq3xXDDQW\n"
     ]
    },
    {
     "name": "stderr",
     "output_type": "stream",
     "text": [
      " 46%|█████████████████████████████████████▍                                            | 26/57 [01:00<01:11,  2.30s/it]"
     ]
    },
    {
     "name": "stdout",
     "output_type": "stream",
     "text": [
      "Getting the metrics for gjMNv7PpMK\n"
     ]
    },
    {
     "name": "stderr",
     "output_type": "stream",
     "text": [
      " 47%|██████████████████████████████████████▊                                           | 27/57 [01:02<01:05,  2.19s/it]"
     ]
    },
    {
     "name": "stdout",
     "output_type": "stream",
     "text": [
      "Getting the metrics for gjMNvjYvMK\n"
     ]
    },
    {
     "name": "stderr",
     "output_type": "stream",
     "text": [
      " 49%|████████████████████████████████████████▎                                         | 28/57 [01:04<01:01,  2.12s/it]"
     ]
    },
    {
     "name": "stdout",
     "output_type": "stream",
     "text": [
      "Getting the metrics for gOMn66nAMw\n"
     ]
    },
    {
     "name": "stderr",
     "output_type": "stream",
     "text": [
      " 51%|█████████████████████████████████████████▋                                        | 29/57 [01:07<01:02,  2.24s/it]"
     ]
    },
    {
     "name": "stdout",
     "output_type": "stream",
     "text": [
      "Getting the metrics for gOMnR96lMw\n"
     ]
    },
    {
     "name": "stderr",
     "output_type": "stream",
     "text": [
      " 53%|███████████████████████████████████████████▏                                      | 30/57 [01:08<00:55,  2.07s/it]"
     ]
    },
    {
     "name": "stdout",
     "output_type": "stream",
     "text": [
      "Getting the metrics for gOMnRPxXMw\n"
     ]
    },
    {
     "name": "stderr",
     "output_type": "stream",
     "text": [
      " 54%|████████████████████████████████████████████▌                                     | 31/57 [01:10<00:47,  1.84s/it]"
     ]
    },
    {
     "name": "stdout",
     "output_type": "stream",
     "text": [
      "Getting the metrics for gpMOa6zrqz\n"
     ]
    },
    {
     "name": "stderr",
     "output_type": "stream",
     "text": [
      " 56%|██████████████████████████████████████████████                                    | 32/57 [01:12<00:49,  1.97s/it]"
     ]
    },
    {
     "name": "stdout",
     "output_type": "stream",
     "text": [
      "Getting the metrics for gpMOyGlqzy\n"
     ]
    },
    {
     "name": "stderr",
     "output_type": "stream",
     "text": [
      " 58%|███████████████████████████████████████████████▍                                  | 33/57 [01:13<00:43,  1.80s/it]"
     ]
    },
    {
     "name": "stdout",
     "output_type": "stream",
     "text": [
      "Getting the metrics for jYQJOaZMGR\n"
     ]
    },
    {
     "name": "stderr",
     "output_type": "stream",
     "text": [
      " 60%|████████████████████████████████████████████████▉                                 | 34/57 [01:15<00:42,  1.86s/it]"
     ]
    },
    {
     "name": "stdout",
     "output_type": "stream",
     "text": [
      "Getting the metrics for KAqBjWZBqb\n"
     ]
    },
    {
     "name": "stderr",
     "output_type": "stream",
     "text": [
      " 61%|██████████████████████████████████████████████████▎                               | 35/57 [01:18<00:46,  2.11s/it]"
     ]
    },
    {
     "name": "stdout",
     "output_type": "stream",
     "text": [
      "Getting the metrics for KPqj7jY4Q6\n"
     ]
    },
    {
     "name": "stderr",
     "output_type": "stream",
     "text": [
      " 63%|███████████████████████████████████████████████████▊                              | 36/57 [01:21<00:48,  2.32s/it]"
     ]
    },
    {
     "name": "stdout",
     "output_type": "stream",
     "text": [
      "Getting the metrics for KPqj7OVPQ6\n"
     ]
    },
    {
     "name": "stderr",
     "output_type": "stream",
     "text": [
      " 65%|█████████████████████████████████████████████████████▏                            | 37/57 [01:22<00:42,  2.12s/it]"
     ]
    },
    {
     "name": "stdout",
     "output_type": "stream",
     "text": [
      "Getting the metrics for KPqjodRYQ6\n"
     ]
    },
    {
     "name": "stderr",
     "output_type": "stream",
     "text": [
      " 67%|██████████████████████████████████████████████████████▋                           | 38/57 [01:25<00:44,  2.34s/it]"
     ]
    },
    {
     "name": "stdout",
     "output_type": "stream",
     "text": [
      "Getting the metrics for KPqjodW4Q6\n"
     ]
    },
    {
     "name": "stderr",
     "output_type": "stream",
     "text": [
      " 68%|████████████████████████████████████████████████████████                          | 39/57 [01:26<00:35,  2.00s/it]"
     ]
    },
    {
     "name": "stdout",
     "output_type": "stream",
     "text": [
      "Getting the metrics for KPqjzJ2q6v\n"
     ]
    },
    {
     "name": "stderr",
     "output_type": "stream",
     "text": [
      " 70%|█████████████████████████████████████████████████████████▌                        | 40/57 [01:28<00:33,  1.96s/it]"
     ]
    },
    {
     "name": "stdout",
     "output_type": "stream",
     "text": [
      "Getting the metrics for kRQa207YMK\n"
     ]
    },
    {
     "name": "stderr",
     "output_type": "stream",
     "text": [
      " 72%|██████████████████████████████████████████████████████████▉                       | 41/57 [01:30<00:29,  1.86s/it]"
     ]
    },
    {
     "name": "stdout",
     "output_type": "stream",
     "text": [
      "Getting the metrics for KXMe4l1Q64\n"
     ]
    },
    {
     "name": "stderr",
     "output_type": "stream",
     "text": [
      " 74%|████████████████████████████████████████████████████████████▍                     | 42/57 [01:32<00:27,  1.82s/it]"
     ]
    },
    {
     "name": "stdout",
     "output_type": "stream",
     "text": [
      "Getting the metrics for KXMeAPkM64\n"
     ]
    },
    {
     "name": "stderr",
     "output_type": "stream",
     "text": [
      " 75%|█████████████████████████████████████████████████████████████▊                    | 43/57 [01:34<00:28,  2.02s/it]"
     ]
    },
    {
     "name": "stdout",
     "output_type": "stream",
     "text": [
      "Getting the metrics for ljqE2EWkQx\n"
     ]
    },
    {
     "name": "stderr",
     "output_type": "stream",
     "text": [
      " 77%|███████████████████████████████████████████████████████████████▎                  | 44/57 [01:35<00:23,  1.80s/it]"
     ]
    },
    {
     "name": "stdout",
     "output_type": "stream",
     "text": [
      "Getting the metrics for ljqE2PwVQx\n"
     ]
    },
    {
     "name": "stderr",
     "output_type": "stream",
     "text": [
      " 79%|████████████████████████████████████████████████████████████████▋                 | 45/57 [01:37<00:19,  1.65s/it]"
     ]
    },
    {
     "name": "stdout",
     "output_type": "stream",
     "text": [
      "Getting the metrics for ljqEjLaEQx\n"
     ]
    },
    {
     "name": "stderr",
     "output_type": "stream",
     "text": [
      " 81%|██████████████████████████████████████████████████████████████████▏               | 46/57 [01:38<00:18,  1.66s/it]"
     ]
    },
    {
     "name": "stdout",
     "output_type": "stream",
     "text": [
      "Getting the metrics for NWMWeDYqlz\n"
     ]
    },
    {
     "name": "stderr",
     "output_type": "stream",
     "text": [
      " 82%|███████████████████████████████████████████████████████████████████▌              | 47/57 [01:40<00:15,  1.59s/it]"
     ]
    },
    {
     "name": "stdout",
     "output_type": "stream",
     "text": [
      "Getting the metrics for Oa5wVgVYM1\n"
     ]
    },
    {
     "name": "stderr",
     "output_type": "stream",
     "text": [
      " 84%|█████████████████████████████████████████████████████████████████████             | 48/57 [01:42<00:15,  1.67s/it]"
     ]
    },
    {
     "name": "stdout",
     "output_type": "stream",
     "text": [
      "Getting the metrics for p6qbenoB50\n"
     ]
    },
    {
     "name": "stderr",
     "output_type": "stream",
     "text": [
      " 86%|██████████████████████████████████████████████████████████████████████▍           | 49/57 [01:44<00:15,  1.99s/it]"
     ]
    },
    {
     "name": "stdout",
     "output_type": "stream",
     "text": [
      "Getting the metrics for raMyAGEBMd\n"
     ]
    },
    {
     "name": "stderr",
     "output_type": "stream",
     "text": [
      " 88%|███████████████████████████████████████████████████████████████████████▉          | 50/57 [01:46<00:13,  1.96s/it]"
     ]
    },
    {
     "name": "stdout",
     "output_type": "stream",
     "text": [
      "Getting the metrics for raMyAZR2Md\n"
     ]
    },
    {
     "name": "stderr",
     "output_type": "stream",
     "text": [
      " 89%|█████████████████████████████████████████████████████████████████████████▎        | 51/57 [01:49<00:12,  2.03s/it]"
     ]
    },
    {
     "name": "stdout",
     "output_type": "stream",
     "text": [
      "Getting the metrics for Vj58YwDDq8\n"
     ]
    },
    {
     "name": "stderr",
     "output_type": "stream",
     "text": [
      " 91%|██████████████████████████████████████████████████████████████████████████▊       | 52/57 [01:50<00:09,  1.97s/it]"
     ]
    },
    {
     "name": "stdout",
     "output_type": "stream",
     "text": [
      "Getting the metrics for Vj58zZ2Q8n\n"
     ]
    },
    {
     "name": "stderr",
     "output_type": "stream",
     "text": [
      " 93%|████████████████████████████████████████████████████████████████████████████▏     | 53/57 [01:53<00:09,  2.30s/it]"
     ]
    },
    {
     "name": "stdout",
     "output_type": "stream",
     "text": [
      "Getting the metrics for wvq9bOBQWn\n"
     ]
    },
    {
     "name": "stderr",
     "output_type": "stream",
     "text": [
      " 95%|█████████████████████████████████████████████████████████████████████████████▋    | 54/57 [01:56<00:07,  2.46s/it]"
     ]
    },
    {
     "name": "stdout",
     "output_type": "stream",
     "text": [
      "Getting the metrics for wvq9pBZm5W\n"
     ]
    },
    {
     "name": "stderr",
     "output_type": "stream",
     "text": [
      " 96%|███████████████████████████████████████████████████████████████████████████████   | 55/57 [01:58<00:04,  2.31s/it]"
     ]
    },
    {
     "name": "stdout",
     "output_type": "stream",
     "text": [
      "Getting the metrics for xW5prbllQg\n"
     ]
    },
    {
     "name": "stderr",
     "output_type": "stream",
     "text": [
      " 98%|████████████████████████████████████████████████████████████████████████████████▌ | 56/57 [02:01<00:02,  2.47s/it]"
     ]
    },
    {
     "name": "stdout",
     "output_type": "stream",
     "text": [
      "Getting the metrics for zeQZJX6KQK\n"
     ]
    },
    {
     "name": "stderr",
     "output_type": "stream",
     "text": [
      "100%|██████████████████████████████████████████████████████████████████████████████████| 57/57 [02:03<00:00,  2.17s/it]"
     ]
    },
    {
     "name": "stdout",
     "output_type": "stream",
     "text": [
      "data/filtered_players_get_player_xpass.csv\n"
     ]
    },
    {
     "name": "stderr",
     "output_type": "stream",
     "text": [
      "\n"
     ]
    }
   ],
   "source": [
    "xpasspercent = filter_metric(players_midfield, games, asa_client, 'get_player_xpass', start_season, end_season)"
   ]
  },
  {
   "cell_type": "code",
   "execution_count": 230,
   "id": "2981e7d0-8773-4e96-a2cf-e5b7d040d221",
   "metadata": {},
   "outputs": [],
   "source": [
    "disc = []\n",
    "\n",
    "for season in range(2018, 2024, 1):\n",
    "    disc.append(discrimination_season(xpasspercent, 'xpass_completion_percentage', season))\n",
    "\n",
    "    "
   ]
  },
  {
   "cell_type": "code",
   "execution_count": 231,
   "id": "264d669e-f878-46b4-97c9-8d016e89e354",
   "metadata": {},
   "outputs": [
    {
     "data": {
      "text/plain": [
       "[0.5156204847252658,\n",
       " 0.4765277182608151,\n",
       " 0.47519865765747293,\n",
       " 0.47310666027792136,\n",
       " 0.4754772339880793,\n",
       " 0.4953711976716071]"
      ]
     },
     "execution_count": 231,
     "metadata": {},
     "output_type": "execute_result"
    }
   ],
   "source": [
    "disc"
   ]
  },
  {
   "cell_type": "code",
   "execution_count": 234,
   "id": "b15a5a1c-3f3b-4396-a273-783164eb4fa5",
   "metadata": {},
   "outputs": [
    {
     "data": {
      "text/plain": [
       "0.8774333195216668"
      ]
     },
     "execution_count": 234,
     "metadata": {},
     "output_type": "execute_result"
    }
   ],
   "source": [
    "stab = stability_scores(xpasspercent, 'xpass_completion_percentage')\n",
    "stab\n"
   ]
  },
  {
   "cell_type": "markdown",
   "id": "656f8443-ff47-4f8b-8e47-95b38a55619d",
   "metadata": {},
   "source": [
    "### Goals added total"
   ]
  },
  {
   "cell_type": "code",
   "execution_count": 235,
   "id": "f993a98d-4153-4549-ba46-251ad09c75bf",
   "metadata": {
    "collapsed": true,
    "jupyter": {
     "outputs_hidden": true
    },
    "tags": []
   },
   "outputs": [
    {
     "name": "stderr",
     "output_type": "stream",
     "text": [
      "  0%|                                                                                           | 0/57 [00:00<?, ?it/s]"
     ]
    },
    {
     "name": "stdout",
     "output_type": "stream",
     "text": [
      "Getting the metrics for 0Oq6lyNdM6\n",
      "reorganizing columns\n"
     ]
    },
    {
     "name": "stderr",
     "output_type": "stream",
     "text": [
      "  2%|█▍                                                                                 | 1/57 [00:02<02:22,  2.54s/it]"
     ]
    },
    {
     "name": "stdout",
     "output_type": "stream",
     "text": [
      "Getting the metrics for 0Oq6wv26Q6\n"
     ]
    },
    {
     "name": "stderr",
     "output_type": "stream",
     "text": [
      "  4%|██▉                                                                                | 2/57 [00:04<02:07,  2.32s/it]"
     ]
    },
    {
     "name": "stdout",
     "output_type": "stream",
     "text": [
      "reorganizing columns\n",
      "Getting the metrics for 0x5gXlrq7O\n",
      "reorganizing columns\n"
     ]
    },
    {
     "name": "stderr",
     "output_type": "stream",
     "text": [
      "  5%|████▎                                                                              | 3/57 [00:06<01:56,  2.15s/it]"
     ]
    },
    {
     "name": "stdout",
     "output_type": "stream",
     "text": [
      "Getting the metrics for 2lqRRvNxqr\n"
     ]
    },
    {
     "name": "stderr",
     "output_type": "stream",
     "text": [
      "  7%|█████▊                                                                             | 4/57 [00:09<02:09,  2.45s/it]"
     ]
    },
    {
     "name": "stdout",
     "output_type": "stream",
     "text": [
      "reorganizing columns\n",
      "Getting the metrics for 2lqRRZy2qr\n",
      "reorganizing columns\n"
     ]
    },
    {
     "name": "stderr",
     "output_type": "stream",
     "text": [
      "  9%|███████▎                                                                           | 5/57 [00:12<02:11,  2.53s/it]"
     ]
    },
    {
     "name": "stdout",
     "output_type": "stream",
     "text": [
      "Getting the metrics for 2vQ1LYxbqr\n",
      "reorganizing columns\n"
     ]
    },
    {
     "name": "stderr",
     "output_type": "stream",
     "text": [
      " 11%|████████▋                                                                          | 6/57 [00:13<01:54,  2.24s/it]"
     ]
    },
    {
     "name": "stdout",
     "output_type": "stream",
     "text": [
      "Getting the metrics for 2vQ1LYY0qr\n"
     ]
    },
    {
     "name": "stderr",
     "output_type": "stream",
     "text": [
      " 12%|██████████▏                                                                        | 7/57 [00:15<01:42,  2.06s/it]"
     ]
    },
    {
     "name": "stdout",
     "output_type": "stream",
     "text": [
      "reorganizing columns\n",
      "Getting the metrics for 4JMAaaxkMK\n",
      "reorganizing columns\n"
     ]
    },
    {
     "name": "stderr",
     "output_type": "stream",
     "text": [
      " 14%|███████████▋                                                                       | 8/57 [00:18<01:48,  2.22s/it]"
     ]
    },
    {
     "name": "stdout",
     "output_type": "stream",
     "text": [
      "Getting the metrics for 4wM42Belqj\n",
      "reorganizing columns\n"
     ]
    },
    {
     "name": "stderr",
     "output_type": "stream",
     "text": [
      " 16%|█████████████                                                                      | 9/57 [00:20<01:48,  2.26s/it]"
     ]
    },
    {
     "name": "stdout",
     "output_type": "stream",
     "text": [
      "Getting the metrics for 7vQ73NxYQD\n"
     ]
    },
    {
     "name": "stderr",
     "output_type": "stream",
     "text": [
      " 18%|██████████████▍                                                                   | 10/57 [00:22<01:48,  2.30s/it]"
     ]
    },
    {
     "name": "stdout",
     "output_type": "stream",
     "text": [
      "reorganizing columns\n",
      "Getting the metrics for 7vQ7rPpOqD\n"
     ]
    },
    {
     "name": "stderr",
     "output_type": "stream",
     "text": [
      " 19%|███████████████▊                                                                  | 11/57 [00:25<01:44,  2.28s/it]"
     ]
    },
    {
     "name": "stdout",
     "output_type": "stream",
     "text": [
      "reorganizing columns\n",
      "Getting the metrics for 7VqGj3RA5v\n",
      "reorganizing columns\n"
     ]
    },
    {
     "name": "stderr",
     "output_type": "stream",
     "text": [
      " 21%|█████████████████▎                                                                | 12/57 [00:27<01:47,  2.40s/it]"
     ]
    },
    {
     "name": "stdout",
     "output_type": "stream",
     "text": [
      "Getting the metrics for 9vQ22OOoQK\n",
      "reorganizing columns\n"
     ]
    },
    {
     "name": "stderr",
     "output_type": "stream",
     "text": [
      " 23%|██████████████████▋                                                               | 13/57 [00:29<01:37,  2.21s/it]"
     ]
    },
    {
     "name": "stdout",
     "output_type": "stream",
     "text": [
      "Getting the metrics for 9vQ2d3X75K\n",
      "reorganizing columns\n"
     ]
    },
    {
     "name": "stderr",
     "output_type": "stream",
     "text": [
      " 25%|████████████████████▏                                                             | 14/57 [00:31<01:29,  2.09s/it]"
     ]
    },
    {
     "name": "stdout",
     "output_type": "stream",
     "text": [
      "Getting the metrics for 9vQ2dAKY5K\n",
      "reorganizing columns\n"
     ]
    },
    {
     "name": "stderr",
     "output_type": "stream",
     "text": [
      " 26%|█████████████████████▌                                                            | 15/57 [00:33<01:25,  2.03s/it]"
     ]
    },
    {
     "name": "stdout",
     "output_type": "stream",
     "text": [
      "Getting the metrics for a35rlyZ4QL\n",
      "reorganizing columns\n"
     ]
    },
    {
     "name": "stderr",
     "output_type": "stream",
     "text": [
      " 28%|███████████████████████                                                           | 16/57 [00:35<01:27,  2.13s/it]"
     ]
    },
    {
     "name": "stdout",
     "output_type": "stream",
     "text": [
      "Getting the metrics for aDQ0PjnGQE\n"
     ]
    },
    {
     "name": "stderr",
     "output_type": "stream",
     "text": [
      " 30%|████████████████████████▍                                                         | 17/57 [00:38<01:30,  2.27s/it]"
     ]
    },
    {
     "name": "stdout",
     "output_type": "stream",
     "text": [
      "reorganizing columns\n",
      "Getting the metrics for BLMv1GlQxe\n",
      "reorganizing columns\n"
     ]
    },
    {
     "name": "stderr",
     "output_type": "stream",
     "text": [
      " 32%|█████████████████████████▉                                                        | 18/57 [00:40<01:27,  2.24s/it]"
     ]
    },
    {
     "name": "stdout",
     "output_type": "stream",
     "text": [
      "Getting the metrics for BLMvlPy3qx\n",
      "reorganizing columns\n"
     ]
    },
    {
     "name": "stderr",
     "output_type": "stream",
     "text": [
      " 33%|███████████████████████████▎                                                      | 19/57 [00:42<01:24,  2.22s/it]"
     ]
    },
    {
     "name": "stdout",
     "output_type": "stream",
     "text": [
      "Getting the metrics for e7Mz9DgGQr\n",
      "reorganizing columns\n"
     ]
    },
    {
     "name": "stderr",
     "output_type": "stream",
     "text": [
      " 35%|████████████████████████████▊                                                     | 20/57 [00:44<01:13,  1.99s/it]"
     ]
    },
    {
     "name": "stdout",
     "output_type": "stream",
     "text": [
      "Getting the metrics for eV5D9A9qKn\n",
      "reorganizing columns\n"
     ]
    },
    {
     "name": "stderr",
     "output_type": "stream",
     "text": [
      " 37%|██████████████████████████████▏                                                   | 21/57 [00:46<01:13,  2.05s/it]"
     ]
    },
    {
     "name": "stdout",
     "output_type": "stream",
     "text": [
      "Getting the metrics for eV5DLedE5K\n",
      "reorganizing columns\n"
     ]
    },
    {
     "name": "stderr",
     "output_type": "stream",
     "text": [
      " 39%|███████████████████████████████▋                                                  | 22/57 [00:48<01:11,  2.05s/it]"
     ]
    },
    {
     "name": "stdout",
     "output_type": "stream",
     "text": [
      "Getting the metrics for eVq3a8XyMW\n"
     ]
    },
    {
     "name": "stderr",
     "output_type": "stream",
     "text": [
      " 40%|█████████████████████████████████                                                 | 23/57 [00:50<01:11,  2.10s/it]"
     ]
    },
    {
     "name": "stdout",
     "output_type": "stream",
     "text": [
      "reorganizing columns\n",
      "Getting the metrics for eVq3apWvMW\n",
      "reorganizing columns\n"
     ]
    },
    {
     "name": "stderr",
     "output_type": "stream",
     "text": [
      " 42%|██████████████████████████████████▌                                               | 24/57 [00:53<01:14,  2.25s/it]"
     ]
    },
    {
     "name": "stdout",
     "output_type": "stream",
     "text": [
      "Getting the metrics for eVq3jYZv5W\n",
      "reorganizing columns\n"
     ]
    },
    {
     "name": "stderr",
     "output_type": "stream",
     "text": [
      " 44%|███████████████████████████████████▉                                              | 25/57 [00:54<01:08,  2.13s/it]"
     ]
    },
    {
     "name": "stdout",
     "output_type": "stream",
     "text": [
      "Getting the metrics for eVq3xXDDQW\n",
      "reorganizing columns\n"
     ]
    },
    {
     "name": "stderr",
     "output_type": "stream",
     "text": [
      " 46%|█████████████████████████████████████▍                                            | 26/57 [00:56<01:03,  2.05s/it]"
     ]
    },
    {
     "name": "stdout",
     "output_type": "stream",
     "text": [
      "Getting the metrics for gjMNv7PpMK\n",
      "reorganizing columns\n"
     ]
    },
    {
     "name": "stderr",
     "output_type": "stream",
     "text": [
      " 47%|██████████████████████████████████████▊                                           | 27/57 [00:58<00:58,  1.94s/it]"
     ]
    },
    {
     "name": "stdout",
     "output_type": "stream",
     "text": [
      "Getting the metrics for gjMNvjYvMK\n",
      "reorganizing columns\n"
     ]
    },
    {
     "name": "stderr",
     "output_type": "stream",
     "text": [
      " 49%|████████████████████████████████████████▎                                         | 28/57 [01:00<01:00,  2.08s/it]"
     ]
    },
    {
     "name": "stdout",
     "output_type": "stream",
     "text": [
      "Getting the metrics for gOMn66nAMw\n",
      "reorganizing columns\n"
     ]
    },
    {
     "name": "stderr",
     "output_type": "stream",
     "text": [
      " 51%|█████████████████████████████████████████▋                                        | 29/57 [01:03<01:01,  2.18s/it]"
     ]
    },
    {
     "name": "stdout",
     "output_type": "stream",
     "text": [
      "Getting the metrics for gOMnR96lMw\n"
     ]
    },
    {
     "name": "stderr",
     "output_type": "stream",
     "text": [
      " 53%|███████████████████████████████████████████▏                                      | 30/57 [01:05<01:01,  2.28s/it]"
     ]
    },
    {
     "name": "stdout",
     "output_type": "stream",
     "text": [
      "reorganizing columns\n",
      "Getting the metrics for gOMnRPxXMw\n",
      "reorganizing columns\n"
     ]
    },
    {
     "name": "stderr",
     "output_type": "stream",
     "text": [
      " 54%|████████████████████████████████████████████▌                                     | 31/57 [01:07<00:57,  2.21s/it]"
     ]
    },
    {
     "name": "stdout",
     "output_type": "stream",
     "text": [
      "Getting the metrics for gpMOa6zrqz\n",
      "reorganizing columns\n"
     ]
    },
    {
     "name": "stderr",
     "output_type": "stream",
     "text": [
      " 56%|██████████████████████████████████████████████                                    | 32/57 [01:10<00:56,  2.28s/it]"
     ]
    },
    {
     "name": "stdout",
     "output_type": "stream",
     "text": [
      "Getting the metrics for gpMOyGlqzy\n"
     ]
    },
    {
     "name": "stderr",
     "output_type": "stream",
     "text": [
      " 58%|███████████████████████████████████████████████▍                                  | 33/57 [01:12<00:53,  2.23s/it]"
     ]
    },
    {
     "name": "stdout",
     "output_type": "stream",
     "text": [
      "reorganizing columns\n",
      "Getting the metrics for jYQJOaZMGR\n"
     ]
    },
    {
     "name": "stderr",
     "output_type": "stream",
     "text": [
      " 60%|████████████████████████████████████████████████▉                                 | 34/57 [01:16<01:03,  2.78s/it]"
     ]
    },
    {
     "name": "stdout",
     "output_type": "stream",
     "text": [
      "reorganizing columns\n",
      "Getting the metrics for KAqBjWZBqb\n",
      "reorganizing columns\n"
     ]
    },
    {
     "name": "stderr",
     "output_type": "stream",
     "text": [
      " 61%|██████████████████████████████████████████████████▎                               | 35/57 [01:18<00:58,  2.64s/it]"
     ]
    },
    {
     "name": "stdout",
     "output_type": "stream",
     "text": [
      "Getting the metrics for KPqj7jY4Q6\n",
      "reorganizing columns\n"
     ]
    },
    {
     "name": "stderr",
     "output_type": "stream",
     "text": [
      " 63%|███████████████████████████████████████████████████▊                              | 36/57 [01:21<00:56,  2.68s/it]"
     ]
    },
    {
     "name": "stdout",
     "output_type": "stream",
     "text": [
      "Getting the metrics for KPqj7OVPQ6\n"
     ]
    },
    {
     "name": "stderr",
     "output_type": "stream",
     "text": [
      " 65%|█████████████████████████████████████████████████████▏                            | 37/57 [01:23<00:49,  2.45s/it]"
     ]
    },
    {
     "name": "stdout",
     "output_type": "stream",
     "text": [
      "reorganizing columns\n",
      "Getting the metrics for KPqjodRYQ6\n",
      "reorganizing columns\n"
     ]
    },
    {
     "name": "stderr",
     "output_type": "stream",
     "text": [
      " 67%|██████████████████████████████████████████████████████▋                           | 38/57 [01:26<00:47,  2.48s/it]"
     ]
    },
    {
     "name": "stdout",
     "output_type": "stream",
     "text": [
      "Getting the metrics for KPqjodW4Q6\n"
     ]
    },
    {
     "name": "stderr",
     "output_type": "stream",
     "text": [
      " 68%|████████████████████████████████████████████████████████                          | 39/57 [01:27<00:40,  2.28s/it]"
     ]
    },
    {
     "name": "stdout",
     "output_type": "stream",
     "text": [
      "reorganizing columns\n",
      "Getting the metrics for KPqjzJ2q6v\n",
      "reorganizing columns\n"
     ]
    },
    {
     "name": "stderr",
     "output_type": "stream",
     "text": [
      " 70%|█████████████████████████████████████████████████████████▌                        | 40/57 [01:29<00:35,  2.11s/it]"
     ]
    },
    {
     "name": "stdout",
     "output_type": "stream",
     "text": [
      "Getting the metrics for kRQa207YMK\n"
     ]
    },
    {
     "name": "stderr",
     "output_type": "stream",
     "text": [
      " 72%|██████████████████████████████████████████████████████████▉                       | 41/57 [01:30<00:30,  1.89s/it]"
     ]
    },
    {
     "name": "stdout",
     "output_type": "stream",
     "text": [
      "reorganizing columns\n",
      "Getting the metrics for KXMe4l1Q64\n",
      "reorganizing columns\n"
     ]
    },
    {
     "name": "stderr",
     "output_type": "stream",
     "text": [
      " 74%|████████████████████████████████████████████████████████████▍                     | 42/57 [01:33<00:31,  2.08s/it]"
     ]
    },
    {
     "name": "stdout",
     "output_type": "stream",
     "text": [
      "Getting the metrics for KXMeAPkM64\n",
      "reorganizing columns\n"
     ]
    },
    {
     "name": "stderr",
     "output_type": "stream",
     "text": [
      " 75%|█████████████████████████████████████████████████████████████▊                    | 43/57 [01:35<00:30,  2.19s/it]"
     ]
    },
    {
     "name": "stdout",
     "output_type": "stream",
     "text": [
      "Getting the metrics for ljqE2EWkQx\n"
     ]
    },
    {
     "name": "stderr",
     "output_type": "stream",
     "text": [
      " 77%|███████████████████████████████████████████████████████████████▎                  | 44/57 [01:38<00:29,  2.30s/it]"
     ]
    },
    {
     "name": "stdout",
     "output_type": "stream",
     "text": [
      "reorganizing columns\n",
      "Getting the metrics for ljqE2PwVQx\n"
     ]
    },
    {
     "name": "stderr",
     "output_type": "stream",
     "text": [
      " 79%|████████████████████████████████████████████████████████████████▋                 | 45/57 [01:40<00:26,  2.17s/it]"
     ]
    },
    {
     "name": "stdout",
     "output_type": "stream",
     "text": [
      "reorganizing columns\n",
      "Getting the metrics for ljqEjLaEQx\n",
      "reorganizing columns\n"
     ]
    },
    {
     "name": "stderr",
     "output_type": "stream",
     "text": [
      " 81%|██████████████████████████████████████████████████████████████████▏               | 46/57 [01:42<00:23,  2.13s/it]"
     ]
    },
    {
     "name": "stdout",
     "output_type": "stream",
     "text": [
      "Getting the metrics for NWMWeDYqlz\n",
      "reorganizing columns\n"
     ]
    },
    {
     "name": "stderr",
     "output_type": "stream",
     "text": [
      " 82%|███████████████████████████████████████████████████████████████████▌              | 47/57 [01:44<00:21,  2.19s/it]"
     ]
    },
    {
     "name": "stdout",
     "output_type": "stream",
     "text": [
      "Getting the metrics for Oa5wVgVYM1\n"
     ]
    },
    {
     "name": "stderr",
     "output_type": "stream",
     "text": [
      " 84%|█████████████████████████████████████████████████████████████████████             | 48/57 [01:46<00:19,  2.18s/it]"
     ]
    },
    {
     "name": "stdout",
     "output_type": "stream",
     "text": [
      "reorganizing columns\n",
      "Getting the metrics for p6qbenoB50\n"
     ]
    },
    {
     "name": "stderr",
     "output_type": "stream",
     "text": [
      " 86%|██████████████████████████████████████████████████████████████████████▍           | 49/57 [01:49<00:17,  2.19s/it]"
     ]
    },
    {
     "name": "stdout",
     "output_type": "stream",
     "text": [
      "reorganizing columns\n",
      "Getting the metrics for raMyAGEBMd\n",
      "reorganizing columns\n"
     ]
    },
    {
     "name": "stderr",
     "output_type": "stream",
     "text": [
      " 88%|███████████████████████████████████████████████████████████████████████▉          | 50/57 [01:51<00:14,  2.13s/it]"
     ]
    },
    {
     "name": "stdout",
     "output_type": "stream",
     "text": [
      "Getting the metrics for raMyAZR2Md\n",
      "reorganizing columns\n"
     ]
    },
    {
     "name": "stderr",
     "output_type": "stream",
     "text": [
      " 89%|█████████████████████████████████████████████████████████████████████████▎        | 51/57 [01:53<00:13,  2.18s/it]"
     ]
    },
    {
     "name": "stdout",
     "output_type": "stream",
     "text": [
      "Getting the metrics for Vj58YwDDq8\n",
      "reorganizing columns\n"
     ]
    },
    {
     "name": "stderr",
     "output_type": "stream",
     "text": [
      " 91%|██████████████████████████████████████████████████████████████████████████▊       | 52/57 [01:55<00:11,  2.26s/it]"
     ]
    },
    {
     "name": "stdout",
     "output_type": "stream",
     "text": [
      "Getting the metrics for Vj58zZ2Q8n\n",
      "reorganizing columns\n"
     ]
    },
    {
     "name": "stderr",
     "output_type": "stream",
     "text": [
      " 93%|████████████████████████████████████████████████████████████████████████████▏     | 53/57 [01:58<00:09,  2.46s/it]"
     ]
    },
    {
     "name": "stdout",
     "output_type": "stream",
     "text": [
      "Getting the metrics for wvq9bOBQWn\n"
     ]
    },
    {
     "name": "stderr",
     "output_type": "stream",
     "text": [
      " 95%|█████████████████████████████████████████████████████████████████████████████▋    | 54/57 [02:01<00:07,  2.43s/it]"
     ]
    },
    {
     "name": "stdout",
     "output_type": "stream",
     "text": [
      "reorganizing columns\n",
      "Getting the metrics for wvq9pBZm5W\n",
      "reorganizing columns\n"
     ]
    },
    {
     "name": "stderr",
     "output_type": "stream",
     "text": [
      " 96%|███████████████████████████████████████████████████████████████████████████████   | 55/57 [02:02<00:04,  2.22s/it]"
     ]
    },
    {
     "name": "stdout",
     "output_type": "stream",
     "text": [
      "Getting the metrics for xW5prbllQg\n",
      "reorganizing columns\n"
     ]
    },
    {
     "name": "stderr",
     "output_type": "stream",
     "text": [
      " 98%|████████████████████████████████████████████████████████████████████████████████▌ | 56/57 [02:06<00:02,  2.56s/it]"
     ]
    },
    {
     "name": "stdout",
     "output_type": "stream",
     "text": [
      "Getting the metrics for zeQZJX6KQK\n"
     ]
    },
    {
     "name": "stderr",
     "output_type": "stream",
     "text": [
      "100%|██████████████████████████████████████████████████████████████████████████████████| 57/57 [02:08<00:00,  2.25s/it]"
     ]
    },
    {
     "name": "stdout",
     "output_type": "stream",
     "text": [
      "reorganizing columns\n",
      "data/filtered_players_get_player_goals_added.csv\n"
     ]
    },
    {
     "name": "stderr",
     "output_type": "stream",
     "text": [
      "\n"
     ]
    }
   ],
   "source": [
    "goals_added = filter_metric(players_midfield, games, asa_client, 'get_player_goals_added', start_season, end_season)"
   ]
  },
  {
   "cell_type": "code",
   "execution_count": 245,
   "id": "902d2b8a-1402-453c-a43f-48a58be2ad38",
   "metadata": {},
   "outputs": [],
   "source": [
    "disc = []\n",
    "\n",
    "for season in range(2018, 2024, 1):\n",
    "    disc.append(discrimination_season(goals_added, 'goals_added_total', season))\n",
    "\n",
    "    "
   ]
  },
  {
   "cell_type": "code",
   "execution_count": 246,
   "id": "96d8782f-a97d-4d0a-b1c9-67223edea3d0",
   "metadata": {},
   "outputs": [
    {
     "data": {
      "text/plain": [
       "[0.1433351332898951,\n",
       " 0.06993224707503232,\n",
       " 0.09706081794649402,\n",
       " 0.14836237327105162,\n",
       " 0.11207038560265448,\n",
       " 0.028242948578700577]"
      ]
     },
     "execution_count": 246,
     "metadata": {},
     "output_type": "execute_result"
    }
   ],
   "source": [
    "disc"
   ]
  },
  {
   "cell_type": "code",
   "execution_count": 247,
   "id": "2246d3c9-1243-47c7-bc02-998a31f27c20",
   "metadata": {},
   "outputs": [
    {
     "data": {
      "text/plain": [
       "0.7999850460577018"
      ]
     },
     "execution_count": 247,
     "metadata": {},
     "output_type": "execute_result"
    }
   ],
   "source": [
    "stab = stability_scores(goals_added, 'goals_added_total')\n",
    "stab"
   ]
  },
  {
   "cell_type": "code",
   "execution_count": null,
   "id": "c8477808-cedb-441f-8d06-3927a7de9876",
   "metadata": {},
   "outputs": [],
   "source": []
  },
  {
   "cell_type": "markdown",
   "id": "32b6e3e0-8d52-4c4d-80cf-79c36b5cf183",
   "metadata": {},
   "source": [
    "### Expected goals"
   ]
  },
  {
   "cell_type": "code",
   "execution_count": 248,
   "id": "6d531219-bcd6-449a-a79c-55a785576a21",
   "metadata": {
    "collapsed": true,
    "jupyter": {
     "outputs_hidden": true
    },
    "tags": []
   },
   "outputs": [
    {
     "name": "stderr",
     "output_type": "stream",
     "text": [
      "  9%|███████▎                                                                           | 5/57 [00:00<00:01, 45.54it/s]"
     ]
    },
    {
     "name": "stdout",
     "output_type": "stream",
     "text": [
      "Getting the metrics for 0Oq6lyNdM6\n",
      "Getting the metrics for 0Oq6wv26Q6\n",
      "Getting the metrics for 0x5gXlrq7O\n",
      "Getting the metrics for 2lqRRvNxqr\n",
      "Getting the metrics for 2lqRRZy2qr\n",
      "Getting the metrics for 2vQ1LYxbqr\n",
      "Getting the metrics for 2vQ1LYY0qr\n",
      "Getting the metrics for 4JMAaaxkMK\n",
      "Getting the metrics for 4wM42Belqj\n"
     ]
    },
    {
     "name": "stderr",
     "output_type": "stream",
     "text": [
      " 30%|████████████████████████▍                                                         | 17/57 [00:00<00:00, 51.45it/s]"
     ]
    },
    {
     "name": "stdout",
     "output_type": "stream",
     "text": [
      "Getting the metrics for 7vQ73NxYQD\n",
      "Getting the metrics for 7vQ7rPpOqD\n",
      "Getting the metrics for 7VqGj3RA5v\n",
      "Getting the metrics for 9vQ22OOoQK\n",
      "Getting the metrics for 9vQ2d3X75K\n",
      "Getting the metrics for 9vQ2dAKY5K\n",
      "Getting the metrics for a35rlyZ4QL\n",
      "Getting the metrics for aDQ0PjnGQE\n",
      "Getting the metrics for BLMv1GlQxe\n",
      "Getting the metrics for BLMvlPy3qx\n",
      "Getting the metrics for e7Mz9DgGQr\n",
      "Getting the metrics for eV5D9A9qKn\n",
      "Getting the metrics for eV5DLedE5K\n"
     ]
    },
    {
     "name": "stderr",
     "output_type": "stream",
     "text": [
      " 51%|█████████████████████████████████████████▋                                        | 29/57 [00:00<00:00, 50.81it/s]"
     ]
    },
    {
     "name": "stdout",
     "output_type": "stream",
     "text": [
      "Getting the metrics for eVq3a8XyMW\n",
      "Getting the metrics for eVq3apWvMW\n",
      "Getting the metrics for eVq3jYZv5W\n",
      "Getting the metrics for eVq3xXDDQW\n",
      "Getting the metrics for gjMNv7PpMK\n",
      "Getting the metrics for gjMNvjYvMK\n",
      "Getting the metrics for gOMn66nAMw\n",
      "Getting the metrics for gOMnR96lMw\n",
      "Getting the metrics for gOMnRPxXMw\n",
      "Getting the metrics for gpMOa6zrqz\n"
     ]
    },
    {
     "name": "stderr",
     "output_type": "stream",
     "text": [
      " 72%|██████████████████████████████████████████████████████████▉                       | 41/57 [00:00<00:00, 52.88it/s]"
     ]
    },
    {
     "name": "stdout",
     "output_type": "stream",
     "text": [
      "Getting the metrics for gpMOyGlqzy\n",
      "Getting the metrics for jYQJOaZMGR\n",
      "Getting the metrics for KAqBjWZBqb\n",
      "Getting the metrics for KPqj7jY4Q6\n",
      "Getting the metrics for KPqj7OVPQ6\n",
      "Getting the metrics for KPqjodRYQ6\n",
      "Getting the metrics for KPqjodW4Q6\n",
      "Getting the metrics for KPqjzJ2q6v\n",
      "Getting the metrics for kRQa207YMK\n",
      "Getting the metrics for KXMe4l1Q64\n",
      "Getting the metrics for KXMeAPkM64\n",
      "Getting the metrics for ljqE2EWkQx\n"
     ]
    },
    {
     "name": "stderr",
     "output_type": "stream",
     "text": [
      " 93%|████████████████████████████████████████████████████████████████████████████▏     | 53/57 [00:01<00:00, 53.35it/s]"
     ]
    },
    {
     "name": "stdout",
     "output_type": "stream",
     "text": [
      "Getting the metrics for ljqE2PwVQx\n",
      "Getting the metrics for ljqEjLaEQx\n",
      "Getting the metrics for NWMWeDYqlz\n",
      "Getting the metrics for Oa5wVgVYM1\n",
      "Getting the metrics for p6qbenoB50\n",
      "Getting the metrics for raMyAGEBMd\n",
      "Getting the metrics for raMyAZR2Md\n",
      "Getting the metrics for Vj58YwDDq8\n",
      "Getting the metrics for Vj58zZ2Q8n\n",
      "Getting the metrics for wvq9bOBQWn\n",
      "Getting the metrics for wvq9pBZm5W\n"
     ]
    },
    {
     "name": "stderr",
     "output_type": "stream",
     "text": [
      "100%|██████████████████████████████████████████████████████████████████████████████████| 57/57 [00:01<00:00, 51.89it/s]"
     ]
    },
    {
     "name": "stdout",
     "output_type": "stream",
     "text": [
      "Getting the metrics for xW5prbllQg\n",
      "Getting the metrics for zeQZJX6KQK\n",
      "data/filtered_players_get_player_xgoals.csv\n"
     ]
    },
    {
     "name": "stderr",
     "output_type": "stream",
     "text": [
      "\n"
     ]
    }
   ],
   "source": [
    "xgoals = filter_metric(players_midfield, games, asa_client, 'get_player_xgoals', start_season, end_season)"
   ]
  },
  {
   "cell_type": "code",
   "execution_count": 250,
   "id": "dd5f69a2-4f5b-498b-a778-b44c21576cd8",
   "metadata": {},
   "outputs": [],
   "source": [
    "disc = []\n",
    "\n",
    "for season in range(2018, 2024, 1):\n",
    "    disc.append(discrimination_season(xgoals, 'xgoals', season))\n",
    "\n",
    "    "
   ]
  },
  {
   "cell_type": "code",
   "execution_count": 251,
   "id": "3ce1247f-f202-4419-9cb7-fa3fa2169c63",
   "metadata": {},
   "outputs": [
    {
     "data": {
      "text/plain": [
       "[0.20986317292362344,\n",
       " 0.12928793989350917,\n",
       " 0.186981796804766,\n",
       " 0.17562170318778092,\n",
       " 0.1909840688631692,\n",
       " 0.14312727877192022]"
      ]
     },
     "execution_count": 251,
     "metadata": {},
     "output_type": "execute_result"
    }
   ],
   "source": [
    "disc"
   ]
  },
  {
   "cell_type": "code",
   "execution_count": 252,
   "id": "ef4ec516-8184-42f1-b374-a3fc980e59e7",
   "metadata": {},
   "outputs": [
    {
     "data": {
      "text/plain": [
       "0.6072313624822254"
      ]
     },
     "execution_count": 252,
     "metadata": {},
     "output_type": "execute_result"
    }
   ],
   "source": [
    "stab = stability_scores(xgoals, 'xgoals')\n",
    "stab"
   ]
  },
  {
   "cell_type": "code",
   "execution_count": 254,
   "id": "fffd9c3d-6a69-4e80-be58-bd3f4d134f20",
   "metadata": {},
   "outputs": [
    {
     "data": {
      "text/plain": [
       "[-0.1026250370652424,\n",
       " 0.05012867314463321,\n",
       " 0.13643563015198812,\n",
       " 0.10036909716513209,\n",
       " 0.12419707186755169,\n",
       " 0.10943306749134063]"
      ]
     },
     "execution_count": 254,
     "metadata": {},
     "output_type": "execute_result"
    }
   ],
   "source": [
    "disc = []\n",
    "\n",
    "for season in range(2018, 2024, 1):\n",
    "    disc.append(discrimination_season(xgoals, 'goals', season))\n",
    "disc"
   ]
  },
  {
   "cell_type": "code",
   "execution_count": 255,
   "id": "93e22d55-e55c-4c1a-b477-71def8c54ccb",
   "metadata": {},
   "outputs": [
    {
     "data": {
      "text/plain": [
       "0.44351111247250197"
      ]
     },
     "execution_count": 255,
     "metadata": {},
     "output_type": "execute_result"
    }
   ],
   "source": [
    "stab = stability_scores(xgoals, 'goals')\n",
    "stab"
   ]
  },
  {
   "cell_type": "code",
   "execution_count": null,
   "id": "ff853b39-16e1-4e7f-a58c-59e18692c380",
   "metadata": {},
   "outputs": [],
   "source": []
  },
  {
   "cell_type": "markdown",
   "id": "0ef5f273-dd04-4213-9043-8951cfb27b42",
   "metadata": {},
   "source": [
    "### ROUGH"
   ]
  },
  {
   "cell_type": "code",
   "execution_count": 221,
   "id": "ec5abf21-987c-488d-b0e8-150f86bf3d60",
   "metadata": {},
   "outputs": [
    {
     "data": {
      "text/plain": [
       "['2020', '2021', '2022', '2023']"
      ]
     },
     "execution_count": 221,
     "metadata": {},
     "output_type": "execute_result"
    }
   ],
   "source": [
    "desired_range"
   ]
  },
  {
   "cell_type": "code",
   "execution_count": 222,
   "id": "65b2d3ae-a338-41cc-87a3-4229f833fd4f",
   "metadata": {},
   "outputs": [],
   "source": [
    "player_xgoals = asa_client.get_player_xgoals(leagues = 'mls', player_ids = \"0Oq632k7Q6\", season_name=desired_range, split_by_games = True)"
   ]
  },
  {
   "cell_type": "code",
   "execution_count": 223,
   "id": "ada977f5-677d-4dbb-b570-70a65e1b10d3",
   "metadata": {},
   "outputs": [
    {
     "data": {
      "text/plain": [
       "['player_id',\n",
       " 'game_id',\n",
       " 'team_id',\n",
       " 'general_position',\n",
       " 'minutes_played',\n",
       " 'shots',\n",
       " 'shots_on_target',\n",
       " 'goals',\n",
       " 'xgoals',\n",
       " 'xplace',\n",
       " 'goals_minus_xgoals',\n",
       " 'key_passes',\n",
       " 'primary_assists',\n",
       " 'xassists',\n",
       " 'primary_assists_minus_xassists',\n",
       " 'xgoals_plus_xassists',\n",
       " 'points_added',\n",
       " 'xpoints_added']"
      ]
     },
     "execution_count": 223,
     "metadata": {},
     "output_type": "execute_result"
    }
   ],
   "source": [
    "player_xgoals.columns.to_list()"
   ]
  },
  {
   "cell_type": "code",
   "execution_count": 224,
   "id": "fd8aa227-0900-422d-b30a-4c0cf8a159dd",
   "metadata": {},
   "outputs": [
    {
     "data": {
      "text/html": [
       "<div>\n",
       "<style scoped>\n",
       "    .dataframe tbody tr th:only-of-type {\n",
       "        vertical-align: middle;\n",
       "    }\n",
       "\n",
       "    .dataframe tbody tr th {\n",
       "        vertical-align: top;\n",
       "    }\n",
       "\n",
       "    .dataframe thead th {\n",
       "        text-align: right;\n",
       "    }\n",
       "</style>\n",
       "<table border=\"1\" class=\"dataframe\">\n",
       "  <thead>\n",
       "    <tr style=\"text-align: right;\">\n",
       "      <th></th>\n",
       "      <th>player_id</th>\n",
       "      <th>game_id</th>\n",
       "      <th>team_id</th>\n",
       "      <th>general_position</th>\n",
       "      <th>minutes_played</th>\n",
       "      <th>shots</th>\n",
       "      <th>shots_on_target</th>\n",
       "      <th>goals</th>\n",
       "      <th>xgoals</th>\n",
       "      <th>xplace</th>\n",
       "      <th>goals_minus_xgoals</th>\n",
       "      <th>key_passes</th>\n",
       "      <th>primary_assists</th>\n",
       "      <th>xassists</th>\n",
       "      <th>primary_assists_minus_xassists</th>\n",
       "      <th>xgoals_plus_xassists</th>\n",
       "      <th>points_added</th>\n",
       "      <th>xpoints_added</th>\n",
       "    </tr>\n",
       "  </thead>\n",
       "  <tbody>\n",
       "    <tr>\n",
       "      <th>0</th>\n",
       "      <td>0Oq632k7Q6</td>\n",
       "      <td>0Oq660Agq6</td>\n",
       "      <td>jYQJ19EqGR</td>\n",
       "      <td>DM</td>\n",
       "      <td>7</td>\n",
       "      <td>0</td>\n",
       "      <td>0</td>\n",
       "      <td>0</td>\n",
       "      <td>0.0</td>\n",
       "      <td>0.0</td>\n",
       "      <td>0.0</td>\n",
       "      <td>0</td>\n",
       "      <td>0</td>\n",
       "      <td>0.0000</td>\n",
       "      <td>0.0000</td>\n",
       "      <td>0.0000</td>\n",
       "      <td>0</td>\n",
       "      <td>0.0</td>\n",
       "    </tr>\n",
       "    <tr>\n",
       "      <th>1</th>\n",
       "      <td>0Oq632k7Q6</td>\n",
       "      <td>0Oq6BXX2q6</td>\n",
       "      <td>jYQJ19EqGR</td>\n",
       "      <td>FB</td>\n",
       "      <td>11</td>\n",
       "      <td>0</td>\n",
       "      <td>0</td>\n",
       "      <td>0</td>\n",
       "      <td>0.0</td>\n",
       "      <td>0.0</td>\n",
       "      <td>0.0</td>\n",
       "      <td>0</td>\n",
       "      <td>0</td>\n",
       "      <td>0.0000</td>\n",
       "      <td>0.0000</td>\n",
       "      <td>0.0000</td>\n",
       "      <td>0</td>\n",
       "      <td>0.0</td>\n",
       "    </tr>\n",
       "    <tr>\n",
       "      <th>2</th>\n",
       "      <td>0Oq632k7Q6</td>\n",
       "      <td>0Oq6OArxQ6</td>\n",
       "      <td>jYQJ19EqGR</td>\n",
       "      <td>DM</td>\n",
       "      <td>12</td>\n",
       "      <td>0</td>\n",
       "      <td>0</td>\n",
       "      <td>0</td>\n",
       "      <td>0.0</td>\n",
       "      <td>0.0</td>\n",
       "      <td>0.0</td>\n",
       "      <td>0</td>\n",
       "      <td>0</td>\n",
       "      <td>0.0000</td>\n",
       "      <td>0.0000</td>\n",
       "      <td>0.0000</td>\n",
       "      <td>0</td>\n",
       "      <td>0.0</td>\n",
       "    </tr>\n",
       "    <tr>\n",
       "      <th>3</th>\n",
       "      <td>0Oq632k7Q6</td>\n",
       "      <td>4JMAVBBD5K</td>\n",
       "      <td>jYQJ19EqGR</td>\n",
       "      <td>ST</td>\n",
       "      <td>4</td>\n",
       "      <td>0</td>\n",
       "      <td>0</td>\n",
       "      <td>0</td>\n",
       "      <td>0.0</td>\n",
       "      <td>0.0</td>\n",
       "      <td>0.0</td>\n",
       "      <td>0</td>\n",
       "      <td>0</td>\n",
       "      <td>0.0000</td>\n",
       "      <td>0.0000</td>\n",
       "      <td>0.0000</td>\n",
       "      <td>0</td>\n",
       "      <td>0.0</td>\n",
       "    </tr>\n",
       "    <tr>\n",
       "      <th>4</th>\n",
       "      <td>0Oq632k7Q6</td>\n",
       "      <td>4JMAyJnYMK</td>\n",
       "      <td>pzeQZ6xQKw</td>\n",
       "      <td>CM</td>\n",
       "      <td>15</td>\n",
       "      <td>0</td>\n",
       "      <td>0</td>\n",
       "      <td>0</td>\n",
       "      <td>0.0</td>\n",
       "      <td>0.0</td>\n",
       "      <td>0.0</td>\n",
       "      <td>1</td>\n",
       "      <td>0</td>\n",
       "      <td>0.2624</td>\n",
       "      <td>-0.2624</td>\n",
       "      <td>0.2624</td>\n",
       "      <td>0</td>\n",
       "      <td>0.0</td>\n",
       "    </tr>\n",
       "    <tr>\n",
       "      <th>...</th>\n",
       "      <td>...</td>\n",
       "      <td>...</td>\n",
       "      <td>...</td>\n",
       "      <td>...</td>\n",
       "      <td>...</td>\n",
       "      <td>...</td>\n",
       "      <td>...</td>\n",
       "      <td>...</td>\n",
       "      <td>...</td>\n",
       "      <td>...</td>\n",
       "      <td>...</td>\n",
       "      <td>...</td>\n",
       "      <td>...</td>\n",
       "      <td>...</td>\n",
       "      <td>...</td>\n",
       "      <td>...</td>\n",
       "      <td>...</td>\n",
       "      <td>...</td>\n",
       "    </tr>\n",
       "    <tr>\n",
       "      <th>59</th>\n",
       "      <td>0Oq632k7Q6</td>\n",
       "      <td>wvq9RmW1QW</td>\n",
       "      <td>jYQJ19EqGR</td>\n",
       "      <td>DM</td>\n",
       "      <td>96</td>\n",
       "      <td>0</td>\n",
       "      <td>0</td>\n",
       "      <td>0</td>\n",
       "      <td>0.0</td>\n",
       "      <td>0.0</td>\n",
       "      <td>0.0</td>\n",
       "      <td>0</td>\n",
       "      <td>0</td>\n",
       "      <td>0.0000</td>\n",
       "      <td>0.0000</td>\n",
       "      <td>0.0000</td>\n",
       "      <td>0</td>\n",
       "      <td>0.0</td>\n",
       "    </tr>\n",
       "    <tr>\n",
       "      <th>60</th>\n",
       "      <td>0Oq632k7Q6</td>\n",
       "      <td>XVqKBxVO50</td>\n",
       "      <td>jYQJ19EqGR</td>\n",
       "      <td>DM</td>\n",
       "      <td>73</td>\n",
       "      <td>0</td>\n",
       "      <td>0</td>\n",
       "      <td>0</td>\n",
       "      <td>0.0</td>\n",
       "      <td>0.0</td>\n",
       "      <td>0.0</td>\n",
       "      <td>2</td>\n",
       "      <td>0</td>\n",
       "      <td>0.2379</td>\n",
       "      <td>-0.2379</td>\n",
       "      <td>0.2379</td>\n",
       "      <td>0</td>\n",
       "      <td>0.0</td>\n",
       "    </tr>\n",
       "    <tr>\n",
       "      <th>61</th>\n",
       "      <td>0Oq632k7Q6</td>\n",
       "      <td>xW5pEgVYqg</td>\n",
       "      <td>pzeQZ6xQKw</td>\n",
       "      <td>AM</td>\n",
       "      <td>8</td>\n",
       "      <td>0</td>\n",
       "      <td>0</td>\n",
       "      <td>0</td>\n",
       "      <td>0.0</td>\n",
       "      <td>0.0</td>\n",
       "      <td>0.0</td>\n",
       "      <td>0</td>\n",
       "      <td>0</td>\n",
       "      <td>0.0000</td>\n",
       "      <td>0.0000</td>\n",
       "      <td>0.0000</td>\n",
       "      <td>0</td>\n",
       "      <td>0.0</td>\n",
       "    </tr>\n",
       "    <tr>\n",
       "      <th>62</th>\n",
       "      <td>0Oq632k7Q6</td>\n",
       "      <td>xW5pVBdYQg</td>\n",
       "      <td>jYQJ19EqGR</td>\n",
       "      <td>DM</td>\n",
       "      <td>48</td>\n",
       "      <td>0</td>\n",
       "      <td>0</td>\n",
       "      <td>0</td>\n",
       "      <td>0.0</td>\n",
       "      <td>0.0</td>\n",
       "      <td>0.0</td>\n",
       "      <td>0</td>\n",
       "      <td>0</td>\n",
       "      <td>0.0000</td>\n",
       "      <td>0.0000</td>\n",
       "      <td>0.0000</td>\n",
       "      <td>0</td>\n",
       "      <td>0.0</td>\n",
       "    </tr>\n",
       "    <tr>\n",
       "      <th>63</th>\n",
       "      <td>0Oq632k7Q6</td>\n",
       "      <td>zeQZyg3YqK</td>\n",
       "      <td>jYQJ19EqGR</td>\n",
       "      <td>CM</td>\n",
       "      <td>76</td>\n",
       "      <td>0</td>\n",
       "      <td>0</td>\n",
       "      <td>0</td>\n",
       "      <td>0.0</td>\n",
       "      <td>0.0</td>\n",
       "      <td>0.0</td>\n",
       "      <td>0</td>\n",
       "      <td>0</td>\n",
       "      <td>0.0000</td>\n",
       "      <td>0.0000</td>\n",
       "      <td>0.0000</td>\n",
       "      <td>0</td>\n",
       "      <td>0.0</td>\n",
       "    </tr>\n",
       "  </tbody>\n",
       "</table>\n",
       "<p>64 rows × 18 columns</p>\n",
       "</div>"
      ],
      "text/plain": [
       "     player_id     game_id     team_id general_position  minutes_played  \\\n",
       "0   0Oq632k7Q6  0Oq660Agq6  jYQJ19EqGR               DM               7   \n",
       "1   0Oq632k7Q6  0Oq6BXX2q6  jYQJ19EqGR               FB              11   \n",
       "2   0Oq632k7Q6  0Oq6OArxQ6  jYQJ19EqGR               DM              12   \n",
       "3   0Oq632k7Q6  4JMAVBBD5K  jYQJ19EqGR               ST               4   \n",
       "4   0Oq632k7Q6  4JMAyJnYMK  pzeQZ6xQKw               CM              15   \n",
       "..         ...         ...         ...              ...             ...   \n",
       "59  0Oq632k7Q6  wvq9RmW1QW  jYQJ19EqGR               DM              96   \n",
       "60  0Oq632k7Q6  XVqKBxVO50  jYQJ19EqGR               DM              73   \n",
       "61  0Oq632k7Q6  xW5pEgVYqg  pzeQZ6xQKw               AM               8   \n",
       "62  0Oq632k7Q6  xW5pVBdYQg  jYQJ19EqGR               DM              48   \n",
       "63  0Oq632k7Q6  zeQZyg3YqK  jYQJ19EqGR               CM              76   \n",
       "\n",
       "    shots  shots_on_target  goals  xgoals  xplace  goals_minus_xgoals  \\\n",
       "0       0                0      0     0.0     0.0                 0.0   \n",
       "1       0                0      0     0.0     0.0                 0.0   \n",
       "2       0                0      0     0.0     0.0                 0.0   \n",
       "3       0                0      0     0.0     0.0                 0.0   \n",
       "4       0                0      0     0.0     0.0                 0.0   \n",
       "..    ...              ...    ...     ...     ...                 ...   \n",
       "59      0                0      0     0.0     0.0                 0.0   \n",
       "60      0                0      0     0.0     0.0                 0.0   \n",
       "61      0                0      0     0.0     0.0                 0.0   \n",
       "62      0                0      0     0.0     0.0                 0.0   \n",
       "63      0                0      0     0.0     0.0                 0.0   \n",
       "\n",
       "    key_passes  primary_assists  xassists  primary_assists_minus_xassists  \\\n",
       "0            0                0    0.0000                          0.0000   \n",
       "1            0                0    0.0000                          0.0000   \n",
       "2            0                0    0.0000                          0.0000   \n",
       "3            0                0    0.0000                          0.0000   \n",
       "4            1                0    0.2624                         -0.2624   \n",
       "..         ...              ...       ...                             ...   \n",
       "59           0                0    0.0000                          0.0000   \n",
       "60           2                0    0.2379                         -0.2379   \n",
       "61           0                0    0.0000                          0.0000   \n",
       "62           0                0    0.0000                          0.0000   \n",
       "63           0                0    0.0000                          0.0000   \n",
       "\n",
       "    xgoals_plus_xassists  points_added  xpoints_added  \n",
       "0                 0.0000             0            0.0  \n",
       "1                 0.0000             0            0.0  \n",
       "2                 0.0000             0            0.0  \n",
       "3                 0.0000             0            0.0  \n",
       "4                 0.2624             0            0.0  \n",
       "..                   ...           ...            ...  \n",
       "59                0.0000             0            0.0  \n",
       "60                0.2379             0            0.0  \n",
       "61                0.0000             0            0.0  \n",
       "62                0.0000             0            0.0  \n",
       "63                0.0000             0            0.0  \n",
       "\n",
       "[64 rows x 18 columns]"
      ]
     },
     "execution_count": 224,
     "metadata": {},
     "output_type": "execute_result"
    }
   ],
   "source": [
    "player_xgoals"
   ]
  },
  {
   "cell_type": "markdown",
   "id": "ef607e91-2244-4c72-a970-4fcbb7d2435a",
   "metadata": {},
   "source": [
    "### Filtering out the player matches where he played less than 10 mins and did not play as CM"
   ]
  },
  {
   "cell_type": "code",
   "execution_count": 225,
   "id": "4a7d9f2a-a117-41a9-a141-091bd0bd3b45",
   "metadata": {},
   "outputs": [],
   "source": [
    "#condition1 = player_xgoals['general_position'] == 'CM'\n",
    "condition2 = player_xgoals['minutes_played']>=10"
   ]
  },
  {
   "cell_type": "code",
   "execution_count": 226,
   "id": "fe3a4ac7-a1a4-4d4a-8e57-f8942eb167f4",
   "metadata": {},
   "outputs": [],
   "source": [
    "player_xgoals=player_xgoals[condition2]"
   ]
  },
  {
   "cell_type": "code",
   "execution_count": 227,
   "id": "2a503eaf-0d42-4326-8a84-64be87622597",
   "metadata": {},
   "outputs": [
    {
     "data": {
      "text/html": [
       "<div>\n",
       "<style scoped>\n",
       "    .dataframe tbody tr th:only-of-type {\n",
       "        vertical-align: middle;\n",
       "    }\n",
       "\n",
       "    .dataframe tbody tr th {\n",
       "        vertical-align: top;\n",
       "    }\n",
       "\n",
       "    .dataframe thead th {\n",
       "        text-align: right;\n",
       "    }\n",
       "</style>\n",
       "<table border=\"1\" class=\"dataframe\">\n",
       "  <thead>\n",
       "    <tr style=\"text-align: right;\">\n",
       "      <th></th>\n",
       "      <th>player_id</th>\n",
       "      <th>game_id</th>\n",
       "      <th>team_id</th>\n",
       "      <th>general_position</th>\n",
       "      <th>minutes_played</th>\n",
       "      <th>shots</th>\n",
       "      <th>shots_on_target</th>\n",
       "      <th>goals</th>\n",
       "      <th>xgoals</th>\n",
       "      <th>xplace</th>\n",
       "      <th>goals_minus_xgoals</th>\n",
       "      <th>key_passes</th>\n",
       "      <th>primary_assists</th>\n",
       "      <th>xassists</th>\n",
       "      <th>primary_assists_minus_xassists</th>\n",
       "      <th>xgoals_plus_xassists</th>\n",
       "      <th>points_added</th>\n",
       "      <th>xpoints_added</th>\n",
       "    </tr>\n",
       "  </thead>\n",
       "  <tbody>\n",
       "    <tr>\n",
       "      <th>1</th>\n",
       "      <td>0Oq632k7Q6</td>\n",
       "      <td>0Oq6BXX2q6</td>\n",
       "      <td>jYQJ19EqGR</td>\n",
       "      <td>FB</td>\n",
       "      <td>11</td>\n",
       "      <td>0</td>\n",
       "      <td>0</td>\n",
       "      <td>0</td>\n",
       "      <td>0.0000</td>\n",
       "      <td>0.0000</td>\n",
       "      <td>0.0000</td>\n",
       "      <td>0</td>\n",
       "      <td>0</td>\n",
       "      <td>0.0000</td>\n",
       "      <td>0.0000</td>\n",
       "      <td>0.0000</td>\n",
       "      <td>0</td>\n",
       "      <td>0.0000</td>\n",
       "    </tr>\n",
       "    <tr>\n",
       "      <th>2</th>\n",
       "      <td>0Oq632k7Q6</td>\n",
       "      <td>0Oq6OArxQ6</td>\n",
       "      <td>jYQJ19EqGR</td>\n",
       "      <td>DM</td>\n",
       "      <td>12</td>\n",
       "      <td>0</td>\n",
       "      <td>0</td>\n",
       "      <td>0</td>\n",
       "      <td>0.0000</td>\n",
       "      <td>0.0000</td>\n",
       "      <td>0.0000</td>\n",
       "      <td>0</td>\n",
       "      <td>0</td>\n",
       "      <td>0.0000</td>\n",
       "      <td>0.0000</td>\n",
       "      <td>0.0000</td>\n",
       "      <td>0</td>\n",
       "      <td>0.0000</td>\n",
       "    </tr>\n",
       "    <tr>\n",
       "      <th>4</th>\n",
       "      <td>0Oq632k7Q6</td>\n",
       "      <td>4JMAyJnYMK</td>\n",
       "      <td>pzeQZ6xQKw</td>\n",
       "      <td>CM</td>\n",
       "      <td>15</td>\n",
       "      <td>0</td>\n",
       "      <td>0</td>\n",
       "      <td>0</td>\n",
       "      <td>0.0000</td>\n",
       "      <td>0.0000</td>\n",
       "      <td>0.0000</td>\n",
       "      <td>1</td>\n",
       "      <td>0</td>\n",
       "      <td>0.2624</td>\n",
       "      <td>-0.2624</td>\n",
       "      <td>0.2624</td>\n",
       "      <td>0</td>\n",
       "      <td>0.0000</td>\n",
       "    </tr>\n",
       "    <tr>\n",
       "      <th>5</th>\n",
       "      <td>0Oq632k7Q6</td>\n",
       "      <td>7vQ7nmaGqD</td>\n",
       "      <td>jYQJ19EqGR</td>\n",
       "      <td>FB</td>\n",
       "      <td>38</td>\n",
       "      <td>2</td>\n",
       "      <td>0</td>\n",
       "      <td>0</td>\n",
       "      <td>0.0521</td>\n",
       "      <td>-0.0521</td>\n",
       "      <td>-0.0521</td>\n",
       "      <td>1</td>\n",
       "      <td>0</td>\n",
       "      <td>0.0494</td>\n",
       "      <td>-0.0494</td>\n",
       "      <td>0.1015</td>\n",
       "      <td>0</td>\n",
       "      <td>0.0475</td>\n",
       "    </tr>\n",
       "    <tr>\n",
       "      <th>6</th>\n",
       "      <td>0Oq632k7Q6</td>\n",
       "      <td>7vQ7nmJLqD</td>\n",
       "      <td>jYQJ19EqGR</td>\n",
       "      <td>FB</td>\n",
       "      <td>47</td>\n",
       "      <td>1</td>\n",
       "      <td>0</td>\n",
       "      <td>0</td>\n",
       "      <td>0.1048</td>\n",
       "      <td>-0.1048</td>\n",
       "      <td>-0.1048</td>\n",
       "      <td>1</td>\n",
       "      <td>0</td>\n",
       "      <td>0.0310</td>\n",
       "      <td>-0.0310</td>\n",
       "      <td>0.1358</td>\n",
       "      <td>0</td>\n",
       "      <td>0.1618</td>\n",
       "    </tr>\n",
       "    <tr>\n",
       "      <th>7</th>\n",
       "      <td>0Oq632k7Q6</td>\n",
       "      <td>7VqG8GdxQv</td>\n",
       "      <td>pzeQZ6xQKw</td>\n",
       "      <td>CM</td>\n",
       "      <td>91</td>\n",
       "      <td>2</td>\n",
       "      <td>2</td>\n",
       "      <td>0</td>\n",
       "      <td>0.0706</td>\n",
       "      <td>0.4976</td>\n",
       "      <td>-0.0706</td>\n",
       "      <td>2</td>\n",
       "      <td>0</td>\n",
       "      <td>0.1480</td>\n",
       "      <td>-0.1480</td>\n",
       "      <td>0.2186</td>\n",
       "      <td>0</td>\n",
       "      <td>0.0505</td>\n",
       "    </tr>\n",
       "    <tr>\n",
       "      <th>9</th>\n",
       "      <td>0Oq632k7Q6</td>\n",
       "      <td>9vQ2B0GrQK</td>\n",
       "      <td>pzeQZ6xQKw</td>\n",
       "      <td>DM</td>\n",
       "      <td>10</td>\n",
       "      <td>0</td>\n",
       "      <td>0</td>\n",
       "      <td>0</td>\n",
       "      <td>0.0000</td>\n",
       "      <td>0.0000</td>\n",
       "      <td>0.0000</td>\n",
       "      <td>0</td>\n",
       "      <td>0</td>\n",
       "      <td>0.0000</td>\n",
       "      <td>0.0000</td>\n",
       "      <td>0.0000</td>\n",
       "      <td>0</td>\n",
       "      <td>0.0000</td>\n",
       "    </tr>\n",
       "    <tr>\n",
       "      <th>10</th>\n",
       "      <td>0Oq632k7Q6</td>\n",
       "      <td>9Yqd3nrL5v</td>\n",
       "      <td>jYQJ19EqGR</td>\n",
       "      <td>CM</td>\n",
       "      <td>57</td>\n",
       "      <td>0</td>\n",
       "      <td>0</td>\n",
       "      <td>0</td>\n",
       "      <td>0.0000</td>\n",
       "      <td>0.0000</td>\n",
       "      <td>0.0000</td>\n",
       "      <td>1</td>\n",
       "      <td>0</td>\n",
       "      <td>0.0465</td>\n",
       "      <td>-0.0465</td>\n",
       "      <td>0.0465</td>\n",
       "      <td>0</td>\n",
       "      <td>0.0000</td>\n",
       "    </tr>\n",
       "    <tr>\n",
       "      <th>11</th>\n",
       "      <td>0Oq632k7Q6</td>\n",
       "      <td>9Yqd8B08qv</td>\n",
       "      <td>jYQJ19EqGR</td>\n",
       "      <td>DM</td>\n",
       "      <td>84</td>\n",
       "      <td>1</td>\n",
       "      <td>1</td>\n",
       "      <td>0</td>\n",
       "      <td>0.0299</td>\n",
       "      <td>0.0785</td>\n",
       "      <td>-0.0299</td>\n",
       "      <td>0</td>\n",
       "      <td>0</td>\n",
       "      <td>0.0000</td>\n",
       "      <td>0.0000</td>\n",
       "      <td>0.0299</td>\n",
       "      <td>0</td>\n",
       "      <td>0.0257</td>\n",
       "    </tr>\n",
       "    <tr>\n",
       "      <th>12</th>\n",
       "      <td>0Oq632k7Q6</td>\n",
       "      <td>9YqdZE4mMv</td>\n",
       "      <td>pzeQZ6xQKw</td>\n",
       "      <td>ST</td>\n",
       "      <td>16</td>\n",
       "      <td>0</td>\n",
       "      <td>0</td>\n",
       "      <td>0</td>\n",
       "      <td>0.0000</td>\n",
       "      <td>0.0000</td>\n",
       "      <td>0.0000</td>\n",
       "      <td>0</td>\n",
       "      <td>0</td>\n",
       "      <td>0.0000</td>\n",
       "      <td>0.0000</td>\n",
       "      <td>0.0000</td>\n",
       "      <td>0</td>\n",
       "      <td>0.0000</td>\n",
       "    </tr>\n",
       "    <tr>\n",
       "      <th>13</th>\n",
       "      <td>0Oq632k7Q6</td>\n",
       "      <td>9z5kEJeYQA</td>\n",
       "      <td>pzeQZ6xQKw</td>\n",
       "      <td>DM</td>\n",
       "      <td>16</td>\n",
       "      <td>0</td>\n",
       "      <td>0</td>\n",
       "      <td>0</td>\n",
       "      <td>0.0000</td>\n",
       "      <td>0.0000</td>\n",
       "      <td>0.0000</td>\n",
       "      <td>0</td>\n",
       "      <td>0</td>\n",
       "      <td>0.0000</td>\n",
       "      <td>0.0000</td>\n",
       "      <td>0.0000</td>\n",
       "      <td>0</td>\n",
       "      <td>0.0000</td>\n",
       "    </tr>\n",
       "    <tr>\n",
       "      <th>14</th>\n",
       "      <td>0Oq632k7Q6</td>\n",
       "      <td>9z5knraJMA</td>\n",
       "      <td>jYQJ19EqGR</td>\n",
       "      <td>W</td>\n",
       "      <td>41</td>\n",
       "      <td>1</td>\n",
       "      <td>0</td>\n",
       "      <td>0</td>\n",
       "      <td>0.0383</td>\n",
       "      <td>-0.0383</td>\n",
       "      <td>-0.0383</td>\n",
       "      <td>0</td>\n",
       "      <td>0</td>\n",
       "      <td>0.0000</td>\n",
       "      <td>0.0000</td>\n",
       "      <td>0.0383</td>\n",
       "      <td>0</td>\n",
       "      <td>0.0688</td>\n",
       "    </tr>\n",
       "    <tr>\n",
       "      <th>17</th>\n",
       "      <td>0Oq632k7Q6</td>\n",
       "      <td>aDQ0r1Rv5E</td>\n",
       "      <td>jYQJ19EqGR</td>\n",
       "      <td>CM</td>\n",
       "      <td>28</td>\n",
       "      <td>1</td>\n",
       "      <td>0</td>\n",
       "      <td>0</td>\n",
       "      <td>0.0268</td>\n",
       "      <td>-0.0268</td>\n",
       "      <td>-0.0268</td>\n",
       "      <td>0</td>\n",
       "      <td>0</td>\n",
       "      <td>0.0000</td>\n",
       "      <td>0.0000</td>\n",
       "      <td>0.0268</td>\n",
       "      <td>0</td>\n",
       "      <td>0.0001</td>\n",
       "    </tr>\n",
       "    <tr>\n",
       "      <th>18</th>\n",
       "      <td>0Oq632k7Q6</td>\n",
       "      <td>BLMvXYN8qx</td>\n",
       "      <td>jYQJ19EqGR</td>\n",
       "      <td>AM</td>\n",
       "      <td>22</td>\n",
       "      <td>0</td>\n",
       "      <td>0</td>\n",
       "      <td>0</td>\n",
       "      <td>0.0000</td>\n",
       "      <td>0.0000</td>\n",
       "      <td>0.0000</td>\n",
       "      <td>0</td>\n",
       "      <td>0</td>\n",
       "      <td>0.0000</td>\n",
       "      <td>0.0000</td>\n",
       "      <td>0.0000</td>\n",
       "      <td>0</td>\n",
       "      <td>0.0000</td>\n",
       "    </tr>\n",
       "    <tr>\n",
       "      <th>19</th>\n",
       "      <td>0Oq632k7Q6</td>\n",
       "      <td>e7MzEPEjQr</td>\n",
       "      <td>pzeQZ6xQKw</td>\n",
       "      <td>CM</td>\n",
       "      <td>96</td>\n",
       "      <td>1</td>\n",
       "      <td>0</td>\n",
       "      <td>0</td>\n",
       "      <td>0.0307</td>\n",
       "      <td>-0.0307</td>\n",
       "      <td>-0.0307</td>\n",
       "      <td>3</td>\n",
       "      <td>0</td>\n",
       "      <td>0.0741</td>\n",
       "      <td>-0.0741</td>\n",
       "      <td>0.1047</td>\n",
       "      <td>0</td>\n",
       "      <td>0.0204</td>\n",
       "    </tr>\n",
       "    <tr>\n",
       "      <th>20</th>\n",
       "      <td>0Oq632k7Q6</td>\n",
       "      <td>EGMP0PaAMa</td>\n",
       "      <td>pzeQZ6xQKw</td>\n",
       "      <td>DM</td>\n",
       "      <td>50</td>\n",
       "      <td>0</td>\n",
       "      <td>0</td>\n",
       "      <td>0</td>\n",
       "      <td>0.0000</td>\n",
       "      <td>0.0000</td>\n",
       "      <td>0.0000</td>\n",
       "      <td>1</td>\n",
       "      <td>0</td>\n",
       "      <td>0.0297</td>\n",
       "      <td>-0.0297</td>\n",
       "      <td>0.0297</td>\n",
       "      <td>0</td>\n",
       "      <td>0.0000</td>\n",
       "    </tr>\n",
       "    <tr>\n",
       "      <th>21</th>\n",
       "      <td>0Oq632k7Q6</td>\n",
       "      <td>EGMPOx7jQa</td>\n",
       "      <td>jYQJ19EqGR</td>\n",
       "      <td>DM</td>\n",
       "      <td>15</td>\n",
       "      <td>0</td>\n",
       "      <td>0</td>\n",
       "      <td>0</td>\n",
       "      <td>0.0000</td>\n",
       "      <td>0.0000</td>\n",
       "      <td>0.0000</td>\n",
       "      <td>0</td>\n",
       "      <td>0</td>\n",
       "      <td>0.0000</td>\n",
       "      <td>0.0000</td>\n",
       "      <td>0.0000</td>\n",
       "      <td>0</td>\n",
       "      <td>0.0000</td>\n",
       "    </tr>\n",
       "    <tr>\n",
       "      <th>22</th>\n",
       "      <td>0Oq632k7Q6</td>\n",
       "      <td>eV5DEEpRqK</td>\n",
       "      <td>jYQJ19EqGR</td>\n",
       "      <td>DM</td>\n",
       "      <td>19</td>\n",
       "      <td>0</td>\n",
       "      <td>0</td>\n",
       "      <td>0</td>\n",
       "      <td>0.0000</td>\n",
       "      <td>0.0000</td>\n",
       "      <td>0.0000</td>\n",
       "      <td>0</td>\n",
       "      <td>0</td>\n",
       "      <td>0.0000</td>\n",
       "      <td>0.0000</td>\n",
       "      <td>0.0000</td>\n",
       "      <td>0</td>\n",
       "      <td>0.0000</td>\n",
       "    </tr>\n",
       "    <tr>\n",
       "      <th>23</th>\n",
       "      <td>0Oq632k7Q6</td>\n",
       "      <td>eV5DNGdmQK</td>\n",
       "      <td>jYQJ19EqGR</td>\n",
       "      <td>W</td>\n",
       "      <td>11</td>\n",
       "      <td>0</td>\n",
       "      <td>0</td>\n",
       "      <td>0</td>\n",
       "      <td>0.0000</td>\n",
       "      <td>0.0000</td>\n",
       "      <td>0.0000</td>\n",
       "      <td>0</td>\n",
       "      <td>0</td>\n",
       "      <td>0.0000</td>\n",
       "      <td>0.0000</td>\n",
       "      <td>0.0000</td>\n",
       "      <td>0</td>\n",
       "      <td>0.0000</td>\n",
       "    </tr>\n",
       "    <tr>\n",
       "      <th>24</th>\n",
       "      <td>0Oq632k7Q6</td>\n",
       "      <td>eV5DrEmnQK</td>\n",
       "      <td>jYQJ19EqGR</td>\n",
       "      <td>DM</td>\n",
       "      <td>67</td>\n",
       "      <td>1</td>\n",
       "      <td>0</td>\n",
       "      <td>0</td>\n",
       "      <td>0.0225</td>\n",
       "      <td>-0.0225</td>\n",
       "      <td>-0.0225</td>\n",
       "      <td>0</td>\n",
       "      <td>0</td>\n",
       "      <td>0.0000</td>\n",
       "      <td>0.0000</td>\n",
       "      <td>0.0225</td>\n",
       "      <td>0</td>\n",
       "      <td>0.0195</td>\n",
       "    </tr>\n",
       "    <tr>\n",
       "      <th>25</th>\n",
       "      <td>0Oq632k7Q6</td>\n",
       "      <td>eVq3gmjXqW</td>\n",
       "      <td>jYQJ19EqGR</td>\n",
       "      <td>CM</td>\n",
       "      <td>102</td>\n",
       "      <td>1</td>\n",
       "      <td>0</td>\n",
       "      <td>0</td>\n",
       "      <td>0.0420</td>\n",
       "      <td>-0.0420</td>\n",
       "      <td>-0.0420</td>\n",
       "      <td>0</td>\n",
       "      <td>0</td>\n",
       "      <td>0.0000</td>\n",
       "      <td>0.0000</td>\n",
       "      <td>0.0420</td>\n",
       "      <td>0</td>\n",
       "      <td>0.0306</td>\n",
       "    </tr>\n",
       "    <tr>\n",
       "      <th>26</th>\n",
       "      <td>0Oq632k7Q6</td>\n",
       "      <td>eVq3WEgGqW</td>\n",
       "      <td>pzeQZ6xQKw</td>\n",
       "      <td>CM</td>\n",
       "      <td>89</td>\n",
       "      <td>0</td>\n",
       "      <td>0</td>\n",
       "      <td>0</td>\n",
       "      <td>0.0000</td>\n",
       "      <td>0.0000</td>\n",
       "      <td>0.0000</td>\n",
       "      <td>1</td>\n",
       "      <td>0</td>\n",
       "      <td>0.0264</td>\n",
       "      <td>-0.0264</td>\n",
       "      <td>0.0264</td>\n",
       "      <td>0</td>\n",
       "      <td>0.0000</td>\n",
       "    </tr>\n",
       "    <tr>\n",
       "      <th>28</th>\n",
       "      <td>0Oq632k7Q6</td>\n",
       "      <td>gjMNGER35K</td>\n",
       "      <td>jYQJ19EqGR</td>\n",
       "      <td>CM</td>\n",
       "      <td>62</td>\n",
       "      <td>0</td>\n",
       "      <td>0</td>\n",
       "      <td>0</td>\n",
       "      <td>0.0000</td>\n",
       "      <td>0.0000</td>\n",
       "      <td>0.0000</td>\n",
       "      <td>0</td>\n",
       "      <td>0</td>\n",
       "      <td>0.0000</td>\n",
       "      <td>0.0000</td>\n",
       "      <td>0.0000</td>\n",
       "      <td>0</td>\n",
       "      <td>0.0000</td>\n",
       "    </tr>\n",
       "    <tr>\n",
       "      <th>29</th>\n",
       "      <td>0Oq632k7Q6</td>\n",
       "      <td>gOMn97nmQw</td>\n",
       "      <td>jYQJ19EqGR</td>\n",
       "      <td>ST</td>\n",
       "      <td>24</td>\n",
       "      <td>0</td>\n",
       "      <td>0</td>\n",
       "      <td>0</td>\n",
       "      <td>0.0000</td>\n",
       "      <td>0.0000</td>\n",
       "      <td>0.0000</td>\n",
       "      <td>1</td>\n",
       "      <td>1</td>\n",
       "      <td>0.0571</td>\n",
       "      <td>0.9429</td>\n",
       "      <td>0.0571</td>\n",
       "      <td>0</td>\n",
       "      <td>0.0000</td>\n",
       "    </tr>\n",
       "    <tr>\n",
       "      <th>30</th>\n",
       "      <td>0Oq632k7Q6</td>\n",
       "      <td>gOMnXkveqw</td>\n",
       "      <td>jYQJ19EqGR</td>\n",
       "      <td>AM</td>\n",
       "      <td>25</td>\n",
       "      <td>0</td>\n",
       "      <td>0</td>\n",
       "      <td>0</td>\n",
       "      <td>0.0000</td>\n",
       "      <td>0.0000</td>\n",
       "      <td>0.0000</td>\n",
       "      <td>0</td>\n",
       "      <td>0</td>\n",
       "      <td>0.0000</td>\n",
       "      <td>0.0000</td>\n",
       "      <td>0.0000</td>\n",
       "      <td>0</td>\n",
       "      <td>0.0000</td>\n",
       "    </tr>\n",
       "    <tr>\n",
       "      <th>31</th>\n",
       "      <td>0Oq632k7Q6</td>\n",
       "      <td>gOMnXkxeqw</td>\n",
       "      <td>jYQJ19EqGR</td>\n",
       "      <td>AM</td>\n",
       "      <td>16</td>\n",
       "      <td>1</td>\n",
       "      <td>1</td>\n",
       "      <td>0</td>\n",
       "      <td>0.0283</td>\n",
       "      <td>-0.0139</td>\n",
       "      <td>-0.0283</td>\n",
       "      <td>0</td>\n",
       "      <td>0</td>\n",
       "      <td>0.0000</td>\n",
       "      <td>0.0000</td>\n",
       "      <td>0.0283</td>\n",
       "      <td>0</td>\n",
       "      <td>0.0007</td>\n",
       "    </tr>\n",
       "    <tr>\n",
       "      <th>32</th>\n",
       "      <td>0Oq632k7Q6</td>\n",
       "      <td>jYQJ0n3V5G</td>\n",
       "      <td>pzeQZ6xQKw</td>\n",
       "      <td>CM</td>\n",
       "      <td>28</td>\n",
       "      <td>0</td>\n",
       "      <td>0</td>\n",
       "      <td>0</td>\n",
       "      <td>0.0000</td>\n",
       "      <td>0.0000</td>\n",
       "      <td>0.0000</td>\n",
       "      <td>0</td>\n",
       "      <td>0</td>\n",
       "      <td>0.0000</td>\n",
       "      <td>0.0000</td>\n",
       "      <td>0.0000</td>\n",
       "      <td>0</td>\n",
       "      <td>0.0000</td>\n",
       "    </tr>\n",
       "    <tr>\n",
       "      <th>33</th>\n",
       "      <td>0Oq632k7Q6</td>\n",
       "      <td>jYQJl9Kd5G</td>\n",
       "      <td>jYQJ19EqGR</td>\n",
       "      <td>CM</td>\n",
       "      <td>99</td>\n",
       "      <td>0</td>\n",
       "      <td>0</td>\n",
       "      <td>0</td>\n",
       "      <td>0.0000</td>\n",
       "      <td>0.0000</td>\n",
       "      <td>0.0000</td>\n",
       "      <td>0</td>\n",
       "      <td>0</td>\n",
       "      <td>0.0000</td>\n",
       "      <td>0.0000</td>\n",
       "      <td>0.0000</td>\n",
       "      <td>0</td>\n",
       "      <td>0.0000</td>\n",
       "    </tr>\n",
       "    <tr>\n",
       "      <th>34</th>\n",
       "      <td>0Oq632k7Q6</td>\n",
       "      <td>KAqB7wbVQb</td>\n",
       "      <td>pzeQZ6xQKw</td>\n",
       "      <td>AM</td>\n",
       "      <td>20</td>\n",
       "      <td>0</td>\n",
       "      <td>0</td>\n",
       "      <td>0</td>\n",
       "      <td>0.0000</td>\n",
       "      <td>0.0000</td>\n",
       "      <td>0.0000</td>\n",
       "      <td>0</td>\n",
       "      <td>0</td>\n",
       "      <td>0.0000</td>\n",
       "      <td>0.0000</td>\n",
       "      <td>0.0000</td>\n",
       "      <td>0</td>\n",
       "      <td>0.0000</td>\n",
       "    </tr>\n",
       "    <tr>\n",
       "      <th>35</th>\n",
       "      <td>0Oq632k7Q6</td>\n",
       "      <td>KAqB7wPAQb</td>\n",
       "      <td>jYQJ19EqGR</td>\n",
       "      <td>ST</td>\n",
       "      <td>13</td>\n",
       "      <td>0</td>\n",
       "      <td>0</td>\n",
       "      <td>0</td>\n",
       "      <td>0.0000</td>\n",
       "      <td>0.0000</td>\n",
       "      <td>0.0000</td>\n",
       "      <td>0</td>\n",
       "      <td>0</td>\n",
       "      <td>0.0000</td>\n",
       "      <td>0.0000</td>\n",
       "      <td>0.0000</td>\n",
       "      <td>0</td>\n",
       "      <td>0.0000</td>\n",
       "    </tr>\n",
       "    <tr>\n",
       "      <th>36</th>\n",
       "      <td>0Oq632k7Q6</td>\n",
       "      <td>KAqBDEeAMb</td>\n",
       "      <td>jYQJ19EqGR</td>\n",
       "      <td>DM</td>\n",
       "      <td>47</td>\n",
       "      <td>0</td>\n",
       "      <td>0</td>\n",
       "      <td>0</td>\n",
       "      <td>0.0000</td>\n",
       "      <td>0.0000</td>\n",
       "      <td>0.0000</td>\n",
       "      <td>1</td>\n",
       "      <td>0</td>\n",
       "      <td>0.0234</td>\n",
       "      <td>-0.0234</td>\n",
       "      <td>0.0234</td>\n",
       "      <td>0</td>\n",
       "      <td>0.0000</td>\n",
       "    </tr>\n",
       "    <tr>\n",
       "      <th>37</th>\n",
       "      <td>0Oq632k7Q6</td>\n",
       "      <td>KAqBDEVmMb</td>\n",
       "      <td>jYQJ19EqGR</td>\n",
       "      <td>CM</td>\n",
       "      <td>63</td>\n",
       "      <td>1</td>\n",
       "      <td>0</td>\n",
       "      <td>0</td>\n",
       "      <td>0.0210</td>\n",
       "      <td>-0.0210</td>\n",
       "      <td>-0.0210</td>\n",
       "      <td>0</td>\n",
       "      <td>0</td>\n",
       "      <td>0.0000</td>\n",
       "      <td>0.0000</td>\n",
       "      <td>0.0210</td>\n",
       "      <td>0</td>\n",
       "      <td>0.0143</td>\n",
       "    </tr>\n",
       "    <tr>\n",
       "      <th>38</th>\n",
       "      <td>0Oq632k7Q6</td>\n",
       "      <td>KPqjAnrN56</td>\n",
       "      <td>jYQJ19EqGR</td>\n",
       "      <td>CM</td>\n",
       "      <td>99</td>\n",
       "      <td>1</td>\n",
       "      <td>1</td>\n",
       "      <td>0</td>\n",
       "      <td>0.0316</td>\n",
       "      <td>-0.0002</td>\n",
       "      <td>-0.0316</td>\n",
       "      <td>0</td>\n",
       "      <td>0</td>\n",
       "      <td>0.0000</td>\n",
       "      <td>0.0000</td>\n",
       "      <td>0.0316</td>\n",
       "      <td>0</td>\n",
       "      <td>0.0021</td>\n",
       "    </tr>\n",
       "    <tr>\n",
       "      <th>39</th>\n",
       "      <td>0Oq632k7Q6</td>\n",
       "      <td>KPqjYbj456</td>\n",
       "      <td>pzeQZ6xQKw</td>\n",
       "      <td>CM</td>\n",
       "      <td>75</td>\n",
       "      <td>2</td>\n",
       "      <td>1</td>\n",
       "      <td>0</td>\n",
       "      <td>0.1082</td>\n",
       "      <td>0.5531</td>\n",
       "      <td>-0.1082</td>\n",
       "      <td>0</td>\n",
       "      <td>0</td>\n",
       "      <td>0.0000</td>\n",
       "      <td>0.0000</td>\n",
       "      <td>0.1082</td>\n",
       "      <td>0</td>\n",
       "      <td>0.0316</td>\n",
       "    </tr>\n",
       "    <tr>\n",
       "      <th>41</th>\n",
       "      <td>0Oq632k7Q6</td>\n",
       "      <td>KXMeEAz2M6</td>\n",
       "      <td>pzeQZ6xQKw</td>\n",
       "      <td>CM</td>\n",
       "      <td>10</td>\n",
       "      <td>0</td>\n",
       "      <td>0</td>\n",
       "      <td>0</td>\n",
       "      <td>0.0000</td>\n",
       "      <td>0.0000</td>\n",
       "      <td>0.0000</td>\n",
       "      <td>0</td>\n",
       "      <td>0</td>\n",
       "      <td>0.0000</td>\n",
       "      <td>0.0000</td>\n",
       "      <td>0.0000</td>\n",
       "      <td>0</td>\n",
       "      <td>0.0000</td>\n",
       "    </tr>\n",
       "    <tr>\n",
       "      <th>42</th>\n",
       "      <td>0Oq632k7Q6</td>\n",
       "      <td>KXMeYW06M6</td>\n",
       "      <td>jYQJ19EqGR</td>\n",
       "      <td>FB</td>\n",
       "      <td>33</td>\n",
       "      <td>0</td>\n",
       "      <td>0</td>\n",
       "      <td>0</td>\n",
       "      <td>0.0000</td>\n",
       "      <td>0.0000</td>\n",
       "      <td>0.0000</td>\n",
       "      <td>0</td>\n",
       "      <td>0</td>\n",
       "      <td>0.0000</td>\n",
       "      <td>0.0000</td>\n",
       "      <td>0.0000</td>\n",
       "      <td>0</td>\n",
       "      <td>0.0000</td>\n",
       "    </tr>\n",
       "    <tr>\n",
       "      <th>43</th>\n",
       "      <td>0Oq632k7Q6</td>\n",
       "      <td>KXMeYWm1M6</td>\n",
       "      <td>jYQJ19EqGR</td>\n",
       "      <td>DM</td>\n",
       "      <td>29</td>\n",
       "      <td>0</td>\n",
       "      <td>0</td>\n",
       "      <td>0</td>\n",
       "      <td>0.0000</td>\n",
       "      <td>0.0000</td>\n",
       "      <td>0.0000</td>\n",
       "      <td>0</td>\n",
       "      <td>0</td>\n",
       "      <td>0.0000</td>\n",
       "      <td>0.0000</td>\n",
       "      <td>0.0000</td>\n",
       "      <td>0</td>\n",
       "      <td>0.0000</td>\n",
       "    </tr>\n",
       "    <tr>\n",
       "      <th>44</th>\n",
       "      <td>0Oq632k7Q6</td>\n",
       "      <td>KXMeYWv2M6</td>\n",
       "      <td>jYQJ19EqGR</td>\n",
       "      <td>CM</td>\n",
       "      <td>65</td>\n",
       "      <td>1</td>\n",
       "      <td>0</td>\n",
       "      <td>0</td>\n",
       "      <td>0.0289</td>\n",
       "      <td>-0.0289</td>\n",
       "      <td>-0.0289</td>\n",
       "      <td>5</td>\n",
       "      <td>0</td>\n",
       "      <td>0.4632</td>\n",
       "      <td>-0.4632</td>\n",
       "      <td>0.4920</td>\n",
       "      <td>0</td>\n",
       "      <td>0.0141</td>\n",
       "    </tr>\n",
       "    <tr>\n",
       "      <th>45</th>\n",
       "      <td>0Oq632k7Q6</td>\n",
       "      <td>ljqEy68kqx</td>\n",
       "      <td>jYQJ19EqGR</td>\n",
       "      <td>CM</td>\n",
       "      <td>27</td>\n",
       "      <td>0</td>\n",
       "      <td>0</td>\n",
       "      <td>0</td>\n",
       "      <td>0.0000</td>\n",
       "      <td>0.0000</td>\n",
       "      <td>0.0000</td>\n",
       "      <td>0</td>\n",
       "      <td>0</td>\n",
       "      <td>0.0000</td>\n",
       "      <td>0.0000</td>\n",
       "      <td>0.0000</td>\n",
       "      <td>0</td>\n",
       "      <td>0.0000</td>\n",
       "    </tr>\n",
       "    <tr>\n",
       "      <th>46</th>\n",
       "      <td>0Oq632k7Q6</td>\n",
       "      <td>N6MmX990QE</td>\n",
       "      <td>jYQJ19EqGR</td>\n",
       "      <td>CM</td>\n",
       "      <td>37</td>\n",
       "      <td>0</td>\n",
       "      <td>0</td>\n",
       "      <td>0</td>\n",
       "      <td>0.0000</td>\n",
       "      <td>0.0000</td>\n",
       "      <td>0.0000</td>\n",
       "      <td>1</td>\n",
       "      <td>0</td>\n",
       "      <td>0.2149</td>\n",
       "      <td>-0.2149</td>\n",
       "      <td>0.2149</td>\n",
       "      <td>0</td>\n",
       "      <td>0.0000</td>\n",
       "    </tr>\n",
       "    <tr>\n",
       "      <th>47</th>\n",
       "      <td>0Oq632k7Q6</td>\n",
       "      <td>N6MmX9Y0QE</td>\n",
       "      <td>jYQJ19EqGR</td>\n",
       "      <td>CM</td>\n",
       "      <td>88</td>\n",
       "      <td>0</td>\n",
       "      <td>0</td>\n",
       "      <td>0</td>\n",
       "      <td>0.0000</td>\n",
       "      <td>0.0000</td>\n",
       "      <td>0.0000</td>\n",
       "      <td>2</td>\n",
       "      <td>0</td>\n",
       "      <td>0.0591</td>\n",
       "      <td>-0.0591</td>\n",
       "      <td>0.0591</td>\n",
       "      <td>0</td>\n",
       "      <td>0.0000</td>\n",
       "    </tr>\n",
       "    <tr>\n",
       "      <th>48</th>\n",
       "      <td>0Oq632k7Q6</td>\n",
       "      <td>NPqxEkDZQ9</td>\n",
       "      <td>pzeQZ6xQKw</td>\n",
       "      <td>DM</td>\n",
       "      <td>105</td>\n",
       "      <td>0</td>\n",
       "      <td>0</td>\n",
       "      <td>0</td>\n",
       "      <td>0.0000</td>\n",
       "      <td>0.0000</td>\n",
       "      <td>0.0000</td>\n",
       "      <td>3</td>\n",
       "      <td>0</td>\n",
       "      <td>0.2506</td>\n",
       "      <td>-0.2506</td>\n",
       "      <td>0.2506</td>\n",
       "      <td>0</td>\n",
       "      <td>0.0000</td>\n",
       "    </tr>\n",
       "    <tr>\n",
       "      <th>49</th>\n",
       "      <td>0Oq632k7Q6</td>\n",
       "      <td>NWMW0r0N5l</td>\n",
       "      <td>pzeQZ6xQKw</td>\n",
       "      <td>CM</td>\n",
       "      <td>82</td>\n",
       "      <td>0</td>\n",
       "      <td>0</td>\n",
       "      <td>0</td>\n",
       "      <td>0.0000</td>\n",
       "      <td>0.0000</td>\n",
       "      <td>0.0000</td>\n",
       "      <td>0</td>\n",
       "      <td>0</td>\n",
       "      <td>0.0000</td>\n",
       "      <td>0.0000</td>\n",
       "      <td>0.0000</td>\n",
       "      <td>0</td>\n",
       "      <td>0.0000</td>\n",
       "    </tr>\n",
       "    <tr>\n",
       "      <th>50</th>\n",
       "      <td>0Oq632k7Q6</td>\n",
       "      <td>Oa5waEBjQ1</td>\n",
       "      <td>jYQJ19EqGR</td>\n",
       "      <td>DM</td>\n",
       "      <td>49</td>\n",
       "      <td>0</td>\n",
       "      <td>0</td>\n",
       "      <td>0</td>\n",
       "      <td>0.0000</td>\n",
       "      <td>0.0000</td>\n",
       "      <td>0.0000</td>\n",
       "      <td>1</td>\n",
       "      <td>0</td>\n",
       "      <td>0.0130</td>\n",
       "      <td>-0.0130</td>\n",
       "      <td>0.0130</td>\n",
       "      <td>0</td>\n",
       "      <td>0.0000</td>\n",
       "    </tr>\n",
       "    <tr>\n",
       "      <th>51</th>\n",
       "      <td>0Oq632k7Q6</td>\n",
       "      <td>Oa5wXr4Xq1</td>\n",
       "      <td>jYQJ19EqGR</td>\n",
       "      <td>CM</td>\n",
       "      <td>22</td>\n",
       "      <td>0</td>\n",
       "      <td>0</td>\n",
       "      <td>0</td>\n",
       "      <td>0.0000</td>\n",
       "      <td>0.0000</td>\n",
       "      <td>0.0000</td>\n",
       "      <td>1</td>\n",
       "      <td>0</td>\n",
       "      <td>0.0778</td>\n",
       "      <td>-0.0778</td>\n",
       "      <td>0.0778</td>\n",
       "      <td>0</td>\n",
       "      <td>0.0000</td>\n",
       "    </tr>\n",
       "    <tr>\n",
       "      <th>52</th>\n",
       "      <td>0Oq632k7Q6</td>\n",
       "      <td>Oa5wXryXq1</td>\n",
       "      <td>jYQJ19EqGR</td>\n",
       "      <td>CM</td>\n",
       "      <td>82</td>\n",
       "      <td>1</td>\n",
       "      <td>0</td>\n",
       "      <td>0</td>\n",
       "      <td>0.0353</td>\n",
       "      <td>-0.0353</td>\n",
       "      <td>-0.0353</td>\n",
       "      <td>1</td>\n",
       "      <td>0</td>\n",
       "      <td>0.0138</td>\n",
       "      <td>-0.0138</td>\n",
       "      <td>0.0491</td>\n",
       "      <td>0</td>\n",
       "      <td>0.0227</td>\n",
       "    </tr>\n",
       "    <tr>\n",
       "      <th>53</th>\n",
       "      <td>0Oq632k7Q6</td>\n",
       "      <td>odMX9eOo5Y</td>\n",
       "      <td>jYQJ19EqGR</td>\n",
       "      <td>CM</td>\n",
       "      <td>97</td>\n",
       "      <td>1</td>\n",
       "      <td>0</td>\n",
       "      <td>0</td>\n",
       "      <td>0.0298</td>\n",
       "      <td>-0.0298</td>\n",
       "      <td>-0.0298</td>\n",
       "      <td>0</td>\n",
       "      <td>0</td>\n",
       "      <td>0.0000</td>\n",
       "      <td>0.0000</td>\n",
       "      <td>0.0298</td>\n",
       "      <td>0</td>\n",
       "      <td>0.0239</td>\n",
       "    </tr>\n",
       "    <tr>\n",
       "      <th>54</th>\n",
       "      <td>0Oq632k7Q6</td>\n",
       "      <td>OlMloNwDQL</td>\n",
       "      <td>jYQJ19EqGR</td>\n",
       "      <td>CM</td>\n",
       "      <td>97</td>\n",
       "      <td>0</td>\n",
       "      <td>0</td>\n",
       "      <td>0</td>\n",
       "      <td>0.0000</td>\n",
       "      <td>0.0000</td>\n",
       "      <td>0.0000</td>\n",
       "      <td>0</td>\n",
       "      <td>0</td>\n",
       "      <td>0.0000</td>\n",
       "      <td>0.0000</td>\n",
       "      <td>0.0000</td>\n",
       "      <td>0</td>\n",
       "      <td>0.0000</td>\n",
       "    </tr>\n",
       "    <tr>\n",
       "      <th>55</th>\n",
       "      <td>0Oq632k7Q6</td>\n",
       "      <td>p6qbJkOXq0</td>\n",
       "      <td>jYQJ19EqGR</td>\n",
       "      <td>DM</td>\n",
       "      <td>72</td>\n",
       "      <td>1</td>\n",
       "      <td>0</td>\n",
       "      <td>0</td>\n",
       "      <td>0.0178</td>\n",
       "      <td>-0.0178</td>\n",
       "      <td>-0.0178</td>\n",
       "      <td>1</td>\n",
       "      <td>0</td>\n",
       "      <td>0.1194</td>\n",
       "      <td>-0.1194</td>\n",
       "      <td>0.1373</td>\n",
       "      <td>0</td>\n",
       "      <td>0.0128</td>\n",
       "    </tr>\n",
       "    <tr>\n",
       "      <th>56</th>\n",
       "      <td>0Oq632k7Q6</td>\n",
       "      <td>Pk5LJVGNQO</td>\n",
       "      <td>jYQJ19EqGR</td>\n",
       "      <td>DM</td>\n",
       "      <td>21</td>\n",
       "      <td>0</td>\n",
       "      <td>0</td>\n",
       "      <td>0</td>\n",
       "      <td>0.0000</td>\n",
       "      <td>0.0000</td>\n",
       "      <td>0.0000</td>\n",
       "      <td>0</td>\n",
       "      <td>0</td>\n",
       "      <td>0.0000</td>\n",
       "      <td>0.0000</td>\n",
       "      <td>0.0000</td>\n",
       "      <td>0</td>\n",
       "      <td>0.0000</td>\n",
       "    </tr>\n",
       "    <tr>\n",
       "      <th>57</th>\n",
       "      <td>0Oq632k7Q6</td>\n",
       "      <td>raMyY882Md</td>\n",
       "      <td>jYQJ19EqGR</td>\n",
       "      <td>CM</td>\n",
       "      <td>11</td>\n",
       "      <td>0</td>\n",
       "      <td>0</td>\n",
       "      <td>0</td>\n",
       "      <td>0.0000</td>\n",
       "      <td>0.0000</td>\n",
       "      <td>0.0000</td>\n",
       "      <td>0</td>\n",
       "      <td>0</td>\n",
       "      <td>0.0000</td>\n",
       "      <td>0.0000</td>\n",
       "      <td>0.0000</td>\n",
       "      <td>0</td>\n",
       "      <td>0.0000</td>\n",
       "    </tr>\n",
       "    <tr>\n",
       "      <th>58</th>\n",
       "      <td>0Oq632k7Q6</td>\n",
       "      <td>wvq9G0KmMW</td>\n",
       "      <td>jYQJ19EqGR</td>\n",
       "      <td>CM</td>\n",
       "      <td>68</td>\n",
       "      <td>1</td>\n",
       "      <td>0</td>\n",
       "      <td>0</td>\n",
       "      <td>0.0325</td>\n",
       "      <td>-0.0325</td>\n",
       "      <td>-0.0325</td>\n",
       "      <td>0</td>\n",
       "      <td>0</td>\n",
       "      <td>0.0000</td>\n",
       "      <td>0.0000</td>\n",
       "      <td>0.0325</td>\n",
       "      <td>0</td>\n",
       "      <td>0.0196</td>\n",
       "    </tr>\n",
       "    <tr>\n",
       "      <th>59</th>\n",
       "      <td>0Oq632k7Q6</td>\n",
       "      <td>wvq9RmW1QW</td>\n",
       "      <td>jYQJ19EqGR</td>\n",
       "      <td>DM</td>\n",
       "      <td>96</td>\n",
       "      <td>0</td>\n",
       "      <td>0</td>\n",
       "      <td>0</td>\n",
       "      <td>0.0000</td>\n",
       "      <td>0.0000</td>\n",
       "      <td>0.0000</td>\n",
       "      <td>0</td>\n",
       "      <td>0</td>\n",
       "      <td>0.0000</td>\n",
       "      <td>0.0000</td>\n",
       "      <td>0.0000</td>\n",
       "      <td>0</td>\n",
       "      <td>0.0000</td>\n",
       "    </tr>\n",
       "    <tr>\n",
       "      <th>60</th>\n",
       "      <td>0Oq632k7Q6</td>\n",
       "      <td>XVqKBxVO50</td>\n",
       "      <td>jYQJ19EqGR</td>\n",
       "      <td>DM</td>\n",
       "      <td>73</td>\n",
       "      <td>0</td>\n",
       "      <td>0</td>\n",
       "      <td>0</td>\n",
       "      <td>0.0000</td>\n",
       "      <td>0.0000</td>\n",
       "      <td>0.0000</td>\n",
       "      <td>2</td>\n",
       "      <td>0</td>\n",
       "      <td>0.2379</td>\n",
       "      <td>-0.2379</td>\n",
       "      <td>0.2379</td>\n",
       "      <td>0</td>\n",
       "      <td>0.0000</td>\n",
       "    </tr>\n",
       "    <tr>\n",
       "      <th>62</th>\n",
       "      <td>0Oq632k7Q6</td>\n",
       "      <td>xW5pVBdYQg</td>\n",
       "      <td>jYQJ19EqGR</td>\n",
       "      <td>DM</td>\n",
       "      <td>48</td>\n",
       "      <td>0</td>\n",
       "      <td>0</td>\n",
       "      <td>0</td>\n",
       "      <td>0.0000</td>\n",
       "      <td>0.0000</td>\n",
       "      <td>0.0000</td>\n",
       "      <td>0</td>\n",
       "      <td>0</td>\n",
       "      <td>0.0000</td>\n",
       "      <td>0.0000</td>\n",
       "      <td>0.0000</td>\n",
       "      <td>0</td>\n",
       "      <td>0.0000</td>\n",
       "    </tr>\n",
       "    <tr>\n",
       "      <th>63</th>\n",
       "      <td>0Oq632k7Q6</td>\n",
       "      <td>zeQZyg3YqK</td>\n",
       "      <td>jYQJ19EqGR</td>\n",
       "      <td>CM</td>\n",
       "      <td>76</td>\n",
       "      <td>0</td>\n",
       "      <td>0</td>\n",
       "      <td>0</td>\n",
       "      <td>0.0000</td>\n",
       "      <td>0.0000</td>\n",
       "      <td>0.0000</td>\n",
       "      <td>0</td>\n",
       "      <td>0</td>\n",
       "      <td>0.0000</td>\n",
       "      <td>0.0000</td>\n",
       "      <td>0.0000</td>\n",
       "      <td>0</td>\n",
       "      <td>0.0000</td>\n",
       "    </tr>\n",
       "  </tbody>\n",
       "</table>\n",
       "</div>"
      ],
      "text/plain": [
       "     player_id     game_id     team_id general_position  minutes_played  \\\n",
       "1   0Oq632k7Q6  0Oq6BXX2q6  jYQJ19EqGR               FB              11   \n",
       "2   0Oq632k7Q6  0Oq6OArxQ6  jYQJ19EqGR               DM              12   \n",
       "4   0Oq632k7Q6  4JMAyJnYMK  pzeQZ6xQKw               CM              15   \n",
       "5   0Oq632k7Q6  7vQ7nmaGqD  jYQJ19EqGR               FB              38   \n",
       "6   0Oq632k7Q6  7vQ7nmJLqD  jYQJ19EqGR               FB              47   \n",
       "7   0Oq632k7Q6  7VqG8GdxQv  pzeQZ6xQKw               CM              91   \n",
       "9   0Oq632k7Q6  9vQ2B0GrQK  pzeQZ6xQKw               DM              10   \n",
       "10  0Oq632k7Q6  9Yqd3nrL5v  jYQJ19EqGR               CM              57   \n",
       "11  0Oq632k7Q6  9Yqd8B08qv  jYQJ19EqGR               DM              84   \n",
       "12  0Oq632k7Q6  9YqdZE4mMv  pzeQZ6xQKw               ST              16   \n",
       "13  0Oq632k7Q6  9z5kEJeYQA  pzeQZ6xQKw               DM              16   \n",
       "14  0Oq632k7Q6  9z5knraJMA  jYQJ19EqGR                W              41   \n",
       "17  0Oq632k7Q6  aDQ0r1Rv5E  jYQJ19EqGR               CM              28   \n",
       "18  0Oq632k7Q6  BLMvXYN8qx  jYQJ19EqGR               AM              22   \n",
       "19  0Oq632k7Q6  e7MzEPEjQr  pzeQZ6xQKw               CM              96   \n",
       "20  0Oq632k7Q6  EGMP0PaAMa  pzeQZ6xQKw               DM              50   \n",
       "21  0Oq632k7Q6  EGMPOx7jQa  jYQJ19EqGR               DM              15   \n",
       "22  0Oq632k7Q6  eV5DEEpRqK  jYQJ19EqGR               DM              19   \n",
       "23  0Oq632k7Q6  eV5DNGdmQK  jYQJ19EqGR                W              11   \n",
       "24  0Oq632k7Q6  eV5DrEmnQK  jYQJ19EqGR               DM              67   \n",
       "25  0Oq632k7Q6  eVq3gmjXqW  jYQJ19EqGR               CM             102   \n",
       "26  0Oq632k7Q6  eVq3WEgGqW  pzeQZ6xQKw               CM              89   \n",
       "28  0Oq632k7Q6  gjMNGER35K  jYQJ19EqGR               CM              62   \n",
       "29  0Oq632k7Q6  gOMn97nmQw  jYQJ19EqGR               ST              24   \n",
       "30  0Oq632k7Q6  gOMnXkveqw  jYQJ19EqGR               AM              25   \n",
       "31  0Oq632k7Q6  gOMnXkxeqw  jYQJ19EqGR               AM              16   \n",
       "32  0Oq632k7Q6  jYQJ0n3V5G  pzeQZ6xQKw               CM              28   \n",
       "33  0Oq632k7Q6  jYQJl9Kd5G  jYQJ19EqGR               CM              99   \n",
       "34  0Oq632k7Q6  KAqB7wbVQb  pzeQZ6xQKw               AM              20   \n",
       "35  0Oq632k7Q6  KAqB7wPAQb  jYQJ19EqGR               ST              13   \n",
       "36  0Oq632k7Q6  KAqBDEeAMb  jYQJ19EqGR               DM              47   \n",
       "37  0Oq632k7Q6  KAqBDEVmMb  jYQJ19EqGR               CM              63   \n",
       "38  0Oq632k7Q6  KPqjAnrN56  jYQJ19EqGR               CM              99   \n",
       "39  0Oq632k7Q6  KPqjYbj456  pzeQZ6xQKw               CM              75   \n",
       "41  0Oq632k7Q6  KXMeEAz2M6  pzeQZ6xQKw               CM              10   \n",
       "42  0Oq632k7Q6  KXMeYW06M6  jYQJ19EqGR               FB              33   \n",
       "43  0Oq632k7Q6  KXMeYWm1M6  jYQJ19EqGR               DM              29   \n",
       "44  0Oq632k7Q6  KXMeYWv2M6  jYQJ19EqGR               CM              65   \n",
       "45  0Oq632k7Q6  ljqEy68kqx  jYQJ19EqGR               CM              27   \n",
       "46  0Oq632k7Q6  N6MmX990QE  jYQJ19EqGR               CM              37   \n",
       "47  0Oq632k7Q6  N6MmX9Y0QE  jYQJ19EqGR               CM              88   \n",
       "48  0Oq632k7Q6  NPqxEkDZQ9  pzeQZ6xQKw               DM             105   \n",
       "49  0Oq632k7Q6  NWMW0r0N5l  pzeQZ6xQKw               CM              82   \n",
       "50  0Oq632k7Q6  Oa5waEBjQ1  jYQJ19EqGR               DM              49   \n",
       "51  0Oq632k7Q6  Oa5wXr4Xq1  jYQJ19EqGR               CM              22   \n",
       "52  0Oq632k7Q6  Oa5wXryXq1  jYQJ19EqGR               CM              82   \n",
       "53  0Oq632k7Q6  odMX9eOo5Y  jYQJ19EqGR               CM              97   \n",
       "54  0Oq632k7Q6  OlMloNwDQL  jYQJ19EqGR               CM              97   \n",
       "55  0Oq632k7Q6  p6qbJkOXq0  jYQJ19EqGR               DM              72   \n",
       "56  0Oq632k7Q6  Pk5LJVGNQO  jYQJ19EqGR               DM              21   \n",
       "57  0Oq632k7Q6  raMyY882Md  jYQJ19EqGR               CM              11   \n",
       "58  0Oq632k7Q6  wvq9G0KmMW  jYQJ19EqGR               CM              68   \n",
       "59  0Oq632k7Q6  wvq9RmW1QW  jYQJ19EqGR               DM              96   \n",
       "60  0Oq632k7Q6  XVqKBxVO50  jYQJ19EqGR               DM              73   \n",
       "62  0Oq632k7Q6  xW5pVBdYQg  jYQJ19EqGR               DM              48   \n",
       "63  0Oq632k7Q6  zeQZyg3YqK  jYQJ19EqGR               CM              76   \n",
       "\n",
       "    shots  shots_on_target  goals  xgoals  xplace  goals_minus_xgoals  \\\n",
       "1       0                0      0  0.0000  0.0000              0.0000   \n",
       "2       0                0      0  0.0000  0.0000              0.0000   \n",
       "4       0                0      0  0.0000  0.0000              0.0000   \n",
       "5       2                0      0  0.0521 -0.0521             -0.0521   \n",
       "6       1                0      0  0.1048 -0.1048             -0.1048   \n",
       "7       2                2      0  0.0706  0.4976             -0.0706   \n",
       "9       0                0      0  0.0000  0.0000              0.0000   \n",
       "10      0                0      0  0.0000  0.0000              0.0000   \n",
       "11      1                1      0  0.0299  0.0785             -0.0299   \n",
       "12      0                0      0  0.0000  0.0000              0.0000   \n",
       "13      0                0      0  0.0000  0.0000              0.0000   \n",
       "14      1                0      0  0.0383 -0.0383             -0.0383   \n",
       "17      1                0      0  0.0268 -0.0268             -0.0268   \n",
       "18      0                0      0  0.0000  0.0000              0.0000   \n",
       "19      1                0      0  0.0307 -0.0307             -0.0307   \n",
       "20      0                0      0  0.0000  0.0000              0.0000   \n",
       "21      0                0      0  0.0000  0.0000              0.0000   \n",
       "22      0                0      0  0.0000  0.0000              0.0000   \n",
       "23      0                0      0  0.0000  0.0000              0.0000   \n",
       "24      1                0      0  0.0225 -0.0225             -0.0225   \n",
       "25      1                0      0  0.0420 -0.0420             -0.0420   \n",
       "26      0                0      0  0.0000  0.0000              0.0000   \n",
       "28      0                0      0  0.0000  0.0000              0.0000   \n",
       "29      0                0      0  0.0000  0.0000              0.0000   \n",
       "30      0                0      0  0.0000  0.0000              0.0000   \n",
       "31      1                1      0  0.0283 -0.0139             -0.0283   \n",
       "32      0                0      0  0.0000  0.0000              0.0000   \n",
       "33      0                0      0  0.0000  0.0000              0.0000   \n",
       "34      0                0      0  0.0000  0.0000              0.0000   \n",
       "35      0                0      0  0.0000  0.0000              0.0000   \n",
       "36      0                0      0  0.0000  0.0000              0.0000   \n",
       "37      1                0      0  0.0210 -0.0210             -0.0210   \n",
       "38      1                1      0  0.0316 -0.0002             -0.0316   \n",
       "39      2                1      0  0.1082  0.5531             -0.1082   \n",
       "41      0                0      0  0.0000  0.0000              0.0000   \n",
       "42      0                0      0  0.0000  0.0000              0.0000   \n",
       "43      0                0      0  0.0000  0.0000              0.0000   \n",
       "44      1                0      0  0.0289 -0.0289             -0.0289   \n",
       "45      0                0      0  0.0000  0.0000              0.0000   \n",
       "46      0                0      0  0.0000  0.0000              0.0000   \n",
       "47      0                0      0  0.0000  0.0000              0.0000   \n",
       "48      0                0      0  0.0000  0.0000              0.0000   \n",
       "49      0                0      0  0.0000  0.0000              0.0000   \n",
       "50      0                0      0  0.0000  0.0000              0.0000   \n",
       "51      0                0      0  0.0000  0.0000              0.0000   \n",
       "52      1                0      0  0.0353 -0.0353             -0.0353   \n",
       "53      1                0      0  0.0298 -0.0298             -0.0298   \n",
       "54      0                0      0  0.0000  0.0000              0.0000   \n",
       "55      1                0      0  0.0178 -0.0178             -0.0178   \n",
       "56      0                0      0  0.0000  0.0000              0.0000   \n",
       "57      0                0      0  0.0000  0.0000              0.0000   \n",
       "58      1                0      0  0.0325 -0.0325             -0.0325   \n",
       "59      0                0      0  0.0000  0.0000              0.0000   \n",
       "60      0                0      0  0.0000  0.0000              0.0000   \n",
       "62      0                0      0  0.0000  0.0000              0.0000   \n",
       "63      0                0      0  0.0000  0.0000              0.0000   \n",
       "\n",
       "    key_passes  primary_assists  xassists  primary_assists_minus_xassists  \\\n",
       "1            0                0    0.0000                          0.0000   \n",
       "2            0                0    0.0000                          0.0000   \n",
       "4            1                0    0.2624                         -0.2624   \n",
       "5            1                0    0.0494                         -0.0494   \n",
       "6            1                0    0.0310                         -0.0310   \n",
       "7            2                0    0.1480                         -0.1480   \n",
       "9            0                0    0.0000                          0.0000   \n",
       "10           1                0    0.0465                         -0.0465   \n",
       "11           0                0    0.0000                          0.0000   \n",
       "12           0                0    0.0000                          0.0000   \n",
       "13           0                0    0.0000                          0.0000   \n",
       "14           0                0    0.0000                          0.0000   \n",
       "17           0                0    0.0000                          0.0000   \n",
       "18           0                0    0.0000                          0.0000   \n",
       "19           3                0    0.0741                         -0.0741   \n",
       "20           1                0    0.0297                         -0.0297   \n",
       "21           0                0    0.0000                          0.0000   \n",
       "22           0                0    0.0000                          0.0000   \n",
       "23           0                0    0.0000                          0.0000   \n",
       "24           0                0    0.0000                          0.0000   \n",
       "25           0                0    0.0000                          0.0000   \n",
       "26           1                0    0.0264                         -0.0264   \n",
       "28           0                0    0.0000                          0.0000   \n",
       "29           1                1    0.0571                          0.9429   \n",
       "30           0                0    0.0000                          0.0000   \n",
       "31           0                0    0.0000                          0.0000   \n",
       "32           0                0    0.0000                          0.0000   \n",
       "33           0                0    0.0000                          0.0000   \n",
       "34           0                0    0.0000                          0.0000   \n",
       "35           0                0    0.0000                          0.0000   \n",
       "36           1                0    0.0234                         -0.0234   \n",
       "37           0                0    0.0000                          0.0000   \n",
       "38           0                0    0.0000                          0.0000   \n",
       "39           0                0    0.0000                          0.0000   \n",
       "41           0                0    0.0000                          0.0000   \n",
       "42           0                0    0.0000                          0.0000   \n",
       "43           0                0    0.0000                          0.0000   \n",
       "44           5                0    0.4632                         -0.4632   \n",
       "45           0                0    0.0000                          0.0000   \n",
       "46           1                0    0.2149                         -0.2149   \n",
       "47           2                0    0.0591                         -0.0591   \n",
       "48           3                0    0.2506                         -0.2506   \n",
       "49           0                0    0.0000                          0.0000   \n",
       "50           1                0    0.0130                         -0.0130   \n",
       "51           1                0    0.0778                         -0.0778   \n",
       "52           1                0    0.0138                         -0.0138   \n",
       "53           0                0    0.0000                          0.0000   \n",
       "54           0                0    0.0000                          0.0000   \n",
       "55           1                0    0.1194                         -0.1194   \n",
       "56           0                0    0.0000                          0.0000   \n",
       "57           0                0    0.0000                          0.0000   \n",
       "58           0                0    0.0000                          0.0000   \n",
       "59           0                0    0.0000                          0.0000   \n",
       "60           2                0    0.2379                         -0.2379   \n",
       "62           0                0    0.0000                          0.0000   \n",
       "63           0                0    0.0000                          0.0000   \n",
       "\n",
       "    xgoals_plus_xassists  points_added  xpoints_added  \n",
       "1                 0.0000             0         0.0000  \n",
       "2                 0.0000             0         0.0000  \n",
       "4                 0.2624             0         0.0000  \n",
       "5                 0.1015             0         0.0475  \n",
       "6                 0.1358             0         0.1618  \n",
       "7                 0.2186             0         0.0505  \n",
       "9                 0.0000             0         0.0000  \n",
       "10                0.0465             0         0.0000  \n",
       "11                0.0299             0         0.0257  \n",
       "12                0.0000             0         0.0000  \n",
       "13                0.0000             0         0.0000  \n",
       "14                0.0383             0         0.0688  \n",
       "17                0.0268             0         0.0001  \n",
       "18                0.0000             0         0.0000  \n",
       "19                0.1047             0         0.0204  \n",
       "20                0.0297             0         0.0000  \n",
       "21                0.0000             0         0.0000  \n",
       "22                0.0000             0         0.0000  \n",
       "23                0.0000             0         0.0000  \n",
       "24                0.0225             0         0.0195  \n",
       "25                0.0420             0         0.0306  \n",
       "26                0.0264             0         0.0000  \n",
       "28                0.0000             0         0.0000  \n",
       "29                0.0571             0         0.0000  \n",
       "30                0.0000             0         0.0000  \n",
       "31                0.0283             0         0.0007  \n",
       "32                0.0000             0         0.0000  \n",
       "33                0.0000             0         0.0000  \n",
       "34                0.0000             0         0.0000  \n",
       "35                0.0000             0         0.0000  \n",
       "36                0.0234             0         0.0000  \n",
       "37                0.0210             0         0.0143  \n",
       "38                0.0316             0         0.0021  \n",
       "39                0.1082             0         0.0316  \n",
       "41                0.0000             0         0.0000  \n",
       "42                0.0000             0         0.0000  \n",
       "43                0.0000             0         0.0000  \n",
       "44                0.4920             0         0.0141  \n",
       "45                0.0000             0         0.0000  \n",
       "46                0.2149             0         0.0000  \n",
       "47                0.0591             0         0.0000  \n",
       "48                0.2506             0         0.0000  \n",
       "49                0.0000             0         0.0000  \n",
       "50                0.0130             0         0.0000  \n",
       "51                0.0778             0         0.0000  \n",
       "52                0.0491             0         0.0227  \n",
       "53                0.0298             0         0.0239  \n",
       "54                0.0000             0         0.0000  \n",
       "55                0.1373             0         0.0128  \n",
       "56                0.0000             0         0.0000  \n",
       "57                0.0000             0         0.0000  \n",
       "58                0.0325             0         0.0196  \n",
       "59                0.0000             0         0.0000  \n",
       "60                0.2379             0         0.0000  \n",
       "62                0.0000             0         0.0000  \n",
       "63                0.0000             0         0.0000  "
      ]
     },
     "execution_count": 227,
     "metadata": {},
     "output_type": "execute_result"
    }
   ],
   "source": [
    "player_xgoals"
   ]
  },
  {
   "cell_type": "code",
   "execution_count": 229,
   "id": "ce318ea3-af40-42e3-98ff-d874034476ec",
   "metadata": {},
   "outputs": [],
   "source": [
    "# adding the season name to the above dataset\n",
    "\n",
    "player_xgoals = pd.merge(player_xgoals, games, on='game_id', how='left')"
   ]
  },
  {
   "cell_type": "code",
   "execution_count": 230,
   "id": "2b837c90-236e-4cdf-bf88-0e68cca51879",
   "metadata": {},
   "outputs": [
    {
     "data": {
      "text/plain": [
       "Index(['player_id', 'game_id', 'team_id', 'general_position', 'minutes_played',\n",
       "       'shots', 'shots_on_target', 'goals', 'xgoals', 'xplace',\n",
       "       'goals_minus_xgoals', 'key_passes', 'primary_assists', 'xassists',\n",
       "       'primary_assists_minus_xassists', 'xgoals_plus_xassists',\n",
       "       'points_added', 'xpoints_added', 'date_time_utc', 'home_score',\n",
       "       'away_score', 'home_team_id', 'away_team_id', 'referee_id',\n",
       "       'stadium_id', 'home_manager_id', 'away_manager_id', 'expanded_minutes',\n",
       "       'season_name', 'matchday', 'attendance', 'knockout_game',\n",
       "       'last_updated_utc', 'extra_time', 'penalties', 'home_penalties',\n",
       "       'away_penalties'],\n",
       "      dtype='object')"
      ]
     },
     "execution_count": 230,
     "metadata": {},
     "output_type": "execute_result"
    }
   ],
   "source": [
    "player_xgoals.columns"
   ]
  },
  {
   "cell_type": "code",
   "execution_count": 235,
   "id": "baf22321-8499-4cb8-9cb3-6f0b6160a7dd",
   "metadata": {},
   "outputs": [],
   "source": [
    "temp1 = player_xgoals[['player_id','minutes_played', 'xgoals','season_name']].sort_values(by='season_name')"
   ]
  },
  {
   "cell_type": "code",
   "execution_count": 236,
   "id": "34a27a89-087e-463a-9817-835c8feed5e7",
   "metadata": {},
   "outputs": [],
   "source": [
    "## second player df"
   ]
  },
  {
   "cell_type": "code",
   "execution_count": 247,
   "id": "2175271b-20cd-415f-b63a-f207b8e0db89",
   "metadata": {},
   "outputs": [],
   "source": [
    "player2_xgoals = asa_client.get_player_xgoals(leagues = 'mls', player_ids = \"0Oq6lrerM6\", season_name=desired_range, split_by_games = True)"
   ]
  },
  {
   "cell_type": "code",
   "execution_count": 250,
   "id": "1d55a1d0-483e-46a3-943b-d2a487b65966",
   "metadata": {},
   "outputs": [],
   "source": [
    "condition2 = player2_xgoals['minutes_played']>=10"
   ]
  },
  {
   "cell_type": "code",
   "execution_count": 251,
   "id": "fda266a0-6b24-4339-af05-7a3483dd7092",
   "metadata": {},
   "outputs": [],
   "source": [
    "player2_xgoals=player2_xgoals[condition2]"
   ]
  },
  {
   "cell_type": "code",
   "execution_count": 252,
   "id": "b6c94b69-f97b-453f-8956-5ad44580a324",
   "metadata": {},
   "outputs": [],
   "source": [
    "player2_xgoals = pd.merge(player2_xgoals, games, on='game_id', how='left')"
   ]
  },
  {
   "cell_type": "code",
   "execution_count": 253,
   "id": "61493ad1-ac64-4534-b6d6-ae2e4631fa9c",
   "metadata": {},
   "outputs": [],
   "source": [
    "temp2 = player2_xgoals[['player_id','xgoals','season_name']].sort_values(by='season_name')"
   ]
  },
  {
   "cell_type": "code",
   "execution_count": 258,
   "id": "170d89ca-12fc-42f3-aca3-fb0c4f9fa54c",
   "metadata": {},
   "outputs": [
    {
     "data": {
      "text/plain": [
       "(96, 3)"
      ]
     },
     "execution_count": 258,
     "metadata": {},
     "output_type": "execute_result"
    }
   ],
   "source": [
    "temp2.shape"
   ]
  },
  {
   "cell_type": "code",
   "execution_count": 232,
   "id": "67c44c09-107e-4ac9-abfc-3209067aa638",
   "metadata": {},
   "outputs": [],
   "source": [
    "## function to provide the specific metric for each player as above "
   ]
  },
  {
   "cell_type": "code",
   "execution_count": 403,
   "id": "27c99783-cecf-4e92-9abc-2ff3123cdab2",
   "metadata": {},
   "outputs": [],
   "source": [
    "def filter_metric(players_df, games_df, client=asa_client, method='get_player_xgoals', start_season=2020, end_season=2023):\n",
    "    '''\n",
    "    returns df of player specific metric in the given season start to end ranges\n",
    "    returned df contains the metric and the season_name column\n",
    "    '''\n",
    "    desired_range = [str(yr) for yr in list(range(start_season, end_season+1))]\n",
    "    players_df = players_df[players_df['season_name'].apply(lambda seasons: set(seasons).issuperset(set(desired_range)))]    \n",
    "    \n",
    "    # getting the specific metric\n",
    "    player_id_list = list(players_df.player_id.unique())\n",
    "    \n",
    "    dfs = []\n",
    "    \n",
    "    # get the method based on the client and the method name specified as arguments\n",
    "    if hasattr(client, method):\n",
    "        func = getattr(client, method)\n",
    "    \n",
    "    # columns to keep based on provided method\n",
    "    \n",
    "    if method == 'get_player_xgoals':\n",
    "        columns_to_keep = ['player_id', 'minutes_played','xgoals', 'goals', 'season_name']\n",
    "    if method == 'get_player_xpass':\n",
    "        columns_to_keep = ['player_id', 'minutes_played', 'attempted_passes', 'pass_completion_percentage','season_name']\n",
    "    if method == 'get_player_goals_added' or method == 'get_goalkeeper_goals_added':\n",
    "        columns_to_keep = ['player_id', 'minutes_played', 'data', 'season_name']   \n",
    "    if method == 'get_goalkeeper_xgoals':\n",
    "        columns_to_keep = ['player_id', 'minutes_played', 'xgoals_gk_faced', 'saves', 'goals_conceded','season_name']         \n",
    "        \n",
    "    # iterate to get the dfs per player id\n",
    "    for player_id in tqdm(player_id_list):\n",
    "        print(f\"Getting the metrics for {player_id}\") \n",
    "        df = func(leagues = 'mls', player_ids = player_id, season_name=desired_range, split_by_games = True)\n",
    "        \n",
    "        # filter to meet minimum play time\n",
    "        df = df[df['minutes_played']>=10]\n",
    "        \n",
    "        # add season name to the df\n",
    "        df = pd.merge(df, games_df, on='game_id', how='left')\n",
    "        \n",
    "        # keep only wanted columns\n",
    "        df = df[columns_to_keep].sort_values(by='season_name')\n",
    "        \n",
    "        dfs.append(df)\n",
    "    \n",
    "    # concatenate and return result\n",
    "    df_concat = pd.concat(dfs, ignore_index=True)\n",
    "    \n",
    "    return df_concat"
   ]
  },
  {
   "cell_type": "code",
   "execution_count": null,
   "id": "7e44082d-db46-4aa8-9196-4d3488808135",
   "metadata": {},
   "outputs": [],
   "source": []
  },
  {
   "cell_type": "code",
   "execution_count": 309,
   "id": "a0ae234f-0c49-4159-a3a0-dfab883d9203",
   "metadata": {},
   "outputs": [
    {
     "name": "stderr",
     "output_type": "stream",
     "text": [
      "  6%|████▉                                                                             | 7/115 [00:00<00:01, 63.76it/s]"
     ]
    },
    {
     "name": "stdout",
     "output_type": "stream",
     "text": [
      "Getting the metrics for 0Oq632k7Q6\n",
      "Getting the metrics for 0Oq6lrerM6\n",
      "Getting the metrics for 0Oq6lyNdM6\n",
      "Getting the metrics for 0Oq6w947Q6\n",
      "Getting the metrics for 0Oq6wel7Q6\n",
      "Getting the metrics for 0Oq6wjlzQ6\n",
      "Getting the metrics for 0Oq6wv26Q6\n",
      "Getting the metrics for 0Oq6wxj6Q6\n",
      "Getting the metrics for 0x5gXlrq7O\n",
      "Getting the metrics for 2lqRk3lnQr\n",
      "Getting the metrics for 2lqRkYZnQr\n",
      "Getting the metrics for 2lqRkZXDQr\n",
      "Getting the metrics for 2lqRR4Rxqr\n",
      "Getting the metrics for 2lqRRvNxqr\n"
     ]
    },
    {
     "name": "stderr",
     "output_type": "stream",
     "text": [
      " 21%|████████████████▉                                                                | 24/115 [00:00<00:01, 74.99it/s]"
     ]
    },
    {
     "name": "stdout",
     "output_type": "stream",
     "text": [
      "Getting the metrics for 2lqRRZy2qr\n",
      "Getting the metrics for 2vQ14B6Kqr\n",
      "Getting the metrics for 2vQ1LYxbqr\n",
      "Getting the metrics for 2vQ1LYY0qr\n",
      "Getting the metrics for 2vQ1Nv7LMr\n",
      "Getting the metrics for 315VXoL7Q9\n",
      "Getting the metrics for 4JMA97YkMK\n",
      "Getting the metrics for 4JMAaaxkMK\n",
      "Getting the metrics for 4JMAoJgYqK\n",
      "Getting the metrics for 4wM42Belqj\n",
      "Getting the metrics for 7vQ73NxYQD\n",
      "Getting the metrics for 7vQ7BmAzqD\n",
      "Getting the metrics for 7vQ7BYdeqD\n",
      "Getting the metrics for 7vQ7rmxEqD\n",
      "Getting the metrics for 7vQ7rPpOqD\n",
      "Getting the metrics for 7vQ7rvNDqD\n",
      "Getting the metrics for 7VqGj3RA5v\n"
     ]
    },
    {
     "name": "stderr",
     "output_type": "stream",
     "text": [
      " 37%|██████████████████████████████▎                                                  | 43/115 [00:00<00:00, 82.56it/s]"
     ]
    },
    {
     "name": "stdout",
     "output_type": "stream",
     "text": [
      "Getting the metrics for 7VqGjBpz5v\n",
      "Getting the metrics for 9vQ22OOoQK\n",
      "Getting the metrics for 9vQ22pVaQK\n",
      "Getting the metrics for 9vQ2d3X75K\n",
      "Getting the metrics for 9vQ2dAKY5K\n",
      "Getting the metrics for a35rKZZwqL\n",
      "Getting the metrics for a35rlyZ4QL\n",
      "Getting the metrics for a35ryXO2ML\n",
      "Getting the metrics for aDQ0PjnGQE\n",
      "Getting the metrics for aDQ0PwXWQE\n",
      "Getting the metrics for BLMv1GlQxe\n",
      "Getting the metrics for BLMvlPy3qx\n",
      "Getting the metrics for e7Mz9DgGQr\n",
      "Getting the metrics for e7MzKKJ5r0\n",
      "Getting the metrics for EGMP1jAA5a\n",
      "Getting the metrics for eV5D9A9qKn\n",
      "Getting the metrics for eV5DLDVJ5K\n"
     ]
    },
    {
     "name": "stderr",
     "output_type": "stream",
     "text": [
      " 53%|██████████████████████████████████████████▉                                      | 61/115 [00:00<00:00, 82.24it/s]"
     ]
    },
    {
     "name": "stdout",
     "output_type": "stream",
     "text": [
      "Getting the metrics for eV5DLedE5K\n",
      "Getting the metrics for eVq3a0ZgMW\n",
      "Getting the metrics for eVq3a8XyMW\n",
      "Getting the metrics for eVq3apWvMW\n",
      "Getting the metrics for eVq3jYZv5W\n",
      "Getting the metrics for eVq3xk1VQW\n",
      "Getting the metrics for eVq3xXDDQW\n",
      "Getting the metrics for gjMNv7PpMK\n",
      "Getting the metrics for gjMNvjYvMK\n",
      "Getting the metrics for gOMn66nAMw\n",
      "Getting the metrics for gOMnR96lMw\n",
      "Getting the metrics for gOMnRPxXMw\n",
      "Getting the metrics for gOMnRxreMw\n",
      "Getting the metrics for gpMOa6zrqz\n",
      "Getting the metrics for gpMOoOpOMz\n",
      "Getting the metrics for gpMOyGlqzy\n",
      "Getting the metrics for jYQJOaZMGR\n"
     ]
    },
    {
     "name": "stderr",
     "output_type": "stream",
     "text": [
      " 70%|████████████████████████████████████████████████████████▎                        | 80/115 [00:00<00:00, 83.28it/s]"
     ]
    },
    {
     "name": "stdout",
     "output_type": "stream",
     "text": [
      "Getting the metrics for KAqB9KxB5b\n",
      "Getting the metrics for KAqBgZVQbg\n",
      "Getting the metrics for KAqBjWZBqb\n",
      "Getting the metrics for KPqj7jY4Q6\n",
      "Getting the metrics for KPqj7OVPQ6\n",
      "Getting the metrics for KPqjKWwPQ6\n",
      "Getting the metrics for KPqjodRYQ6\n",
      "Getting the metrics for KPqjodW4Q6\n",
      "Getting the metrics for KPqjzJ2q6v\n",
      "Getting the metrics for kRQa207YMK\n",
      "Getting the metrics for KXMe4l1Q64\n",
      "Getting the metrics for KXMe87ZPQ6\n",
      "Getting the metrics for KXMeAPkM64\n",
      "Getting the metrics for ljqE2EWkQx\n",
      "Getting the metrics for ljqE2PwVQx\n"
     ]
    },
    {
     "name": "stderr",
     "output_type": "stream",
     "text": [
      " 77%|██████████████████████████████████████████████████████████████▋                  | 89/115 [00:01<00:00, 80.86it/s]"
     ]
    },
    {
     "name": "stdout",
     "output_type": "stream",
     "text": [
      "Getting the metrics for ljqEjLaEQx\n",
      "Getting the metrics for NWMWeDYqlz\n",
      "Getting the metrics for NWMWlEAD5l\n",
      "Getting the metrics for NWMWlX6K5l\n",
      "Getting the metrics for Oa5wAK9WQ1\n",
      "Getting the metrics for Oa5wVgVYM1\n",
      "Getting the metrics for Oa5wVzeWM1\n",
      "Getting the metrics for Oa5wYKEXQ1\n",
      "Getting the metrics for p6qbenoB50\n",
      "Getting the metrics for p6qbeZ1p50\n",
      "Getting the metrics for p6qbOeRXQ0\n",
      "Getting the metrics for p6qbOkywQ0\n",
      "Getting the metrics for Pk5L1BXPqO\n",
      "Getting the metrics for Pk5Lgax7MO\n",
      "Getting the metrics for raMyAGEBMd\n"
     ]
    },
    {
     "name": "stderr",
     "output_type": "stream",
     "text": [
      " 93%|██████████████████████████████████████████████████████████████████████████▍     | 107/115 [00:01<00:00, 76.86it/s]"
     ]
    },
    {
     "name": "stdout",
     "output_type": "stream",
     "text": [
      "Getting the metrics for raMyAZR2Md\n",
      "Getting the metrics for raMyrZKR5d\n",
      "Getting the metrics for Vj58YwDDq8\n",
      "Getting the metrics for Vj58zZ2Q8n\n",
      "Getting the metrics for vzqo70PBqa\n",
      "Getting the metrics for vzqo78BJqa\n",
      "Getting the metrics for vzqorrRk5a\n",
      "Getting the metrics for wvq9bOBQWn\n",
      "Getting the metrics for wvq9p10l5W\n",
      "Getting the metrics for wvq9pBZm5W\n",
      "Getting the metrics for wvq9wYNMWn\n",
      "Getting the metrics for XVqKeBkKM0\n",
      "Getting the metrics for XVqKeYLNM0\n",
      "Getting the metrics for XVqKWAZBq0\n",
      "Getting the metrics for XVqKWZp2q0\n"
     ]
    },
    {
     "name": "stderr",
     "output_type": "stream",
     "text": [
      "100%|████████████████████████████████████████████████████████████████████████████████| 115/115 [00:01<00:00, 78.02it/s]"
     ]
    },
    {
     "name": "stdout",
     "output_type": "stream",
     "text": [
      "Getting the metrics for XVqKYp2DM0\n",
      "Getting the metrics for xW5prbllQg\n",
      "Getting the metrics for xW5prK4BQg\n",
      "Getting the metrics for zeQZJN9jQK\n",
      "Getting the metrics for zeQZJX6KQK\n"
     ]
    },
    {
     "name": "stderr",
     "output_type": "stream",
     "text": [
      "\n"
     ]
    }
   ],
   "source": [
    "temp = filter_metric(players_midfield, games, asa_client, 'get_player_xgoals', start_season=2020, end_season=2023)"
   ]
  },
  {
   "cell_type": "code",
   "execution_count": 310,
   "id": "3a5f0608-2415-43d0-ac87-ba328e273148",
   "metadata": {},
   "outputs": [
    {
     "data": {
      "text/html": [
       "<div>\n",
       "<style scoped>\n",
       "    .dataframe tbody tr th:only-of-type {\n",
       "        vertical-align: middle;\n",
       "    }\n",
       "\n",
       "    .dataframe tbody tr th {\n",
       "        vertical-align: top;\n",
       "    }\n",
       "\n",
       "    .dataframe thead th {\n",
       "        text-align: right;\n",
       "    }\n",
       "</style>\n",
       "<table border=\"1\" class=\"dataframe\">\n",
       "  <thead>\n",
       "    <tr style=\"text-align: right;\">\n",
       "      <th></th>\n",
       "      <th>player_id</th>\n",
       "      <th>minutes_played</th>\n",
       "      <th>xgoals</th>\n",
       "      <th>goals</th>\n",
       "      <th>season_name</th>\n",
       "    </tr>\n",
       "  </thead>\n",
       "  <tbody>\n",
       "    <tr>\n",
       "      <th>0</th>\n",
       "      <td>0Oq632k7Q6</td>\n",
       "      <td>19</td>\n",
       "      <td>0.0000</td>\n",
       "      <td>0</td>\n",
       "      <td>2020</td>\n",
       "    </tr>\n",
       "    <tr>\n",
       "      <th>1</th>\n",
       "      <td>0Oq632k7Q6</td>\n",
       "      <td>49</td>\n",
       "      <td>0.0000</td>\n",
       "      <td>0</td>\n",
       "      <td>2020</td>\n",
       "    </tr>\n",
       "    <tr>\n",
       "      <th>2</th>\n",
       "      <td>0Oq632k7Q6</td>\n",
       "      <td>16</td>\n",
       "      <td>0.0283</td>\n",
       "      <td>0</td>\n",
       "      <td>2021</td>\n",
       "    </tr>\n",
       "    <tr>\n",
       "      <th>3</th>\n",
       "      <td>0Oq632k7Q6</td>\n",
       "      <td>99</td>\n",
       "      <td>0.0316</td>\n",
       "      <td>0</td>\n",
       "      <td>2021</td>\n",
       "    </tr>\n",
       "    <tr>\n",
       "      <th>4</th>\n",
       "      <td>0Oq632k7Q6</td>\n",
       "      <td>33</td>\n",
       "      <td>0.0000</td>\n",
       "      <td>0</td>\n",
       "      <td>2021</td>\n",
       "    </tr>\n",
       "    <tr>\n",
       "      <th>...</th>\n",
       "      <td>...</td>\n",
       "      <td>...</td>\n",
       "      <td>...</td>\n",
       "      <td>...</td>\n",
       "      <td>...</td>\n",
       "    </tr>\n",
       "    <tr>\n",
       "      <th>10494</th>\n",
       "      <td>zeQZJX6KQK</td>\n",
       "      <td>11</td>\n",
       "      <td>0.0000</td>\n",
       "      <td>0</td>\n",
       "      <td>2023</td>\n",
       "    </tr>\n",
       "    <tr>\n",
       "      <th>10495</th>\n",
       "      <td>zeQZJX6KQK</td>\n",
       "      <td>10</td>\n",
       "      <td>0.0000</td>\n",
       "      <td>0</td>\n",
       "      <td>2023</td>\n",
       "    </tr>\n",
       "    <tr>\n",
       "      <th>10496</th>\n",
       "      <td>zeQZJX6KQK</td>\n",
       "      <td>46</td>\n",
       "      <td>0.0000</td>\n",
       "      <td>0</td>\n",
       "      <td>2023</td>\n",
       "    </tr>\n",
       "    <tr>\n",
       "      <th>10497</th>\n",
       "      <td>zeQZJX6KQK</td>\n",
       "      <td>61</td>\n",
       "      <td>0.0000</td>\n",
       "      <td>0</td>\n",
       "      <td>2023</td>\n",
       "    </tr>\n",
       "    <tr>\n",
       "      <th>10498</th>\n",
       "      <td>zeQZJX6KQK</td>\n",
       "      <td>16</td>\n",
       "      <td>0.0000</td>\n",
       "      <td>0</td>\n",
       "      <td>2023</td>\n",
       "    </tr>\n",
       "  </tbody>\n",
       "</table>\n",
       "<p>10499 rows × 5 columns</p>\n",
       "</div>"
      ],
      "text/plain": [
       "        player_id  minutes_played  xgoals  goals  season_name\n",
       "0      0Oq632k7Q6              19  0.0000      0         2020\n",
       "1      0Oq632k7Q6              49  0.0000      0         2020\n",
       "2      0Oq632k7Q6              16  0.0283      0         2021\n",
       "3      0Oq632k7Q6              99  0.0316      0         2021\n",
       "4      0Oq632k7Q6              33  0.0000      0         2021\n",
       "...           ...             ...     ...    ...          ...\n",
       "10494  zeQZJX6KQK              11  0.0000      0         2023\n",
       "10495  zeQZJX6KQK              10  0.0000      0         2023\n",
       "10496  zeQZJX6KQK              46  0.0000      0         2023\n",
       "10497  zeQZJX6KQK              61  0.0000      0         2023\n",
       "10498  zeQZJX6KQK              16  0.0000      0         2023\n",
       "\n",
       "[10499 rows x 5 columns]"
      ]
     },
     "execution_count": 310,
     "metadata": {},
     "output_type": "execute_result"
    }
   ],
   "source": [
    "temp"
   ]
  },
  {
   "cell_type": "markdown",
   "id": "d88ec992-3e48-43e2-a912-0d966e979214",
   "metadata": {},
   "source": [
    "### Discrimination ability of a metric within a season computation"
   ]
  },
  {
   "cell_type": "code",
   "execution_count": 404,
   "id": "35db3fbe-f4e1-41f1-9814-7e12a1501431",
   "metadata": {},
   "outputs": [],
   "source": [
    "# Discrimination - Most of the variability between player metrics reflects the true variation in player ability.\n",
    "# and not chance variation or noise from small sample sizes.\n",
    "\n",
    "# we compare the average intrinsic variability of a metric to the total between player variation in this metric.\n",
    "\n",
    "\n",
    "def discrimination_season(df, metric='xgoals', season = 2020):\n",
    "    ''' returns discrimination ability of the metric in the specified season''' \n",
    "    # Filter rows with non-null values in the specified column\n",
    "    data = df[['season_name', 'player_id', metric]].dropna(subset=[metric])\n",
    "    # Filter rows based on the specified season\n",
    "    data = data[data['season_name'] == season]\n",
    "    \n",
    "    # Calculate sample intra_variance and sample cross_variance\n",
    "    data['cross_variance'] = data[metric].var(ddof=1)\n",
    "    result_data = data.groupby('player_id').agg(\n",
    "        intra_variance=pd.NamedAgg(column=metric, aggfunc=lambda x: x.var(ddof=1)),\n",
    "        cross_variance=pd.NamedAgg(column='cross_variance', aggfunc='mean')\n",
    "    )\n",
    "    \n",
    "    # Calculate and return the discrimination score\n",
    "    return 1 - (result_data['intra_variance'].mean() / result_data['cross_variance'].mean())\n",
    "    \n",
    "    # return result_data"
   ]
  },
  {
   "cell_type": "code",
   "execution_count": 433,
   "id": "05527cce-a749-47db-8a8c-2ad460378d08",
   "metadata": {},
   "outputs": [],
   "source": [
    "samp_var = discrimination_season(temp, metric='xgoals', season = 2023)"
   ]
  },
  {
   "cell_type": "code",
   "execution_count": 434,
   "id": "88fe1397-2233-41f3-ac9e-2473d9e5ef8d",
   "metadata": {},
   "outputs": [
    {
     "data": {
      "text/plain": [
       "0.18161304268285272"
      ]
     },
     "execution_count": 434,
     "metadata": {},
     "output_type": "execute_result"
    }
   ],
   "source": [
    "samp_var"
   ]
  },
  {
   "cell_type": "markdown",
   "id": "9a424c07-55e5-45e2-8683-f8608f6a5219",
   "metadata": {},
   "source": [
    "## Stability"
   ]
  },
  {
   "cell_type": "code",
   "execution_count": 386,
   "id": "9646035f-b85b-4124-a947-ec7af1819c2e",
   "metadata": {},
   "outputs": [],
   "source": [
    "# Stability helps in understanding a player's metric across seasons\n",
    "# it could be used for future acquisitions. \n",
    "# If we have a stable metric we have more confidence that this year's performance will be predictive of next year's performance.\n",
    "# A metric can become unstable particularly if it is context dependent, (eg players performance varies due to team changes)\n",
    "# Or, if a player's skill set tends to change year to year.\n",
    "\n",
    "# We define stability as a metric which describes how much we expect a single player metric to vary over time after removing chanve variability.\n",
    "# The metric specifically targets the sensitivity of a metric to change in context or intrinsic player skill over time."
   ]
  },
  {
   "cell_type": "code",
   "execution_count": 440,
   "id": "e17d6e59-8ea6-40c4-8589-8610e20135bf",
   "metadata": {},
   "outputs": [],
   "source": [
    "def stability_scores(df, metric='xgoals'):\n",
    "    '''\n",
    "    returns the stability metric \n",
    "    '''\n",
    "    \n",
    "    btw_season_variance = df.groupby('player_id').agg(\n",
    "       bs_variance=pd.NamedAgg(column=metric, aggfunc=lambda x: x.var(ddof=1))\n",
    "    )['bs_variance'].mean()\n",
    "    \n",
    "    within_season_player_variance = df.groupby(['player_id', 'season_name']).agg(\n",
    "        wsp_variance=pd.NamedAgg(column=metric, aggfunc=lambda x: x.var(ddof=1))\n",
    "    )['wsp_variance'].mean()\n",
    "    \n",
    "    overall_variance = df[metric].var(ddof=1)\n",
    "    \n",
    "    stability = 1 - ((btw_season_variance - within_season_player_variance) / (overall_variance - within_season_player_variance))\n",
    "    \n",
    "    return stability\n",
    "        \n",
    "        "
   ]
  },
  {
   "cell_type": "code",
   "execution_count": 441,
   "id": "c051380b-ea09-432b-81af-184df6fc7182",
   "metadata": {},
   "outputs": [
    {
     "data": {
      "text/plain": [
       "0.6782845968515967"
      ]
     },
     "execution_count": 441,
     "metadata": {},
     "output_type": "execute_result"
    }
   ],
   "source": [
    "stability_scores(temp)"
   ]
  },
  {
   "cell_type": "code",
   "execution_count": null,
   "id": "6adc7ec1-d102-4d20-942a-3f874f1ffc83",
   "metadata": {},
   "outputs": [],
   "source": []
  },
  {
   "cell_type": "code",
   "execution_count": 395,
   "id": "105ad327-5a64-4ea0-a82e-0b4c677a9a53",
   "metadata": {},
   "outputs": [
    {
     "data": {
      "text/html": [
       "<div>\n",
       "<style scoped>\n",
       "    .dataframe tbody tr th:only-of-type {\n",
       "        vertical-align: middle;\n",
       "    }\n",
       "\n",
       "    .dataframe tbody tr th {\n",
       "        vertical-align: top;\n",
       "    }\n",
       "\n",
       "    .dataframe thead th {\n",
       "        text-align: right;\n",
       "    }\n",
       "</style>\n",
       "<table border=\"1\" class=\"dataframe\">\n",
       "  <thead>\n",
       "    <tr style=\"text-align: right;\">\n",
       "      <th></th>\n",
       "      <th>player_id</th>\n",
       "      <th>player_name</th>\n",
       "      <th>birth_date</th>\n",
       "      <th>nationality</th>\n",
       "      <th>primary_broad_position</th>\n",
       "      <th>primary_general_position</th>\n",
       "      <th>secondary_broad_position</th>\n",
       "      <th>secondary_general_position</th>\n",
       "      <th>season_name</th>\n",
       "      <th>height_ft</th>\n",
       "      <th>height_in</th>\n",
       "      <th>weight_lb</th>\n",
       "      <th>competition</th>\n",
       "    </tr>\n",
       "  </thead>\n",
       "  <tbody>\n",
       "    <tr>\n",
       "      <th>3279</th>\n",
       "      <td>vzqowm7qap</td>\n",
       "      <td>Lionel Messi</td>\n",
       "      <td>1987-06-24</td>\n",
       "      <td>Argentina</td>\n",
       "      <td>FW</td>\n",
       "      <td>ST</td>\n",
       "      <td>NaN</td>\n",
       "      <td>W</td>\n",
       "      <td>2023</td>\n",
       "      <td>5.0</td>\n",
       "      <td>7.0</td>\n",
       "      <td>159.0</td>\n",
       "      <td>mls</td>\n",
       "    </tr>\n",
       "  </tbody>\n",
       "</table>\n",
       "</div>"
      ],
      "text/plain": [
       "       player_id   player_name  birth_date nationality primary_broad_position  \\\n",
       "3279  vzqowm7qap  Lionel Messi  1987-06-24   Argentina                     FW   \n",
       "\n",
       "     primary_general_position secondary_broad_position  \\\n",
       "3279                       ST                      NaN   \n",
       "\n",
       "     secondary_general_position season_name  height_ft  height_in  weight_lb  \\\n",
       "3279                          W        2023        5.0        7.0      159.0   \n",
       "\n",
       "     competition  \n",
       "3279         mls  "
      ]
     },
     "execution_count": 395,
     "metadata": {},
     "output_type": "execute_result"
    }
   ],
   "source": [
    "players[players['player_name'] == 'Lionel Messi']\n",
    "\n",
    "vzqowm7qap"
   ]
  },
  {
   "cell_type": "code",
   "execution_count": null,
   "id": "4a896600-c5d4-4033-a87d-8caa657b4eae",
   "metadata": {},
   "outputs": [],
   "source": []
  },
  {
   "cell_type": "code",
   "execution_count": 398,
   "id": "1b3913ba-82c9-4d99-b013-041aa62cd98c",
   "metadata": {},
   "outputs": [],
   "source": [
    "player_xpass = asa_client.get_player_xpass(leagues ='mls', player_ids = 'vzqowm7qap', split_by_games = True)"
   ]
  },
  {
   "cell_type": "code",
   "execution_count": 399,
   "id": "78f8c603-9675-4972-ba6a-55827337c380",
   "metadata": {},
   "outputs": [
    {
     "data": {
      "text/plain": [
       "['player_id',\n",
       " 'game_id',\n",
       " 'team_id',\n",
       " 'general_position',\n",
       " 'minutes_played',\n",
       " 'attempted_passes',\n",
       " 'pass_completion_percentage',\n",
       " 'xpass_completion_percentage',\n",
       " 'passes_completed_over_expected',\n",
       " 'passes_completed_over_expected_p100',\n",
       " 'avg_distance_yds',\n",
       " 'avg_vertical_distance_yds',\n",
       " 'share_team_touches']"
      ]
     },
     "execution_count": 399,
     "metadata": {},
     "output_type": "execute_result"
    }
   ],
   "source": [
    "player_xpass.columns.to_list()"
   ]
  },
  {
   "cell_type": "code",
   "execution_count": 402,
   "id": "d371f494-7bc8-4ce8-96b6-275334e40b2c",
   "metadata": {},
   "outputs": [
    {
     "data": {
      "text/html": [
       "<div>\n",
       "<style scoped>\n",
       "    .dataframe tbody tr th:only-of-type {\n",
       "        vertical-align: middle;\n",
       "    }\n",
       "\n",
       "    .dataframe tbody tr th {\n",
       "        vertical-align: top;\n",
       "    }\n",
       "\n",
       "    .dataframe thead th {\n",
       "        text-align: right;\n",
       "    }\n",
       "</style>\n",
       "<table border=\"1\" class=\"dataframe\">\n",
       "  <thead>\n",
       "    <tr style=\"text-align: right;\">\n",
       "      <th></th>\n",
       "      <th>player_id</th>\n",
       "      <th>game_id</th>\n",
       "      <th>team_id</th>\n",
       "      <th>general_position</th>\n",
       "      <th>minutes_played</th>\n",
       "      <th>attempted_passes</th>\n",
       "      <th>pass_completion_percentage</th>\n",
       "      <th>xpass_completion_percentage</th>\n",
       "      <th>passes_completed_over_expected</th>\n",
       "      <th>passes_completed_over_expected_p100</th>\n",
       "      <th>avg_distance_yds</th>\n",
       "      <th>avg_vertical_distance_yds</th>\n",
       "      <th>share_team_touches</th>\n",
       "    </tr>\n",
       "  </thead>\n",
       "  <tbody>\n",
       "    <tr>\n",
       "      <th>0</th>\n",
       "      <td>vzqowm7qap</td>\n",
       "      <td>0Oq6607zq6</td>\n",
       "      <td>zeQZkL1MKw</td>\n",
       "      <td>AM</td>\n",
       "      <td>102</td>\n",
       "      <td>70</td>\n",
       "      <td>0.7429</td>\n",
       "      <td>0.7328</td>\n",
       "      <td>0.7021</td>\n",
       "      <td>1.0030</td>\n",
       "      <td>17.8246</td>\n",
       "      <td>6.1974</td>\n",
       "      <td>0.1092</td>\n",
       "    </tr>\n",
       "    <tr>\n",
       "      <th>1</th>\n",
       "      <td>vzqowm7qap</td>\n",
       "      <td>0x5gEZrjQ7</td>\n",
       "      <td>zeQZkL1MKw</td>\n",
       "      <td>CB</td>\n",
       "      <td>41</td>\n",
       "      <td>20</td>\n",
       "      <td>0.7000</td>\n",
       "      <td>0.7489</td>\n",
       "      <td>-0.9779</td>\n",
       "      <td>-4.8895</td>\n",
       "      <td>16.0699</td>\n",
       "      <td>8.5618</td>\n",
       "      <td>0.0497</td>\n",
       "    </tr>\n",
       "    <tr>\n",
       "      <th>2</th>\n",
       "      <td>vzqowm7qap</td>\n",
       "      <td>gjMNAk04QK</td>\n",
       "      <td>zeQZkL1MKw</td>\n",
       "      <td>W</td>\n",
       "      <td>97</td>\n",
       "      <td>46</td>\n",
       "      <td>0.7391</td>\n",
       "      <td>0.7738</td>\n",
       "      <td>-1.5965</td>\n",
       "      <td>-3.4707</td>\n",
       "      <td>19.1503</td>\n",
       "      <td>4.9709</td>\n",
       "      <td>0.0796</td>\n",
       "    </tr>\n",
       "    <tr>\n",
       "      <th>3</th>\n",
       "      <td>vzqowm7qap</td>\n",
       "      <td>gOMnEB4JQw</td>\n",
       "      <td>zeQZkL1MKw</td>\n",
       "      <td>ST</td>\n",
       "      <td>34</td>\n",
       "      <td>18</td>\n",
       "      <td>0.6667</td>\n",
       "      <td>0.6663</td>\n",
       "      <td>0.0068</td>\n",
       "      <td>0.0377</td>\n",
       "      <td>19.6895</td>\n",
       "      <td>8.5828</td>\n",
       "      <td>0.0365</td>\n",
       "    </tr>\n",
       "    <tr>\n",
       "      <th>4</th>\n",
       "      <td>vzqowm7qap</td>\n",
       "      <td>gpMO0VR75z</td>\n",
       "      <td>zeQZkL1MKw</td>\n",
       "      <td>ST</td>\n",
       "      <td>37</td>\n",
       "      <td>19</td>\n",
       "      <td>0.7368</td>\n",
       "      <td>0.8155</td>\n",
       "      <td>-1.4947</td>\n",
       "      <td>-7.8667</td>\n",
       "      <td>15.1092</td>\n",
       "      <td>3.7292</td>\n",
       "      <td>0.0354</td>\n",
       "    </tr>\n",
       "    <tr>\n",
       "      <th>5</th>\n",
       "      <td>vzqowm7qap</td>\n",
       "      <td>odMX0jroMY</td>\n",
       "      <td>zeQZkL1MKw</td>\n",
       "      <td>ST</td>\n",
       "      <td>98</td>\n",
       "      <td>41</td>\n",
       "      <td>0.8780</td>\n",
       "      <td>0.8288</td>\n",
       "      <td>2.0181</td>\n",
       "      <td>4.9223</td>\n",
       "      <td>17.8723</td>\n",
       "      <td>5.3542</td>\n",
       "      <td>0.0911</td>\n",
       "    </tr>\n",
       "  </tbody>\n",
       "</table>\n",
       "</div>"
      ],
      "text/plain": [
       "    player_id     game_id     team_id general_position  minutes_played  \\\n",
       "0  vzqowm7qap  0Oq6607zq6  zeQZkL1MKw               AM             102   \n",
       "1  vzqowm7qap  0x5gEZrjQ7  zeQZkL1MKw               CB              41   \n",
       "2  vzqowm7qap  gjMNAk04QK  zeQZkL1MKw                W              97   \n",
       "3  vzqowm7qap  gOMnEB4JQw  zeQZkL1MKw               ST              34   \n",
       "4  vzqowm7qap  gpMO0VR75z  zeQZkL1MKw               ST              37   \n",
       "5  vzqowm7qap  odMX0jroMY  zeQZkL1MKw               ST              98   \n",
       "\n",
       "   attempted_passes  pass_completion_percentage  xpass_completion_percentage  \\\n",
       "0                70                      0.7429                       0.7328   \n",
       "1                20                      0.7000                       0.7489   \n",
       "2                46                      0.7391                       0.7738   \n",
       "3                18                      0.6667                       0.6663   \n",
       "4                19                      0.7368                       0.8155   \n",
       "5                41                      0.8780                       0.8288   \n",
       "\n",
       "   passes_completed_over_expected  passes_completed_over_expected_p100  \\\n",
       "0                          0.7021                               1.0030   \n",
       "1                         -0.9779                              -4.8895   \n",
       "2                         -1.5965                              -3.4707   \n",
       "3                          0.0068                               0.0377   \n",
       "4                         -1.4947                              -7.8667   \n",
       "5                          2.0181                               4.9223   \n",
       "\n",
       "   avg_distance_yds  avg_vertical_distance_yds  share_team_touches  \n",
       "0           17.8246                     6.1974              0.1092  \n",
       "1           16.0699                     8.5618              0.0497  \n",
       "2           19.1503                     4.9709              0.0796  \n",
       "3           19.6895                     8.5828              0.0365  \n",
       "4           15.1092                     3.7292              0.0354  \n",
       "5           17.8723                     5.3542              0.0911  "
      ]
     },
     "execution_count": 402,
     "metadata": {},
     "output_type": "execute_result"
    }
   ],
   "source": [
    "player_xpass"
   ]
  },
  {
   "cell_type": "code",
   "execution_count": 280,
   "id": "fba53d53-4da7-47a7-9c7a-6cfe263b8779",
   "metadata": {},
   "outputs": [
    {
     "ename": "HTTPError",
     "evalue": "524 Server Error:  for url: https://app.americansocceranalysis.com/api/v1/mls/players/goals-added?split_by_games=True",
     "output_type": "error",
     "traceback": [
      "\u001b[1;31m---------------------------------------------------------------------------\u001b[0m",
      "\u001b[1;31mHTTPError\u001b[0m                                 Traceback (most recent call last)",
      "Cell \u001b[1;32mIn[280], line 1\u001b[0m\n\u001b[1;32m----> 1\u001b[0m player_goals_added \u001b[38;5;241m=\u001b[39m \u001b[43masa_client\u001b[49m\u001b[38;5;241;43m.\u001b[39;49m\u001b[43mget_player_goals_added\u001b[49m\u001b[43m(\u001b[49m\u001b[43mleagues\u001b[49m\u001b[38;5;241;43m=\u001b[39;49m\u001b[38;5;124;43m'\u001b[39;49m\u001b[38;5;124;43mmls\u001b[39;49m\u001b[38;5;124;43m'\u001b[39;49m\u001b[43m,\u001b[49m\u001b[43m \u001b[49m\u001b[43msplit_by_games\u001b[49m\u001b[43m \u001b[49m\u001b[38;5;241;43m=\u001b[39;49m\u001b[43m \u001b[49m\u001b[38;5;28;43;01mTrue\u001b[39;49;00m\u001b[43m)\u001b[49m\n",
      "File \u001b[1;32m~\\miniconda3\\envs\\asa\\lib\\site-packages\\itscalledsoccer\\client.py:557\u001b[0m, in \u001b[0;36mAmericanSoccerAnalysis.get_player_goals_added\u001b[1;34m(self, leagues, **kwargs)\u001b[0m\n\u001b[0;32m    534\u001b[0m \u001b[38;5;28;01mdef\u001b[39;00m \u001b[38;5;21mget_player_goals_added\u001b[39m(\n\u001b[0;32m    535\u001b[0m     \u001b[38;5;28mself\u001b[39m, leagues: Union[\u001b[38;5;28mstr\u001b[39m, List[\u001b[38;5;28mstr\u001b[39m]] \u001b[38;5;241m=\u001b[39m LEAGUES, \u001b[38;5;241m*\u001b[39m\u001b[38;5;241m*\u001b[39mkwargs\n\u001b[0;32m    536\u001b[0m ) \u001b[38;5;241m-\u001b[39m\u001b[38;5;241m>\u001b[39m pd\u001b[38;5;241m.\u001b[39mDataFrame:\n\u001b[0;32m    537\u001b[0m \u001b[38;5;250m    \u001b[39m\u001b[38;5;124;03m\"\"\"Retrieves a data frame containing player g+ data meeting the specified conditions.\u001b[39;00m\n\u001b[0;32m    538\u001b[0m \u001b[38;5;124;03m    :param leagues: League(s) on which to filter. Accepts a string or list of strings.\u001b[39;00m\n\u001b[0;32m    539\u001b[0m \u001b[38;5;124;03m    :param kwargs: The following arguments will be parsed:\u001b[39;00m\n\u001b[1;32m   (...)\u001b[0m\n\u001b[0;32m    555\u001b[0m \u001b[38;5;124;03m    :returns: Dataframe\u001b[39;00m\n\u001b[0;32m    556\u001b[0m \u001b[38;5;124;03m    \"\"\"\u001b[39;00m\n\u001b[1;32m--> 557\u001b[0m     player_goals_added \u001b[38;5;241m=\u001b[39m \u001b[38;5;28mself\u001b[39m\u001b[38;5;241m.\u001b[39m_get_stats(\n\u001b[0;32m    558\u001b[0m         leagues, \u001b[38;5;28mtype\u001b[39m\u001b[38;5;241m=\u001b[39m\u001b[38;5;124m\"\u001b[39m\u001b[38;5;124mgoals-added\u001b[39m\u001b[38;5;124m\"\u001b[39m, entity\u001b[38;5;241m=\u001b[39m\u001b[38;5;124m\"\u001b[39m\u001b[38;5;124mplayers\u001b[39m\u001b[38;5;124m\"\u001b[39m, \u001b[38;5;241m*\u001b[39m\u001b[38;5;241m*\u001b[39mkwargs\n\u001b[0;32m    559\u001b[0m     )\n\u001b[0;32m    560\u001b[0m     \u001b[38;5;28;01mreturn\u001b[39;00m player_goals_added\n",
      "File \u001b[1;32m~\\miniconda3\\envs\\asa\\lib\\site-packages\\itscalledsoccer\\client.py:332\u001b[0m, in \u001b[0;36mAmericanSoccerAnalysis._get_stats\u001b[1;34m(self, leagues, type, entity, **kwargs)\u001b[0m\n\u001b[0;32m    330\u001b[0m \u001b[38;5;28;01mif\u001b[39;00m \u001b[38;5;28misinstance\u001b[39m(leagues, \u001b[38;5;28mstr\u001b[39m):\n\u001b[0;32m    331\u001b[0m     url \u001b[38;5;241m=\u001b[39m \u001b[38;5;124mf\u001b[39m\u001b[38;5;124m\"\u001b[39m\u001b[38;5;132;01m{\u001b[39;00m\u001b[38;5;28mself\u001b[39m\u001b[38;5;241m.\u001b[39mbase_url\u001b[38;5;132;01m}\u001b[39;00m\u001b[38;5;132;01m{\u001b[39;00mleagues\u001b[38;5;132;01m}\u001b[39;00m\u001b[38;5;124m/\u001b[39m\u001b[38;5;132;01m{\u001b[39;00mentity\u001b[38;5;132;01m}\u001b[39;00m\u001b[38;5;124m/\u001b[39m\u001b[38;5;132;01m{\u001b[39;00m\u001b[38;5;28mtype\u001b[39m\u001b[38;5;132;01m}\u001b[39;00m\u001b[38;5;124m\"\u001b[39m\n\u001b[1;32m--> 332\u001b[0m     response \u001b[38;5;241m=\u001b[39m \u001b[38;5;28;43mself\u001b[39;49m\u001b[38;5;241;43m.\u001b[39;49m\u001b[43m_execute_query\u001b[49m\u001b[43m(\u001b[49m\u001b[43murl\u001b[49m\u001b[43m,\u001b[49m\u001b[43m \u001b[49m\u001b[43mkwargs\u001b[49m\u001b[43m)\u001b[49m\n\u001b[0;32m    334\u001b[0m     stats \u001b[38;5;241m=\u001b[39m response\n\u001b[0;32m    335\u001b[0m \u001b[38;5;28;01melif\u001b[39;00m \u001b[38;5;28misinstance\u001b[39m(leagues, \u001b[38;5;28mlist\u001b[39m):\n",
      "File \u001b[1;32m~\\miniconda3\\envs\\asa\\lib\\site-packages\\itscalledsoccer\\client.py:243\u001b[0m, in \u001b[0;36mAmericanSoccerAnalysis._execute_query\u001b[1;34m(self, url, params)\u001b[0m\n\u001b[0;32m    240\u001b[0m     \u001b[38;5;28;01mif\u001b[39;00m \u001b[38;5;28misinstance\u001b[39m(v, \u001b[38;5;28mlist\u001b[39m):\n\u001b[0;32m    241\u001b[0m         params[k] \u001b[38;5;241m=\u001b[39m \u001b[38;5;124m\"\u001b[39m\u001b[38;5;124m,\u001b[39m\u001b[38;5;124m\"\u001b[39m\u001b[38;5;241m.\u001b[39mjoin(v)\n\u001b[1;32m--> 243\u001b[0m temp_response \u001b[38;5;241m=\u001b[39m \u001b[38;5;28;43mself\u001b[39;49m\u001b[38;5;241;43m.\u001b[39;49m\u001b[43m_single_request\u001b[49m\u001b[43m(\u001b[49m\u001b[43murl\u001b[49m\u001b[43m,\u001b[49m\u001b[43m \u001b[49m\u001b[43mparams\u001b[49m\u001b[43m)\u001b[49m\n\u001b[0;32m    244\u001b[0m response \u001b[38;5;241m=\u001b[39m temp_response\n\u001b[0;32m    246\u001b[0m \u001b[38;5;28;01mif\u001b[39;00m \u001b[38;5;28misinstance\u001b[39m(response, pd\u001b[38;5;241m.\u001b[39mDataFrame):\n",
      "File \u001b[1;32m~\\miniconda3\\envs\\asa\\lib\\site-packages\\itscalledsoccer\\client.py:267\u001b[0m, in \u001b[0;36mAmericanSoccerAnalysis._single_request\u001b[1;34m(self, url, params)\u001b[0m\n\u001b[0;32m    260\u001b[0m \u001b[38;5;250m\u001b[39m\u001b[38;5;124;03m\"\"\"Handles single call to the API\u001b[39;00m\n\u001b[0;32m    261\u001b[0m \n\u001b[0;32m    262\u001b[0m \u001b[38;5;124;03m:param url: the API endpoint to call\u001b[39;00m\n\u001b[0;32m    263\u001b[0m \u001b[38;5;124;03m:param params: URL query strings\u001b[39;00m\n\u001b[0;32m    264\u001b[0m \u001b[38;5;124;03m:returns: Dataframe\u001b[39;00m\n\u001b[0;32m    265\u001b[0m \u001b[38;5;124;03m\"\"\"\u001b[39;00m\n\u001b[0;32m    266\u001b[0m response \u001b[38;5;241m=\u001b[39m \u001b[38;5;28mself\u001b[39m\u001b[38;5;241m.\u001b[39msession\u001b[38;5;241m.\u001b[39mget(url\u001b[38;5;241m=\u001b[39murl, params\u001b[38;5;241m=\u001b[39mparams)\n\u001b[1;32m--> 267\u001b[0m \u001b[43mresponse\u001b[49m\u001b[38;5;241;43m.\u001b[39;49m\u001b[43mraise_for_status\u001b[49m\u001b[43m(\u001b[49m\u001b[43m)\u001b[49m\n\u001b[0;32m    268\u001b[0m resp_df \u001b[38;5;241m=\u001b[39m pd\u001b[38;5;241m.\u001b[39mread_json(json\u001b[38;5;241m.\u001b[39mdumps(response\u001b[38;5;241m.\u001b[39mjson()))\n\u001b[0;32m    269\u001b[0m \u001b[38;5;28;01mreturn\u001b[39;00m resp_df\n",
      "File \u001b[1;32m~\\miniconda3\\envs\\asa\\lib\\site-packages\\requests\\models.py:1021\u001b[0m, in \u001b[0;36mResponse.raise_for_status\u001b[1;34m(self)\u001b[0m\n\u001b[0;32m   1016\u001b[0m     http_error_msg \u001b[38;5;241m=\u001b[39m (\n\u001b[0;32m   1017\u001b[0m         \u001b[38;5;124mf\u001b[39m\u001b[38;5;124m\"\u001b[39m\u001b[38;5;132;01m{\u001b[39;00m\u001b[38;5;28mself\u001b[39m\u001b[38;5;241m.\u001b[39mstatus_code\u001b[38;5;132;01m}\u001b[39;00m\u001b[38;5;124m Server Error: \u001b[39m\u001b[38;5;132;01m{\u001b[39;00mreason\u001b[38;5;132;01m}\u001b[39;00m\u001b[38;5;124m for url: \u001b[39m\u001b[38;5;132;01m{\u001b[39;00m\u001b[38;5;28mself\u001b[39m\u001b[38;5;241m.\u001b[39murl\u001b[38;5;132;01m}\u001b[39;00m\u001b[38;5;124m\"\u001b[39m\n\u001b[0;32m   1018\u001b[0m     )\n\u001b[0;32m   1020\u001b[0m \u001b[38;5;28;01mif\u001b[39;00m http_error_msg:\n\u001b[1;32m-> 1021\u001b[0m     \u001b[38;5;28;01mraise\u001b[39;00m HTTPError(http_error_msg, response\u001b[38;5;241m=\u001b[39m\u001b[38;5;28mself\u001b[39m)\n",
      "\u001b[1;31mHTTPError\u001b[0m: 524 Server Error:  for url: https://app.americansocceranalysis.com/api/v1/mls/players/goals-added?split_by_games=True"
     ]
    }
   ],
   "source": [
    "player_goals_added = asa_client.get_player_goals_added(leagues='mls', split_by_games = True)"
   ]
  },
  {
   "cell_type": "code",
   "execution_count": 21,
   "id": "05d9b6be-4990-456c-86a3-e021f1493a80",
   "metadata": {},
   "outputs": [
    {
     "data": {
      "text/plain": [
       "['player_id', 'team_id', 'general_position', 'minutes_played', 'data']"
      ]
     },
     "execution_count": 21,
     "metadata": {},
     "output_type": "execute_result"
    }
   ],
   "source": [
    "player_goals_added.columns.to_list()"
   ]
  },
  {
   "cell_type": "code",
   "execution_count": 22,
   "id": "909ecd86-c192-41ee-b9ba-39c0441e399e",
   "metadata": {},
   "outputs": [
    {
     "data": {
      "text/plain": [
       "0       [{'action_type': 'Dribbling', 'goals_added_raw...\n",
       "1       [{'action_type': 'Dribbling', 'goals_added_raw...\n",
       "2       [{'action_type': 'Dribbling', 'goals_added_raw...\n",
       "3       [{'action_type': 'Dribbling', 'goals_added_raw...\n",
       "4       [{'action_type': 'Dribbling', 'goals_added_raw...\n",
       "                              ...                        \n",
       "2198    [{'action_type': 'Dribbling', 'goals_added_raw...\n",
       "2199    [{'action_type': 'Dribbling', 'goals_added_raw...\n",
       "2200    [{'action_type': 'Dribbling', 'goals_added_raw...\n",
       "2201    [{'action_type': 'Dribbling', 'goals_added_raw...\n",
       "2202    [{'action_type': 'Dribbling', 'goals_added_raw...\n",
       "Name: data, Length: 2203, dtype: object"
      ]
     },
     "execution_count": 22,
     "metadata": {},
     "output_type": "execute_result"
    }
   ],
   "source": [
    "player_goals_added['data']"
   ]
  },
  {
   "cell_type": "code",
   "execution_count": null,
   "id": "2bb49b13-686d-4488-a1b7-e0069a0c1157",
   "metadata": {},
   "outputs": [],
   "source": []
  },
  {
   "cell_type": "code",
   "execution_count": 23,
   "id": "bddd08e7-7d52-4a83-b5e2-c042119650b9",
   "metadata": {},
   "outputs": [],
   "source": [
    "player_salaries = asa_client.get_player_salaries(leagues='mls')"
   ]
  },
  {
   "cell_type": "code",
   "execution_count": 24,
   "id": "1faa8bfa-a097-484d-ab34-80360a0bddda",
   "metadata": {},
   "outputs": [
    {
     "data": {
      "text/plain": [
       "['player_id',\n",
       " 'team_id',\n",
       " 'season_name',\n",
       " 'position',\n",
       " 'base_salary',\n",
       " 'guaranteed_compensation',\n",
       " 'mlspa_release']"
      ]
     },
     "execution_count": 24,
     "metadata": {},
     "output_type": "execute_result"
    }
   ],
   "source": [
    "player_salaries.columns.to_list()"
   ]
  },
  {
   "cell_type": "code",
   "execution_count": null,
   "id": "0d706864-790d-480f-9cf4-fa1a3f94c367",
   "metadata": {},
   "outputs": [],
   "source": []
  },
  {
   "cell_type": "code",
   "execution_count": null,
   "id": "31678613-6747-4a58-ab9d-532b1eca1e70",
   "metadata": {},
   "outputs": [],
   "source": [
    "gk_xgoals = asa_client.get_goalkeeper_xgoals(leagues='mls', split_by_games = True)"
   ]
  },
  {
   "cell_type": "code",
   "execution_count": 26,
   "id": "4a7f94b7-ceb2-4a55-a87f-7e4f6b400bc6",
   "metadata": {},
   "outputs": [
    {
     "data": {
      "text/plain": [
       "['player_id',\n",
       " 'team_id',\n",
       " 'minutes_played',\n",
       " 'shots_faced',\n",
       " 'goals_conceded',\n",
       " 'saves',\n",
       " 'share_headed_shots',\n",
       " 'xgoals_gk_faced',\n",
       " 'goals_minus_xgoals_gk',\n",
       " 'goals_divided_by_xgoals_gk']"
      ]
     },
     "execution_count": 26,
     "metadata": {},
     "output_type": "execute_result"
    }
   ],
   "source": [
    "gk_xgoals.columns.to_list()"
   ]
  },
  {
   "cell_type": "code",
   "execution_count": null,
   "id": "1ee5b086-c5cd-4006-ace8-af982bd5d6f3",
   "metadata": {},
   "outputs": [],
   "source": []
  },
  {
   "cell_type": "code",
   "execution_count": 27,
   "id": "ee9e1de0-9952-4ccc-8b93-7a9622023be2",
   "metadata": {},
   "outputs": [],
   "source": [
    "gk_goals_added = asa_client.get_goalkeeper_goals_added(leagues='mls')"
   ]
  },
  {
   "cell_type": "code",
   "execution_count": 28,
   "id": "0dfc7164-d168-4154-9865-b8c7de5fb8c2",
   "metadata": {},
   "outputs": [
    {
     "data": {
      "text/plain": [
       "['player_id', 'team_id', 'minutes_played', 'data']"
      ]
     },
     "execution_count": 28,
     "metadata": {},
     "output_type": "execute_result"
    }
   ],
   "source": [
    "gk_goals_added.columns.to_list()"
   ]
  },
  {
   "cell_type": "code",
   "execution_count": null,
   "id": "cff3b7db-7112-482c-b7dd-3754747f195a",
   "metadata": {},
   "outputs": [],
   "source": []
  },
  {
   "cell_type": "code",
   "execution_count": 29,
   "id": "c752f345-863a-4e61-acfc-536926fcfdd6",
   "metadata": {},
   "outputs": [],
   "source": [
    "team_xgoals = asa_client.get_team_xgoals(leagues='mls')"
   ]
  },
  {
   "cell_type": "code",
   "execution_count": 30,
   "id": "a1f48e75-4166-4f5a-8138-010108e0281b",
   "metadata": {},
   "outputs": [
    {
     "data": {
      "text/plain": [
       "['team_id',\n",
       " 'count_games',\n",
       " 'shots_for',\n",
       " 'shots_against',\n",
       " 'goals_for',\n",
       " 'goals_against',\n",
       " 'goal_difference',\n",
       " 'xgoals_for',\n",
       " 'xgoals_against',\n",
       " 'xgoal_difference',\n",
       " 'goal_difference_minus_xgoal_difference',\n",
       " 'points',\n",
       " 'xpoints']"
      ]
     },
     "execution_count": 30,
     "metadata": {},
     "output_type": "execute_result"
    }
   ],
   "source": [
    "team_xgoals.columns.to_list()"
   ]
  },
  {
   "cell_type": "code",
   "execution_count": null,
   "id": "636a3840-d8dd-4507-9575-929cb453c6c6",
   "metadata": {},
   "outputs": [],
   "source": []
  },
  {
   "cell_type": "code",
   "execution_count": 31,
   "id": "0655827a-6366-420c-91cd-9595501bf3ad",
   "metadata": {},
   "outputs": [],
   "source": [
    "team_xpass = asa_client.get_team_xpass(leagues='mls')"
   ]
  },
  {
   "cell_type": "code",
   "execution_count": 32,
   "id": "52ff7c89-6313-4cfc-a24e-37fa346d072c",
   "metadata": {},
   "outputs": [
    {
     "data": {
      "text/plain": [
       "['team_id',\n",
       " 'count_games',\n",
       " 'attempted_passes_for',\n",
       " 'pass_completion_percentage_for',\n",
       " 'xpass_completion_percentage_for',\n",
       " 'passes_completed_over_expected_for',\n",
       " 'passes_completed_over_expected_p100_for',\n",
       " 'avg_vertical_distance_for',\n",
       " 'attempted_passes_against',\n",
       " 'pass_completion_percentage_against',\n",
       " 'xpass_completion_percentage_against',\n",
       " 'passes_completed_over_expected_against',\n",
       " 'passes_completed_over_expected_p100_against',\n",
       " 'avg_vertical_distance_against',\n",
       " 'passes_completed_over_expected_difference',\n",
       " 'avg_vertical_distance_difference']"
      ]
     },
     "execution_count": 32,
     "metadata": {},
     "output_type": "execute_result"
    }
   ],
   "source": [
    "team_xpass.columns.to_list()"
   ]
  },
  {
   "cell_type": "code",
   "execution_count": null,
   "id": "ec1aca80-87f3-4fc2-8cea-388c9d3e1b35",
   "metadata": {},
   "outputs": [],
   "source": []
  },
  {
   "cell_type": "code",
   "execution_count": 33,
   "id": "a4590acb-84d5-4c93-9b04-2a1e122200e8",
   "metadata": {},
   "outputs": [],
   "source": [
    "team_goals_added = asa_client.get_team_goals_added(leagues='mls')"
   ]
  },
  {
   "cell_type": "code",
   "execution_count": 34,
   "id": "553fb5da-ff50-4d16-9dc0-e45cdba2bbe6",
   "metadata": {},
   "outputs": [
    {
     "data": {
      "text/plain": [
       "['team_id', 'minutes', 'data']"
      ]
     },
     "execution_count": 34,
     "metadata": {},
     "output_type": "execute_result"
    }
   ],
   "source": [
    "team_goals_added.columns.to_list()"
   ]
  },
  {
   "cell_type": "code",
   "execution_count": 35,
   "id": "ade473c6-2ff1-43ce-a2e0-e86f93bf80ed",
   "metadata": {},
   "outputs": [],
   "source": [
    "# team_salaries = asa_client.get_team_salaries(leagues = 'mls')"
   ]
  },
  {
   "cell_type": "code",
   "execution_count": 36,
   "id": "61d81b04-6dc9-4e48-85e8-385f2b3f42fc",
   "metadata": {},
   "outputs": [],
   "source": [
    "game_xgoals = asa_client.get_game_xgoals(leagues=\"mls\")"
   ]
  },
  {
   "cell_type": "code",
   "execution_count": 37,
   "id": "72b23808-a180-46ae-870a-a16e68e4aad2",
   "metadata": {},
   "outputs": [
    {
     "data": {
      "text/plain": [
       "['game_id',\n",
       " 'date_time_utc',\n",
       " 'home_team_id',\n",
       " 'home_goals',\n",
       " 'home_team_xgoals',\n",
       " 'home_player_xgoals',\n",
       " 'away_team_id',\n",
       " 'away_goals',\n",
       " 'away_team_xgoals',\n",
       " 'away_player_xgoals',\n",
       " 'goal_difference',\n",
       " 'team_xgoal_difference',\n",
       " 'player_xgoal_difference',\n",
       " 'final_score_difference',\n",
       " 'home_xpoints',\n",
       " 'away_xpoints']"
      ]
     },
     "execution_count": 37,
     "metadata": {},
     "output_type": "execute_result"
    }
   ],
   "source": [
    "game_xgoals.columns.to_list()"
   ]
  },
  {
   "cell_type": "code",
   "execution_count": null,
   "id": "3f0ae650-9f4d-4668-8140-5ede028f27ed",
   "metadata": {},
   "outputs": [],
   "source": []
  },
  {
   "cell_type": "code",
   "execution_count": 38,
   "id": "2a0f258b-8471-49b2-adfa-c4d889ac1bb0",
   "metadata": {},
   "outputs": [
    {
     "data": {
      "text/html": [
       "<div>\n",
       "<style scoped>\n",
       "    .dataframe tbody tr th:only-of-type {\n",
       "        vertical-align: middle;\n",
       "    }\n",
       "\n",
       "    .dataframe tbody tr th {\n",
       "        vertical-align: top;\n",
       "    }\n",
       "\n",
       "    .dataframe thead th {\n",
       "        text-align: right;\n",
       "    }\n",
       "</style>\n",
       "<table border=\"1\" class=\"dataframe\">\n",
       "  <thead>\n",
       "    <tr style=\"text-align: right;\">\n",
       "      <th></th>\n",
       "      <th>player_id</th>\n",
       "      <th>team_id</th>\n",
       "      <th>general_position</th>\n",
       "      <th>minutes_played</th>\n",
       "      <th>shots</th>\n",
       "      <th>shots_on_target</th>\n",
       "      <th>goals</th>\n",
       "      <th>xgoals</th>\n",
       "      <th>xplace</th>\n",
       "      <th>goals_minus_xgoals</th>\n",
       "      <th>key_passes</th>\n",
       "      <th>primary_assists</th>\n",
       "      <th>xassists</th>\n",
       "      <th>primary_assists_minus_xassists</th>\n",
       "      <th>xgoals_plus_xassists</th>\n",
       "      <th>points_added</th>\n",
       "      <th>xpoints_added</th>\n",
       "    </tr>\n",
       "  </thead>\n",
       "  <tbody>\n",
       "    <tr>\n",
       "      <th>596</th>\n",
       "      <td>9z5ka8adQA</td>\n",
       "      <td>lgpMOvnQzy</td>\n",
       "      <td>AM</td>\n",
       "      <td>7057</td>\n",
       "      <td>190</td>\n",
       "      <td>72</td>\n",
       "      <td>23</td>\n",
       "      <td>26.4695</td>\n",
       "      <td>-0.3245</td>\n",
       "      <td>-3.4695</td>\n",
       "      <td>171</td>\n",
       "      <td>21</td>\n",
       "      <td>18.3749</td>\n",
       "      <td>2.6251</td>\n",
       "      <td>44.8444</td>\n",
       "      <td>12.0358</td>\n",
       "      <td>17.9115</td>\n",
       "    </tr>\n",
       "  </tbody>\n",
       "</table>\n",
       "</div>"
      ],
      "text/plain": [
       "      player_id     team_id general_position  minutes_played  shots  \\\n",
       "596  9z5ka8adQA  lgpMOvnQzy               AM            7057    190   \n",
       "\n",
       "     shots_on_target  goals   xgoals  xplace  goals_minus_xgoals  key_passes  \\\n",
       "596               72     23  26.4695 -0.3245             -3.4695         171   \n",
       "\n",
       "     primary_assists  xassists  primary_assists_minus_xassists  \\\n",
       "596               21   18.3749                          2.6251   \n",
       "\n",
       "     xgoals_plus_xassists  points_added  xpoints_added  \n",
       "596               44.8444       12.0358        17.9115  "
      ]
     },
     "execution_count": 38,
     "metadata": {},
     "output_type": "execute_result"
    }
   ],
   "source": [
    "player_xgoals[player_xgoals['player_id'] == '9z5ka8adQA']"
   ]
  },
  {
   "cell_type": "code",
   "execution_count": 39,
   "id": "615bc6da-d475-46b3-99e5-d5d507773c9f",
   "metadata": {},
   "outputs": [
    {
     "data": {
      "text/html": [
       "<div>\n",
       "<style scoped>\n",
       "    .dataframe tbody tr th:only-of-type {\n",
       "        vertical-align: middle;\n",
       "    }\n",
       "\n",
       "    .dataframe tbody tr th {\n",
       "        vertical-align: top;\n",
       "    }\n",
       "\n",
       "    .dataframe thead th {\n",
       "        text-align: right;\n",
       "    }\n",
       "</style>\n",
       "<table border=\"1\" class=\"dataframe\">\n",
       "  <thead>\n",
       "    <tr style=\"text-align: right;\">\n",
       "      <th></th>\n",
       "      <th>player_id</th>\n",
       "      <th>team_id</th>\n",
       "      <th>general_position</th>\n",
       "      <th>minutes_played</th>\n",
       "      <th>shots</th>\n",
       "      <th>shots_on_target</th>\n",
       "      <th>goals</th>\n",
       "      <th>xgoals</th>\n",
       "      <th>xplace</th>\n",
       "      <th>goals_minus_xgoals</th>\n",
       "      <th>key_passes</th>\n",
       "      <th>primary_assists</th>\n",
       "      <th>xassists</th>\n",
       "      <th>primary_assists_minus_xassists</th>\n",
       "      <th>xgoals_plus_xassists</th>\n",
       "      <th>points_added</th>\n",
       "      <th>xpoints_added</th>\n",
       "    </tr>\n",
       "  </thead>\n",
       "  <tbody>\n",
       "    <tr>\n",
       "      <th>2115</th>\n",
       "      <td>vzqowm7qap</td>\n",
       "      <td>zeQZkL1MKw</td>\n",
       "      <td>ST</td>\n",
       "      <td>409</td>\n",
       "      <td>20</td>\n",
       "      <td>7</td>\n",
       "      <td>1</td>\n",
       "      <td>2.5464</td>\n",
       "      <td>-1.0855</td>\n",
       "      <td>-1.5464</td>\n",
       "      <td>6</td>\n",
       "      <td>2</td>\n",
       "      <td>1.4902</td>\n",
       "      <td>0.5098</td>\n",
       "      <td>4.0366</td>\n",
       "      <td>0.0061</td>\n",
       "      <td>1.6225</td>\n",
       "    </tr>\n",
       "  </tbody>\n",
       "</table>\n",
       "</div>"
      ],
      "text/plain": [
       "       player_id     team_id general_position  minutes_played  shots  \\\n",
       "2115  vzqowm7qap  zeQZkL1MKw               ST             409     20   \n",
       "\n",
       "      shots_on_target  goals  xgoals  xplace  goals_minus_xgoals  key_passes  \\\n",
       "2115                7      1  2.5464 -1.0855             -1.5464           6   \n",
       "\n",
       "      primary_assists  xassists  primary_assists_minus_xassists  \\\n",
       "2115                2    1.4902                          0.5098   \n",
       "\n",
       "      xgoals_plus_xassists  points_added  xpoints_added  \n",
       "2115                4.0366        0.0061         1.6225  "
      ]
     },
     "execution_count": 39,
     "metadata": {},
     "output_type": "execute_result"
    }
   ],
   "source": [
    "player_xgoals[player_xgoals['player_id'] == 'vzqowm7qap']"
   ]
  },
  {
   "cell_type": "code",
   "execution_count": 40,
   "id": "6e267741-a7ac-4fa4-bd83-73395441e28f",
   "metadata": {},
   "outputs": [],
   "source": [
    "# Get all players named \"Andre\"\n",
    "messi_df = asa_client.get_players(names=\"Lionel\")\n",
    "zlatan_df = asa_client.get_players(names=\"Zlatan\")\n",
    "ryan_gauld_df = asa_client.get_players(names=\"gauld\")"
   ]
  },
  {
   "cell_type": "code",
   "execution_count": 41,
   "id": "a3cc8bff-b070-49e2-a18a-3fc692c9b3a7",
   "metadata": {},
   "outputs": [
    {
     "data": {
      "text/html": [
       "<div>\n",
       "<style scoped>\n",
       "    .dataframe tbody tr th:only-of-type {\n",
       "        vertical-align: middle;\n",
       "    }\n",
       "\n",
       "    .dataframe tbody tr th {\n",
       "        vertical-align: top;\n",
       "    }\n",
       "\n",
       "    .dataframe thead th {\n",
       "        text-align: right;\n",
       "    }\n",
       "</style>\n",
       "<table border=\"1\" class=\"dataframe\">\n",
       "  <thead>\n",
       "    <tr style=\"text-align: right;\">\n",
       "      <th></th>\n",
       "      <th>player_id</th>\n",
       "      <th>player_name</th>\n",
       "      <th>birth_date</th>\n",
       "      <th>nationality</th>\n",
       "      <th>primary_broad_position</th>\n",
       "      <th>primary_general_position</th>\n",
       "      <th>secondary_broad_position</th>\n",
       "      <th>secondary_general_position</th>\n",
       "      <th>season_name</th>\n",
       "      <th>height_ft</th>\n",
       "      <th>height_in</th>\n",
       "      <th>weight_lb</th>\n",
       "      <th>competition</th>\n",
       "    </tr>\n",
       "  </thead>\n",
       "  <tbody>\n",
       "    <tr>\n",
       "      <th>1513</th>\n",
       "      <td>9z5ka8adQA</td>\n",
       "      <td>Ryan Gauld</td>\n",
       "      <td>1995-12-16</td>\n",
       "      <td>Scotland</td>\n",
       "      <td>MF</td>\n",
       "      <td>AM</td>\n",
       "      <td>NaN</td>\n",
       "      <td>NaN</td>\n",
       "      <td>[2021, 2022, 2023]</td>\n",
       "      <td>5.0</td>\n",
       "      <td>7.0</td>\n",
       "      <td>150.0</td>\n",
       "      <td>mls</td>\n",
       "    </tr>\n",
       "  </tbody>\n",
       "</table>\n",
       "</div>"
      ],
      "text/plain": [
       "       player_id player_name  birth_date nationality primary_broad_position  \\\n",
       "1513  9z5ka8adQA  Ryan Gauld  1995-12-16    Scotland                     MF   \n",
       "\n",
       "     primary_general_position secondary_broad_position  \\\n",
       "1513                       AM                      NaN   \n",
       "\n",
       "     secondary_general_position         season_name  height_ft  height_in  \\\n",
       "1513                        NaN  [2021, 2022, 2023]        5.0        7.0   \n",
       "\n",
       "      weight_lb competition  \n",
       "1513      150.0         mls  "
      ]
     },
     "execution_count": 41,
     "metadata": {},
     "output_type": "execute_result"
    }
   ],
   "source": [
    "ryan_gauld_df"
   ]
  },
  {
   "cell_type": "code",
   "execution_count": 42,
   "id": "ad1f0d4b-1642-48b2-af0e-08a6b4d470e2",
   "metadata": {},
   "outputs": [
    {
     "data": {
      "text/html": [
       "<div>\n",
       "<style scoped>\n",
       "    .dataframe tbody tr th:only-of-type {\n",
       "        vertical-align: middle;\n",
       "    }\n",
       "\n",
       "    .dataframe tbody tr th {\n",
       "        vertical-align: top;\n",
       "    }\n",
       "\n",
       "    .dataframe thead th {\n",
       "        text-align: right;\n",
       "    }\n",
       "</style>\n",
       "<table border=\"1\" class=\"dataframe\">\n",
       "  <thead>\n",
       "    <tr style=\"text-align: right;\">\n",
       "      <th></th>\n",
       "      <th>player_id</th>\n",
       "      <th>player_name</th>\n",
       "      <th>birth_date</th>\n",
       "      <th>nationality</th>\n",
       "      <th>primary_broad_position</th>\n",
       "      <th>primary_general_position</th>\n",
       "      <th>secondary_broad_position</th>\n",
       "      <th>secondary_general_position</th>\n",
       "      <th>season_name</th>\n",
       "      <th>height_ft</th>\n",
       "      <th>height_in</th>\n",
       "      <th>weight_lb</th>\n",
       "      <th>competition</th>\n",
       "    </tr>\n",
       "  </thead>\n",
       "  <tbody>\n",
       "    <tr>\n",
       "      <th>3279</th>\n",
       "      <td>vzqowm7qap</td>\n",
       "      <td>Lionel Messi</td>\n",
       "      <td>1987-06-24</td>\n",
       "      <td>Argentina</td>\n",
       "      <td>FW</td>\n",
       "      <td>ST</td>\n",
       "      <td>NaN</td>\n",
       "      <td>W</td>\n",
       "      <td>2023</td>\n",
       "      <td>5.0</td>\n",
       "      <td>7.0</td>\n",
       "      <td>159.0</td>\n",
       "      <td>mls</td>\n",
       "    </tr>\n",
       "  </tbody>\n",
       "</table>\n",
       "</div>"
      ],
      "text/plain": [
       "       player_id   player_name  birth_date nationality primary_broad_position  \\\n",
       "3279  vzqowm7qap  Lionel Messi  1987-06-24   Argentina                     FW   \n",
       "\n",
       "     primary_general_position secondary_broad_position  \\\n",
       "3279                       ST                      NaN   \n",
       "\n",
       "     secondary_general_position season_name  height_ft  height_in  weight_lb  \\\n",
       "3279                          W        2023        5.0        7.0      159.0   \n",
       "\n",
       "     competition  \n",
       "3279         mls  "
      ]
     },
     "execution_count": 42,
     "metadata": {},
     "output_type": "execute_result"
    }
   ],
   "source": [
    "messi_df"
   ]
  },
  {
   "cell_type": "code",
   "execution_count": 43,
   "id": "7f0c3880-6e78-4f0a-b943-c288fc5a1880",
   "metadata": {},
   "outputs": [
    {
     "data": {
      "text/html": [
       "<div>\n",
       "<style scoped>\n",
       "    .dataframe tbody tr th:only-of-type {\n",
       "        vertical-align: middle;\n",
       "    }\n",
       "\n",
       "    .dataframe tbody tr th {\n",
       "        vertical-align: top;\n",
       "    }\n",
       "\n",
       "    .dataframe thead th {\n",
       "        text-align: right;\n",
       "    }\n",
       "</style>\n",
       "<table border=\"1\" class=\"dataframe\">\n",
       "  <thead>\n",
       "    <tr style=\"text-align: right;\">\n",
       "      <th></th>\n",
       "      <th>player_id</th>\n",
       "      <th>player_name</th>\n",
       "      <th>birth_date</th>\n",
       "      <th>nationality</th>\n",
       "      <th>primary_broad_position</th>\n",
       "      <th>primary_general_position</th>\n",
       "      <th>secondary_broad_position</th>\n",
       "      <th>secondary_general_position</th>\n",
       "      <th>season_name</th>\n",
       "      <th>height_ft</th>\n",
       "      <th>height_in</th>\n",
       "      <th>weight_lb</th>\n",
       "      <th>competition</th>\n",
       "    </tr>\n",
       "  </thead>\n",
       "  <tbody>\n",
       "    <tr>\n",
       "      <th>2157</th>\n",
       "      <td>gpMOoayMzy</td>\n",
       "      <td>Zlatan Ibrahimovic</td>\n",
       "      <td>1981-10-03</td>\n",
       "      <td>Sweden</td>\n",
       "      <td>FW</td>\n",
       "      <td>ST</td>\n",
       "      <td>NaN</td>\n",
       "      <td>NaN</td>\n",
       "      <td>[2018, 2019]</td>\n",
       "      <td>6.0</td>\n",
       "      <td>5.0</td>\n",
       "      <td>209.0</td>\n",
       "      <td>mls</td>\n",
       "    </tr>\n",
       "  </tbody>\n",
       "</table>\n",
       "</div>"
      ],
      "text/plain": [
       "       player_id         player_name  birth_date nationality  \\\n",
       "2157  gpMOoayMzy  Zlatan Ibrahimovic  1981-10-03      Sweden   \n",
       "\n",
       "     primary_broad_position primary_general_position secondary_broad_position  \\\n",
       "2157                     FW                       ST                      NaN   \n",
       "\n",
       "     secondary_general_position   season_name  height_ft  height_in  \\\n",
       "2157                        NaN  [2018, 2019]        6.0        5.0   \n",
       "\n",
       "      weight_lb competition  \n",
       "2157      209.0         mls  "
      ]
     },
     "execution_count": 43,
     "metadata": {},
     "output_type": "execute_result"
    }
   ],
   "source": [
    "zlatan_df"
   ]
  },
  {
   "cell_type": "code",
   "execution_count": 44,
   "id": "e80211af-7088-41dd-b39c-a66e31f97026",
   "metadata": {},
   "outputs": [],
   "source": [
    "asa_games = asa_client.get_games(leagues='mls')"
   ]
  },
  {
   "cell_type": "code",
   "execution_count": 45,
   "id": "c5d7a399-bd8d-42a4-8d95-edb499c5ff0c",
   "metadata": {},
   "outputs": [
    {
     "data": {
      "text/plain": [
       "(4416, 20)"
      ]
     },
     "execution_count": 45,
     "metadata": {},
     "output_type": "execute_result"
    }
   ],
   "source": [
    "asa_games.shape"
   ]
  },
  {
   "cell_type": "code",
   "execution_count": 46,
   "id": "df49ac60-a340-4477-9c3a-2c5b3db92626",
   "metadata": {},
   "outputs": [
    {
     "data": {
      "text/plain": [
       "array([2023, 2022, 2021, 2020, 2019, 2018, 2017, 2016, 2015, 2014, 2013],\n",
       "      dtype=int64)"
      ]
     },
     "execution_count": 46,
     "metadata": {},
     "output_type": "execute_result"
    }
   ],
   "source": [
    "asa_games.season_name.unique()"
   ]
  },
  {
   "cell_type": "code",
   "execution_count": 47,
   "id": "d58f38f7-99d1-469b-a10a-2b855fdc3b86",
   "metadata": {},
   "outputs": [],
   "source": [
    "asa_xgoals = asa_client.get_player_xgoals(leagues ='mls')"
   ]
  },
  {
   "cell_type": "code",
   "execution_count": 48,
   "id": "37461eae-9fd7-4fd6-92ff-de3e3c5ad7e8",
   "metadata": {},
   "outputs": [
    {
     "data": {
      "text/html": [
       "<div>\n",
       "<style scoped>\n",
       "    .dataframe tbody tr th:only-of-type {\n",
       "        vertical-align: middle;\n",
       "    }\n",
       "\n",
       "    .dataframe tbody tr th {\n",
       "        vertical-align: top;\n",
       "    }\n",
       "\n",
       "    .dataframe thead th {\n",
       "        text-align: right;\n",
       "    }\n",
       "</style>\n",
       "<table border=\"1\" class=\"dataframe\">\n",
       "  <thead>\n",
       "    <tr style=\"text-align: right;\">\n",
       "      <th></th>\n",
       "      <th>player_id</th>\n",
       "      <th>team_id</th>\n",
       "      <th>general_position</th>\n",
       "      <th>minutes_played</th>\n",
       "      <th>shots</th>\n",
       "      <th>shots_on_target</th>\n",
       "      <th>goals</th>\n",
       "      <th>xgoals</th>\n",
       "      <th>xplace</th>\n",
       "      <th>goals_minus_xgoals</th>\n",
       "      <th>key_passes</th>\n",
       "      <th>primary_assists</th>\n",
       "      <th>xassists</th>\n",
       "      <th>primary_assists_minus_xassists</th>\n",
       "      <th>xgoals_plus_xassists</th>\n",
       "      <th>points_added</th>\n",
       "      <th>xpoints_added</th>\n",
       "    </tr>\n",
       "  </thead>\n",
       "  <tbody>\n",
       "    <tr>\n",
       "      <th>2115</th>\n",
       "      <td>vzqowm7qap</td>\n",
       "      <td>zeQZkL1MKw</td>\n",
       "      <td>ST</td>\n",
       "      <td>409</td>\n",
       "      <td>20</td>\n",
       "      <td>7</td>\n",
       "      <td>1</td>\n",
       "      <td>2.5464</td>\n",
       "      <td>-1.0855</td>\n",
       "      <td>-1.5464</td>\n",
       "      <td>6</td>\n",
       "      <td>2</td>\n",
       "      <td>1.4902</td>\n",
       "      <td>0.5098</td>\n",
       "      <td>4.0366</td>\n",
       "      <td>0.0061</td>\n",
       "      <td>1.6225</td>\n",
       "    </tr>\n",
       "  </tbody>\n",
       "</table>\n",
       "</div>"
      ],
      "text/plain": [
       "       player_id     team_id general_position  minutes_played  shots  \\\n",
       "2115  vzqowm7qap  zeQZkL1MKw               ST             409     20   \n",
       "\n",
       "      shots_on_target  goals  xgoals  xplace  goals_minus_xgoals  key_passes  \\\n",
       "2115                7      1  2.5464 -1.0855             -1.5464           6   \n",
       "\n",
       "      primary_assists  xassists  primary_assists_minus_xassists  \\\n",
       "2115                2    1.4902                          0.5098   \n",
       "\n",
       "      xgoals_plus_xassists  points_added  xpoints_added  \n",
       "2115                4.0366        0.0061         1.6225  "
      ]
     },
     "execution_count": 48,
     "metadata": {},
     "output_type": "execute_result"
    }
   ],
   "source": [
    "asa_xgoals[asa_xgoals['player_id'] == 'vzqowm7qap']"
   ]
  },
  {
   "cell_type": "code",
   "execution_count": 49,
   "id": "96f987bb-f0e8-46a6-8537-b08e39e74d19",
   "metadata": {},
   "outputs": [
    {
     "data": {
      "text/html": [
       "<div>\n",
       "<style scoped>\n",
       "    .dataframe tbody tr th:only-of-type {\n",
       "        vertical-align: middle;\n",
       "    }\n",
       "\n",
       "    .dataframe tbody tr th {\n",
       "        vertical-align: top;\n",
       "    }\n",
       "\n",
       "    .dataframe thead th {\n",
       "        text-align: right;\n",
       "    }\n",
       "</style>\n",
       "<table border=\"1\" class=\"dataframe\">\n",
       "  <thead>\n",
       "    <tr style=\"text-align: right;\">\n",
       "      <th></th>\n",
       "      <th>player_id</th>\n",
       "      <th>team_id</th>\n",
       "      <th>general_position</th>\n",
       "      <th>minutes_played</th>\n",
       "      <th>shots</th>\n",
       "      <th>shots_on_target</th>\n",
       "      <th>goals</th>\n",
       "      <th>xgoals</th>\n",
       "      <th>xplace</th>\n",
       "      <th>goals_minus_xgoals</th>\n",
       "      <th>key_passes</th>\n",
       "      <th>primary_assists</th>\n",
       "      <th>xassists</th>\n",
       "      <th>primary_assists_minus_xassists</th>\n",
       "      <th>xgoals_plus_xassists</th>\n",
       "      <th>points_added</th>\n",
       "      <th>xpoints_added</th>\n",
       "    </tr>\n",
       "  </thead>\n",
       "  <tbody>\n",
       "    <tr>\n",
       "      <th>1151</th>\n",
       "      <td>gpMOoayMzy</td>\n",
       "      <td>kaDQ0wRqEv</td>\n",
       "      <td>ST</td>\n",
       "      <td>5388</td>\n",
       "      <td>275</td>\n",
       "      <td>116</td>\n",
       "      <td>53</td>\n",
       "      <td>41.1103</td>\n",
       "      <td>6.148</td>\n",
       "      <td>11.8897</td>\n",
       "      <td>84</td>\n",
       "      <td>13</td>\n",
       "      <td>11.0938</td>\n",
       "      <td>1.9062</td>\n",
       "      <td>52.2041</td>\n",
       "      <td>22.974</td>\n",
       "      <td>22.4662</td>\n",
       "    </tr>\n",
       "  </tbody>\n",
       "</table>\n",
       "</div>"
      ],
      "text/plain": [
       "       player_id     team_id general_position  minutes_played  shots  \\\n",
       "1151  gpMOoayMzy  kaDQ0wRqEv               ST            5388    275   \n",
       "\n",
       "      shots_on_target  goals   xgoals  xplace  goals_minus_xgoals  key_passes  \\\n",
       "1151              116     53  41.1103   6.148             11.8897          84   \n",
       "\n",
       "      primary_assists  xassists  primary_assists_minus_xassists  \\\n",
       "1151               13   11.0938                          1.9062   \n",
       "\n",
       "      xgoals_plus_xassists  points_added  xpoints_added  \n",
       "1151               52.2041        22.974        22.4662  "
      ]
     },
     "execution_count": 49,
     "metadata": {},
     "output_type": "execute_result"
    }
   ],
   "source": [
    "asa_xgoals[asa_xgoals['player_id'] == 'gpMOoayMzy']"
   ]
  },
  {
   "cell_type": "code",
   "execution_count": 50,
   "id": "44b76ead-8f1c-4775-8df7-9e6e70201f83",
   "metadata": {},
   "outputs": [
    {
     "data": {
      "text/html": [
       "<div>\n",
       "<style scoped>\n",
       "    .dataframe tbody tr th:only-of-type {\n",
       "        vertical-align: middle;\n",
       "    }\n",
       "\n",
       "    .dataframe tbody tr th {\n",
       "        vertical-align: top;\n",
       "    }\n",
       "\n",
       "    .dataframe thead th {\n",
       "        text-align: right;\n",
       "    }\n",
       "</style>\n",
       "<table border=\"1\" class=\"dataframe\">\n",
       "  <thead>\n",
       "    <tr style=\"text-align: right;\">\n",
       "      <th></th>\n",
       "      <th>player_id</th>\n",
       "      <th>team_id</th>\n",
       "      <th>general_position</th>\n",
       "      <th>minutes_played</th>\n",
       "      <th>shots</th>\n",
       "      <th>shots_on_target</th>\n",
       "      <th>goals</th>\n",
       "      <th>xgoals</th>\n",
       "      <th>xplace</th>\n",
       "      <th>goals_minus_xgoals</th>\n",
       "      <th>key_passes</th>\n",
       "      <th>primary_assists</th>\n",
       "      <th>xassists</th>\n",
       "      <th>primary_assists_minus_xassists</th>\n",
       "      <th>xgoals_plus_xassists</th>\n",
       "      <th>points_added</th>\n",
       "      <th>xpoints_added</th>\n",
       "    </tr>\n",
       "  </thead>\n",
       "  <tbody>\n",
       "    <tr>\n",
       "      <th>596</th>\n",
       "      <td>9z5ka8adQA</td>\n",
       "      <td>lgpMOvnQzy</td>\n",
       "      <td>AM</td>\n",
       "      <td>7057</td>\n",
       "      <td>190</td>\n",
       "      <td>72</td>\n",
       "      <td>23</td>\n",
       "      <td>26.4695</td>\n",
       "      <td>-0.3245</td>\n",
       "      <td>-3.4695</td>\n",
       "      <td>171</td>\n",
       "      <td>21</td>\n",
       "      <td>18.3749</td>\n",
       "      <td>2.6251</td>\n",
       "      <td>44.8444</td>\n",
       "      <td>12.0358</td>\n",
       "      <td>17.9115</td>\n",
       "    </tr>\n",
       "  </tbody>\n",
       "</table>\n",
       "</div>"
      ],
      "text/plain": [
       "      player_id     team_id general_position  minutes_played  shots  \\\n",
       "596  9z5ka8adQA  lgpMOvnQzy               AM            7057    190   \n",
       "\n",
       "     shots_on_target  goals   xgoals  xplace  goals_minus_xgoals  key_passes  \\\n",
       "596               72     23  26.4695 -0.3245             -3.4695         171   \n",
       "\n",
       "     primary_assists  xassists  primary_assists_minus_xassists  \\\n",
       "596               21   18.3749                          2.6251   \n",
       "\n",
       "     xgoals_plus_xassists  points_added  xpoints_added  \n",
       "596               44.8444       12.0358        17.9115  "
      ]
     },
     "execution_count": 50,
     "metadata": {},
     "output_type": "execute_result"
    }
   ],
   "source": [
    "asa_xgoals[asa_xgoals['player_id'] == '9z5ka8adQA']"
   ]
  },
  {
   "cell_type": "code",
   "execution_count": 51,
   "id": "1f94a69e-09f3-4dc6-ae12-9831c9b01f91",
   "metadata": {},
   "outputs": [
    {
     "data": {
      "text/html": [
       "<div>\n",
       "<style scoped>\n",
       "    .dataframe tbody tr th:only-of-type {\n",
       "        vertical-align: middle;\n",
       "    }\n",
       "\n",
       "    .dataframe tbody tr th {\n",
       "        vertical-align: top;\n",
       "    }\n",
       "\n",
       "    .dataframe thead th {\n",
       "        text-align: right;\n",
       "    }\n",
       "</style>\n",
       "<table border=\"1\" class=\"dataframe\">\n",
       "  <thead>\n",
       "    <tr style=\"text-align: right;\">\n",
       "      <th></th>\n",
       "      <th>game_id</th>\n",
       "      <th>date_time_utc</th>\n",
       "      <th>home_score</th>\n",
       "      <th>away_score</th>\n",
       "      <th>home_team_id</th>\n",
       "      <th>away_team_id</th>\n",
       "      <th>referee_id</th>\n",
       "      <th>stadium_id</th>\n",
       "      <th>home_manager_id</th>\n",
       "      <th>away_manager_id</th>\n",
       "      <th>expanded_minutes</th>\n",
       "      <th>season_name</th>\n",
       "      <th>matchday</th>\n",
       "      <th>attendance</th>\n",
       "      <th>knockout_game</th>\n",
       "      <th>last_updated_utc</th>\n",
       "      <th>extra_time</th>\n",
       "      <th>penalties</th>\n",
       "      <th>home_penalties</th>\n",
       "      <th>away_penalties</th>\n",
       "    </tr>\n",
       "  </thead>\n",
       "  <tbody>\n",
       "    <tr>\n",
       "      <th>0</th>\n",
       "      <td>KAqBod7VQb</td>\n",
       "      <td>2023-12-09 21:00:00 UTC</td>\n",
       "      <td>2</td>\n",
       "      <td>1</td>\n",
       "      <td>mvzqoLZQap</td>\n",
       "      <td>eVq3ya6MWO</td>\n",
       "      <td>gjMNk4v5Kp</td>\n",
       "      <td>2vQ1eawQrA</td>\n",
       "      <td>KPqjO38Q6v</td>\n",
       "      <td>NWMWxKe5lz</td>\n",
       "      <td>102</td>\n",
       "      <td>2023</td>\n",
       "      <td>45</td>\n",
       "      <td>20802</td>\n",
       "      <td>True</td>\n",
       "      <td>2023-12-09 23:14:03 UTC</td>\n",
       "      <td>NaN</td>\n",
       "      <td>NaN</td>\n",
       "      <td>NaN</td>\n",
       "      <td>NaN</td>\n",
       "    </tr>\n",
       "    <tr>\n",
       "      <th>1</th>\n",
       "      <td>eVq3lwWjQW</td>\n",
       "      <td>2023-12-03 02:30:00 UTC</td>\n",
       "      <td>2</td>\n",
       "      <td>0</td>\n",
       "      <td>eVq3ya6MWO</td>\n",
       "      <td>YgOMngl5wN</td>\n",
       "      <td>2lqRymD5r0</td>\n",
       "      <td>7vQ7xbOMD1</td>\n",
       "      <td>NWMWxKe5lz</td>\n",
       "      <td>vzqoAjJMap</td>\n",
       "      <td>106</td>\n",
       "      <td>2023</td>\n",
       "      <td>44</td>\n",
       "      <td>22221</td>\n",
       "      <td>True</td>\n",
       "      <td>2023-12-06 12:05:10 UTC</td>\n",
       "      <td>NaN</td>\n",
       "      <td>NaN</td>\n",
       "      <td>NaN</td>\n",
       "      <td>NaN</td>\n",
       "    </tr>\n",
       "    <tr>\n",
       "      <th>2</th>\n",
       "      <td>Oa5w6ZmYM1</td>\n",
       "      <td>2023-12-02 23:00:00 UTC</td>\n",
       "      <td>2</td>\n",
       "      <td>3</td>\n",
       "      <td>NWMWlBK5lz</td>\n",
       "      <td>mvzqoLZQap</td>\n",
       "      <td>vzqoWjkqap</td>\n",
       "      <td>Oa5wKLY514</td>\n",
       "      <td>vzqozWB5ap</td>\n",
       "      <td>KPqjO38Q6v</td>\n",
       "      <td>132</td>\n",
       "      <td>2023</td>\n",
       "      <td>44</td>\n",
       "      <td>25513</td>\n",
       "      <td>True</td>\n",
       "      <td>2023-12-06 11:59:11 UTC</td>\n",
       "      <td>1.0</td>\n",
       "      <td>NaN</td>\n",
       "      <td>NaN</td>\n",
       "      <td>NaN</td>\n",
       "    </tr>\n",
       "    <tr>\n",
       "      <th>3</th>\n",
       "      <td>jYQJyN0DqG</td>\n",
       "      <td>2023-11-27 02:30:00 UTC</td>\n",
       "      <td>0</td>\n",
       "      <td>1</td>\n",
       "      <td>jYQJ19EqGR</td>\n",
       "      <td>eVq3ya6MWO</td>\n",
       "      <td>EGMPLlxMaY</td>\n",
       "      <td>9Yqda07QvJ</td>\n",
       "      <td>odMXxreMYL</td>\n",
       "      <td>NWMWxKe5lz</td>\n",
       "      <td>101</td>\n",
       "      <td>2023</td>\n",
       "      <td>43</td>\n",
       "      <td>33649</td>\n",
       "      <td>True</td>\n",
       "      <td>2023-11-29 22:26:50 UTC</td>\n",
       "      <td>NaN</td>\n",
       "      <td>NaN</td>\n",
       "      <td>NaN</td>\n",
       "      <td>NaN</td>\n",
       "    </tr>\n",
       "    <tr>\n",
       "      <th>4</th>\n",
       "      <td>Xj5YzbNGqb</td>\n",
       "      <td>2023-11-27 00:00:00 UTC</td>\n",
       "      <td>1</td>\n",
       "      <td>0</td>\n",
       "      <td>YgOMngl5wN</td>\n",
       "      <td>Z2vQ1xlqrA</td>\n",
       "      <td>wvq9vKlQWn</td>\n",
       "      <td>0x5g6ojM7O</td>\n",
       "      <td>vzqoAjJMap</td>\n",
       "      <td>N6MmpyLQEG</td>\n",
       "      <td>99</td>\n",
       "      <td>2023</td>\n",
       "      <td>43</td>\n",
       "      <td>20319</td>\n",
       "      <td>True</td>\n",
       "      <td>2023-11-29 22:23:05 UTC</td>\n",
       "      <td>NaN</td>\n",
       "      <td>NaN</td>\n",
       "      <td>NaN</td>\n",
       "      <td>NaN</td>\n",
       "    </tr>\n",
       "    <tr>\n",
       "      <th>...</th>\n",
       "      <td>...</td>\n",
       "      <td>...</td>\n",
       "      <td>...</td>\n",
       "      <td>...</td>\n",
       "      <td>...</td>\n",
       "      <td>...</td>\n",
       "      <td>...</td>\n",
       "      <td>...</td>\n",
       "      <td>...</td>\n",
       "      <td>...</td>\n",
       "      <td>...</td>\n",
       "      <td>...</td>\n",
       "      <td>...</td>\n",
       "      <td>...</td>\n",
       "      <td>...</td>\n",
       "      <td>...</td>\n",
       "      <td>...</td>\n",
       "      <td>...</td>\n",
       "      <td>...</td>\n",
       "      <td>...</td>\n",
       "    </tr>\n",
       "    <tr>\n",
       "      <th>4411</th>\n",
       "      <td>xW5pyO8Jqg</td>\n",
       "      <td>2013-03-03 03:30:00 UTC</td>\n",
       "      <td>0</td>\n",
       "      <td>1</td>\n",
       "      <td>jYQJ19EqGR</td>\n",
       "      <td>APk5LGOMOW</td>\n",
       "      <td>zeQZl7D5Kw</td>\n",
       "      <td>9Yqda07QvJ</td>\n",
       "      <td>KXMeab1M64</td>\n",
       "      <td>315VKkEq9x</td>\n",
       "      <td>101</td>\n",
       "      <td>2013</td>\n",
       "      <td>1</td>\n",
       "      <td>38998</td>\n",
       "      <td>False</td>\n",
       "      <td>NaN</td>\n",
       "      <td>NaN</td>\n",
       "      <td>NaN</td>\n",
       "      <td>NaN</td>\n",
       "      <td>NaN</td>\n",
       "    </tr>\n",
       "    <tr>\n",
       "      <th>4412</th>\n",
       "      <td>KPqjK3VYQ6</td>\n",
       "      <td>2013-03-03 01:30:00 UTC</td>\n",
       "      <td>1</td>\n",
       "      <td>0</td>\n",
       "      <td>mKAqBBmqbg</td>\n",
       "      <td>pzeQZ6xQKw</td>\n",
       "      <td>vzqoWjkqap</td>\n",
       "      <td>eVq3alGMWO</td>\n",
       "      <td>a35rDN4QL6</td>\n",
       "      <td>gjMNk8v5Kp</td>\n",
       "      <td>100</td>\n",
       "      <td>2013</td>\n",
       "      <td>1</td>\n",
       "      <td>18075</td>\n",
       "      <td>False</td>\n",
       "      <td>NaN</td>\n",
       "      <td>NaN</td>\n",
       "      <td>NaN</td>\n",
       "      <td>NaN</td>\n",
       "      <td>NaN</td>\n",
       "    </tr>\n",
       "    <tr>\n",
       "      <th>4413</th>\n",
       "      <td>kRQaolgj5K</td>\n",
       "      <td>2013-03-03 01:00:00 UTC</td>\n",
       "      <td>2</td>\n",
       "      <td>0</td>\n",
       "      <td>YgOMngl5wN</td>\n",
       "      <td>EKXMeX3Q64</td>\n",
       "      <td>EGMPPnAMaY</td>\n",
       "      <td>0x5g6ojM7O</td>\n",
       "      <td>4JMA4X9QKg</td>\n",
       "      <td>vzqoAjJMap</td>\n",
       "      <td>95</td>\n",
       "      <td>2013</td>\n",
       "      <td>1</td>\n",
       "      <td>20019</td>\n",
       "      <td>False</td>\n",
       "      <td>NaN</td>\n",
       "      <td>NaN</td>\n",
       "      <td>NaN</td>\n",
       "      <td>NaN</td>\n",
       "      <td>NaN</td>\n",
       "    </tr>\n",
       "    <tr>\n",
       "      <th>4414</th>\n",
       "      <td>9vQ2ZGnmQK</td>\n",
       "      <td>2013-03-02 23:30:00 UTC</td>\n",
       "      <td>1</td>\n",
       "      <td>0</td>\n",
       "      <td>lgpMOvnQzy</td>\n",
       "      <td>kRQabn8MKZ</td>\n",
       "      <td>Oa5w9R9Q14</td>\n",
       "      <td>ljqEDnO5x0</td>\n",
       "      <td>ljqEWzAMx0</td>\n",
       "      <td>gjMNk0Y5Kp</td>\n",
       "      <td>97</td>\n",
       "      <td>2013</td>\n",
       "      <td>1</td>\n",
       "      <td>21000</td>\n",
       "      <td>False</td>\n",
       "      <td>NaN</td>\n",
       "      <td>NaN</td>\n",
       "      <td>NaN</td>\n",
       "      <td>NaN</td>\n",
       "      <td>NaN</td>\n",
       "    </tr>\n",
       "    <tr>\n",
       "      <th>4415</th>\n",
       "      <td>NPqxxL8Xq9</td>\n",
       "      <td>2013-03-02 21:00:00 UTC</td>\n",
       "      <td>1</td>\n",
       "      <td>3</td>\n",
       "      <td>9z5k7Yg5A3</td>\n",
       "      <td>Z2vQ1xlqrA</td>\n",
       "      <td>a35r6KG5L6</td>\n",
       "      <td>NWMW8ZN5lz</td>\n",
       "      <td>KXMeAPkM64</td>\n",
       "      <td>N6MmpyLQEG</td>\n",
       "      <td>97</td>\n",
       "      <td>2013</td>\n",
       "      <td>1</td>\n",
       "      <td>18160</td>\n",
       "      <td>False</td>\n",
       "      <td>NaN</td>\n",
       "      <td>NaN</td>\n",
       "      <td>NaN</td>\n",
       "      <td>NaN</td>\n",
       "      <td>NaN</td>\n",
       "    </tr>\n",
       "  </tbody>\n",
       "</table>\n",
       "<p>4416 rows × 20 columns</p>\n",
       "</div>"
      ],
      "text/plain": [
       "         game_id            date_time_utc  home_score  away_score  \\\n",
       "0     KAqBod7VQb  2023-12-09 21:00:00 UTC           2           1   \n",
       "1     eVq3lwWjQW  2023-12-03 02:30:00 UTC           2           0   \n",
       "2     Oa5w6ZmYM1  2023-12-02 23:00:00 UTC           2           3   \n",
       "3     jYQJyN0DqG  2023-11-27 02:30:00 UTC           0           1   \n",
       "4     Xj5YzbNGqb  2023-11-27 00:00:00 UTC           1           0   \n",
       "...          ...                      ...         ...         ...   \n",
       "4411  xW5pyO8Jqg  2013-03-03 03:30:00 UTC           0           1   \n",
       "4412  KPqjK3VYQ6  2013-03-03 01:30:00 UTC           1           0   \n",
       "4413  kRQaolgj5K  2013-03-03 01:00:00 UTC           2           0   \n",
       "4414  9vQ2ZGnmQK  2013-03-02 23:30:00 UTC           1           0   \n",
       "4415  NPqxxL8Xq9  2013-03-02 21:00:00 UTC           1           3   \n",
       "\n",
       "     home_team_id away_team_id  referee_id  stadium_id home_manager_id  \\\n",
       "0      mvzqoLZQap   eVq3ya6MWO  gjMNk4v5Kp  2vQ1eawQrA      KPqjO38Q6v   \n",
       "1      eVq3ya6MWO   YgOMngl5wN  2lqRymD5r0  7vQ7xbOMD1      NWMWxKe5lz   \n",
       "2      NWMWlBK5lz   mvzqoLZQap  vzqoWjkqap  Oa5wKLY514      vzqozWB5ap   \n",
       "3      jYQJ19EqGR   eVq3ya6MWO  EGMPLlxMaY  9Yqda07QvJ      odMXxreMYL   \n",
       "4      YgOMngl5wN   Z2vQ1xlqrA  wvq9vKlQWn  0x5g6ojM7O      vzqoAjJMap   \n",
       "...           ...          ...         ...         ...             ...   \n",
       "4411   jYQJ19EqGR   APk5LGOMOW  zeQZl7D5Kw  9Yqda07QvJ      KXMeab1M64   \n",
       "4412   mKAqBBmqbg   pzeQZ6xQKw  vzqoWjkqap  eVq3alGMWO      a35rDN4QL6   \n",
       "4413   YgOMngl5wN   EKXMeX3Q64  EGMPPnAMaY  0x5g6ojM7O      4JMA4X9QKg   \n",
       "4414   lgpMOvnQzy   kRQabn8MKZ  Oa5w9R9Q14  ljqEDnO5x0      ljqEWzAMx0   \n",
       "4415   9z5k7Yg5A3   Z2vQ1xlqrA  a35r6KG5L6  NWMW8ZN5lz      KXMeAPkM64   \n",
       "\n",
       "     away_manager_id  expanded_minutes  season_name  matchday  attendance  \\\n",
       "0         NWMWxKe5lz               102         2023        45       20802   \n",
       "1         vzqoAjJMap               106         2023        44       22221   \n",
       "2         KPqjO38Q6v               132         2023        44       25513   \n",
       "3         NWMWxKe5lz               101         2023        43       33649   \n",
       "4         N6MmpyLQEG                99         2023        43       20319   \n",
       "...              ...               ...          ...       ...         ...   \n",
       "4411      315VKkEq9x               101         2013         1       38998   \n",
       "4412      gjMNk8v5Kp               100         2013         1       18075   \n",
       "4413      vzqoAjJMap                95         2013         1       20019   \n",
       "4414      gjMNk0Y5Kp                97         2013         1       21000   \n",
       "4415      N6MmpyLQEG                97         2013         1       18160   \n",
       "\n",
       "      knockout_game         last_updated_utc  extra_time  penalties  \\\n",
       "0              True  2023-12-09 23:14:03 UTC         NaN        NaN   \n",
       "1              True  2023-12-06 12:05:10 UTC         NaN        NaN   \n",
       "2              True  2023-12-06 11:59:11 UTC         1.0        NaN   \n",
       "3              True  2023-11-29 22:26:50 UTC         NaN        NaN   \n",
       "4              True  2023-11-29 22:23:05 UTC         NaN        NaN   \n",
       "...             ...                      ...         ...        ...   \n",
       "4411          False                      NaN         NaN        NaN   \n",
       "4412          False                      NaN         NaN        NaN   \n",
       "4413          False                      NaN         NaN        NaN   \n",
       "4414          False                      NaN         NaN        NaN   \n",
       "4415          False                      NaN         NaN        NaN   \n",
       "\n",
       "      home_penalties  away_penalties  \n",
       "0                NaN             NaN  \n",
       "1                NaN             NaN  \n",
       "2                NaN             NaN  \n",
       "3                NaN             NaN  \n",
       "4                NaN             NaN  \n",
       "...              ...             ...  \n",
       "4411             NaN             NaN  \n",
       "4412             NaN             NaN  \n",
       "4413             NaN             NaN  \n",
       "4414             NaN             NaN  \n",
       "4415             NaN             NaN  \n",
       "\n",
       "[4416 rows x 20 columns]"
      ]
     },
     "execution_count": 51,
     "metadata": {},
     "output_type": "execute_result"
    }
   ],
   "source": [
    "asa_games"
   ]
  },
  {
   "cell_type": "code",
   "execution_count": null,
   "id": "69cdbac9-a0f8-4375-abee-90d1bea35749",
   "metadata": {},
   "outputs": [],
   "source": []
  }
 ],
 "metadata": {
  "kernelspec": {
   "display_name": "Python [conda env:asa]",
   "language": "python",
   "name": "conda-env-asa-py"
  },
  "language_info": {
   "codemirror_mode": {
    "name": "ipython",
    "version": 3
   },
   "file_extension": ".py",
   "mimetype": "text/x-python",
   "name": "python",
   "nbconvert_exporter": "python",
   "pygments_lexer": "ipython3",
   "version": "3.9.18"
  }
 },
 "nbformat": 4,
 "nbformat_minor": 5
}
